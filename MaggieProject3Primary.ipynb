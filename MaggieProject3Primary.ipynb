{
 "cells": [
  {
   "cell_type": "code",
   "execution_count": 1,
   "metadata": {},
   "outputs": [],
   "source": [
    "import pandas as pd\n",
    "import polars as pl\n",
    "import sqlite3"
   ]
  },
  {
   "cell_type": "code",
   "execution_count": 2,
   "metadata": {},
   "outputs": [
    {
     "data": {
      "text/html": [
       "<div><style>\n",
       ".dataframe > thead > tr,\n",
       ".dataframe > tbody > tr {\n",
       "  text-align: right;\n",
       "  white-space: pre-wrap;\n",
       "}\n",
       "</style>\n",
       "<small>shape: (5, 16)</small><table border=\"1\" class=\"dataframe\"><thead><tr><th>SUBJECT_ID</th><th>BIRTH_YEAR</th><th>GENDER_FACTOR</th><th>RACE_FACTOR</th><th>ETHNICITY_FACTOR</th><th>AGE_START_YEARS</th><th>AGE_END_YEARS</th><th>ATOPIC_DERM_START</th><th>ATOPIC_DERM_END</th><th>ALLERGIC_RHINITIS_START</th><th>ALLERGIC_RHINITIS_END</th><th>ASTHMA_START</th><th>ASTHMA_END</th><th>FIRST_ASTHMARX</th><th>LAST_ASTHMARX</th><th>NUM_ASTHMARX</th></tr><tr><td>i64</td><td>i64</td><td>str</td><td>str</td><td>str</td><td>f64</td><td>f64</td><td>f64</td><td>f64</td><td>f64</td><td>f64</td><td>f64</td><td>f64</td><td>f64</td><td>f64</td><td>i64</td></tr></thead><tbody><tr><td>1</td><td>2006</td><td>&quot;S1 - Female&quot;</td><td>&quot;R1 - Black&quot;</td><td>&quot;E0 - Non-Hispa…</td><td>0.093087</td><td>3.164956</td><td>null</td><td>null</td><td>null</td><td>null</td><td>null</td><td>null</td><td>null</td><td>null</td><td>null</td></tr><tr><td>2</td><td>1994</td><td>&quot;S1 - Female&quot;</td><td>&quot;R0 - White&quot;</td><td>&quot;E0 - Non-Hispa…</td><td>12.232717</td><td>18.880219</td><td>null</td><td>null</td><td>null</td><td>null</td><td>null</td><td>null</td><td>12.262834</td><td>18.880219</td><td>2</td></tr><tr><td>3</td><td>2006</td><td>&quot;S0 - Male&quot;</td><td>&quot;R0 - White&quot;</td><td>&quot;E1 - Hispanic&quot;</td><td>0.010951</td><td>6.726899</td><td>4.884326</td><td>null</td><td>3.917864</td><td>6.157426</td><td>5.127995</td><td>null</td><td>1.404517</td><td>6.157426</td><td>4</td></tr><tr><td>4</td><td>2004</td><td>&quot;S0 - Male&quot;</td><td>&quot;R4 - Unknown&quot;</td><td>&quot;E1 - Hispanic&quot;</td><td>2.398357</td><td>9.111567</td><td>null</td><td>null</td><td>null</td><td>null</td><td>null</td><td>null</td><td>null</td><td>null</td><td>null</td></tr><tr><td>5</td><td>2006</td><td>&quot;S1 - Female&quot;</td><td>&quot;R1 - Black&quot;</td><td>&quot;E0 - Non-Hispa…</td><td>0.013689</td><td>6.193018</td><td>null</td><td>null</td><td>null</td><td>null</td><td>null</td><td>null</td><td>null</td><td>null</td><td>null</td></tr></tbody></table></div>"
      ],
      "text/plain": [
       "shape: (5, 16)\n",
       "┌───────────┬───────────┬───────────┬───────────┬───┬───────────┬───────────┬───────────┬──────────┐\n",
       "│ SUBJECT_I ┆ BIRTH_YEA ┆ GENDER_FA ┆ RACE_FACT ┆ … ┆ ASTHMA_EN ┆ FIRST_AST ┆ LAST_ASTH ┆ NUM_ASTH │\n",
       "│ D         ┆ R         ┆ CTOR      ┆ OR        ┆   ┆ D         ┆ HMARX     ┆ MARX      ┆ MARX     │\n",
       "│ ---       ┆ ---       ┆ ---       ┆ ---       ┆   ┆ ---       ┆ ---       ┆ ---       ┆ ---      │\n",
       "│ i64       ┆ i64       ┆ str       ┆ str       ┆   ┆ f64       ┆ f64       ┆ f64       ┆ i64      │\n",
       "╞═══════════╪═══════════╪═══════════╪═══════════╪═══╪═══════════╪═══════════╪═══════════╪══════════╡\n",
       "│ 1         ┆ 2006      ┆ S1 -      ┆ R1 -      ┆ … ┆ null      ┆ null      ┆ null      ┆ null     │\n",
       "│           ┆           ┆ Female    ┆ Black     ┆   ┆           ┆           ┆           ┆          │\n",
       "│ 2         ┆ 1994      ┆ S1 -      ┆ R0 -      ┆ … ┆ null      ┆ 12.262834 ┆ 18.880219 ┆ 2        │\n",
       "│           ┆           ┆ Female    ┆ White     ┆   ┆           ┆           ┆           ┆          │\n",
       "│ 3         ┆ 2006      ┆ S0 - Male ┆ R0 -      ┆ … ┆ null      ┆ 1.404517  ┆ 6.157426  ┆ 4        │\n",
       "│           ┆           ┆           ┆ White     ┆   ┆           ┆           ┆           ┆          │\n",
       "│ 4         ┆ 2004      ┆ S0 - Male ┆ R4 -      ┆ … ┆ null      ┆ null      ┆ null      ┆ null     │\n",
       "│           ┆           ┆           ┆ Unknown   ┆   ┆           ┆           ┆           ┆          │\n",
       "│ 5         ┆ 2006      ┆ S1 -      ┆ R1 -      ┆ … ┆ null      ┆ null      ┆ null      ┆ null     │\n",
       "│           ┆           ┆ Female    ┆ Black     ┆   ┆           ┆           ┆           ┆          │\n",
       "└───────────┴───────────┴───────────┴───────────┴───┴───────────┴───────────┴───────────┴──────────┘"
      ]
     },
     "execution_count": 2,
     "metadata": {},
     "output_type": "execute_result"
    }
   ],
   "source": [
    "#determine what columns we want to keep\n",
    "columns_to_keep = ['SUBJECT_ID', 'BIRTH_YEAR', 'GENDER_FACTOR', 'RACE_FACTOR', 'ETHNICITY_FACTOR', 'AGE_START_YEARS', 'AGE_END_YEARS', 'ATOPIC_DERM_START', 'ATOPIC_DERM_END', 'ALLERGIC_RHINITIS_START', 'ALLERGIC_RHINITIS_END', 'ASTHMA_START', 'ASTHMA_END', 'FIRST_ASTHMARX', 'LAST_ASTHMARX', 'NUM_ASTHMARX']\n",
    "\n",
    "#load CSV file into a dataframe\n",
    "df_csv = pl.read_csv(\"food-allergy-analysis-Zenodo.csv\").select(columns_to_keep)\n",
    "df_csv.head()\n"
   ]
  },
  {
   "cell_type": "code",
   "execution_count": 3,
   "metadata": {},
   "outputs": [
    {
     "data": {
      "text/html": [
       "<div><style>\n",
       ".dataframe > thead > tr,\n",
       ".dataframe > tbody > tr {\n",
       "  text-align: right;\n",
       "  white-space: pre-wrap;\n",
       "}\n",
       "</style>\n",
       "<small>shape: (9, 17)</small><table border=\"1\" class=\"dataframe\"><thead><tr><th>describe</th><th>SUBJECT_ID</th><th>BIRTH_YEAR</th><th>GENDER_FACTOR</th><th>RACE_FACTOR</th><th>ETHNICITY_FACTOR</th><th>AGE_START_YEARS</th><th>AGE_END_YEARS</th><th>ATOPIC_DERM_START</th><th>ATOPIC_DERM_END</th><th>ALLERGIC_RHINITIS_START</th><th>ALLERGIC_RHINITIS_END</th><th>ASTHMA_START</th><th>ASTHMA_END</th><th>FIRST_ASTHMARX</th><th>LAST_ASTHMARX</th><th>NUM_ASTHMARX</th></tr><tr><td>str</td><td>f64</td><td>f64</td><td>str</td><td>str</td><td>str</td><td>f64</td><td>f64</td><td>f64</td><td>f64</td><td>f64</td><td>f64</td><td>f64</td><td>f64</td><td>f64</td><td>f64</td><td>f64</td></tr></thead><tbody><tr><td>&quot;count&quot;</td><td>333200.0</td><td>333200.0</td><td>&quot;333200&quot;</td><td>&quot;333200&quot;</td><td>&quot;333200&quot;</td><td>333200.0</td><td>333200.0</td><td>49515.0</td><td>41732.0</td><td>55567.0</td><td>25326.0</td><td>63874.0</td><td>25465.0</td><td>117550.0</td><td>117550.0</td><td>117550.0</td></tr><tr><td>&quot;null_count&quot;</td><td>0.0</td><td>0.0</td><td>&quot;0&quot;</td><td>&quot;0&quot;</td><td>&quot;0&quot;</td><td>0.0</td><td>0.0</td><td>283685.0</td><td>291468.0</td><td>277633.0</td><td>307874.0</td><td>269326.0</td><td>307735.0</td><td>215650.0</td><td>215650.0</td><td>215650.0</td></tr><tr><td>&quot;mean&quot;</td><td>166600.5</td><td>2001.261191</td><td>null</td><td>null</td><td>null</td><td>3.94214</td><td>10.336654</td><td>4.282436</td><td>5.665702</td><td>7.275146</td><td>12.930347</td><td>5.979887</td><td>12.377142</td><td>6.439342</td><td>8.943442</td><td>5.298477</td></tr><tr><td>&quot;std&quot;</td><td>96186.699184</td><td>6.603479</td><td>null</td><td>null</td><td>null</td><td>4.646174</td><td>5.623426</td><td>4.683577</td><td>5.016386</td><td>4.190266</td><td>4.292382</td><td>4.390784</td><td>4.895197</td><td>4.863507</td><td>5.284163</td><td>6.486661</td></tr><tr><td>&quot;min&quot;</td><td>1.0</td><td>1983.0</td><td>&quot;S0 - Male&quot;</td><td>&quot;R0 - White&quot;</td><td>&quot;E0 - Non-Hispa…</td><td>-4.312115</td><td>1.002053</td><td>-103.96167</td><td>0.013689</td><td>-95.238877</td><td>2.488706</td><td>1.002053</td><td>3.003422</td><td>1.002053</td><td>1.002053</td><td>1.0</td></tr><tr><td>&quot;25%&quot;</td><td>83301.0</td><td>1996.0</td><td>null</td><td>null</td><td>null</td><td>0.021903</td><td>5.289528</td><td>0.654346</td><td>1.448323</td><td>3.912389</td><td>9.590691</td><td>2.16564</td><td>8.13963</td><td>2.105407</td><td>4.298426</td><td>1.0</td></tr><tr><td>&quot;50%&quot;</td><td>166601.0</td><td>2002.0</td><td>null</td><td>null</td><td>null</td><td>1.763176</td><td>10.193018</td><td>2.255989</td><td>4.112252</td><td>6.721424</td><td>13.199179</td><td>4.807666</td><td>12.539357</td><td>5.023956</td><td>8.268309</td><td>3.0</td></tr><tr><td>&quot;75%&quot;</td><td>249900.0</td><td>2007.0</td><td>null</td><td>null</td><td>null</td><td>7.208761</td><td>15.616701</td><td>6.811773</td><td>8.925394</td><td>10.220397</td><td>16.580424</td><td>9.09514</td><td>16.843258</td><td>10.01232</td><td>13.341547</td><td>7.0</td></tr><tr><td>&quot;max&quot;</td><td>333200.0</td><td>2012.0</td><td>&quot;S1 - Female&quot;</td><td>&quot;R4 - Unknown&quot;</td><td>&quot;E1 - Hispanic&quot;</td><td>17.984942</td><td>18.997947</td><td>23.342916</td><td>24.626968</td><td>23.649555</td><td>28.616016</td><td>23.649555</td><td>28.52293</td><td>18.997947</td><td>18.997947</td><td>118.0</td></tr></tbody></table></div>"
      ],
      "text/plain": [
       "shape: (9, 17)\n",
       "┌───────────┬───────────┬───────────┬───────────┬───┬───────────┬───────────┬───────────┬──────────┐\n",
       "│ describe  ┆ SUBJECT_I ┆ BIRTH_YEA ┆ GENDER_FA ┆ … ┆ ASTHMA_EN ┆ FIRST_AST ┆ LAST_ASTH ┆ NUM_ASTH │\n",
       "│ ---       ┆ D         ┆ R         ┆ CTOR      ┆   ┆ D         ┆ HMARX     ┆ MARX      ┆ MARX     │\n",
       "│ str       ┆ ---       ┆ ---       ┆ ---       ┆   ┆ ---       ┆ ---       ┆ ---       ┆ ---      │\n",
       "│           ┆ f64       ┆ f64       ┆ str       ┆   ┆ f64       ┆ f64       ┆ f64       ┆ f64      │\n",
       "╞═══════════╪═══════════╪═══════════╪═══════════╪═══╪═══════════╪═══════════╪═══════════╪══════════╡\n",
       "│ count     ┆ 333200.0  ┆ 333200.0  ┆ 333200    ┆ … ┆ 25465.0   ┆ 117550.0  ┆ 117550.0  ┆ 117550.0 │\n",
       "│ null_coun ┆ 0.0       ┆ 0.0       ┆ 0         ┆ … ┆ 307735.0  ┆ 215650.0  ┆ 215650.0  ┆ 215650.0 │\n",
       "│ t         ┆           ┆           ┆           ┆   ┆           ┆           ┆           ┆          │\n",
       "│ mean      ┆ 166600.5  ┆ 2001.2611 ┆ null      ┆ … ┆ 12.377142 ┆ 6.439342  ┆ 8.943442  ┆ 5.298477 │\n",
       "│           ┆           ┆ 91        ┆           ┆   ┆           ┆           ┆           ┆          │\n",
       "│ std       ┆ 96186.699 ┆ 6.603479  ┆ null      ┆ … ┆ 4.895197  ┆ 4.863507  ┆ 5.284163  ┆ 6.486661 │\n",
       "│           ┆ 184       ┆           ┆           ┆   ┆           ┆           ┆           ┆          │\n",
       "│ min       ┆ 1.0       ┆ 1983.0    ┆ S0 - Male ┆ … ┆ 3.003422  ┆ 1.002053  ┆ 1.002053  ┆ 1.0      │\n",
       "│ 25%       ┆ 83301.0   ┆ 1996.0    ┆ null      ┆ … ┆ 8.13963   ┆ 2.105407  ┆ 4.298426  ┆ 1.0      │\n",
       "│ 50%       ┆ 166601.0  ┆ 2002.0    ┆ null      ┆ … ┆ 12.539357 ┆ 5.023956  ┆ 8.268309  ┆ 3.0      │\n",
       "│ 75%       ┆ 249900.0  ┆ 2007.0    ┆ null      ┆ … ┆ 16.843258 ┆ 10.01232  ┆ 13.341547 ┆ 7.0      │\n",
       "│ max       ┆ 333200.0  ┆ 2012.0    ┆ S1 -      ┆ … ┆ 28.52293  ┆ 18.997947 ┆ 18.997947 ┆ 118.0    │\n",
       "│           ┆           ┆           ┆ Female    ┆   ┆           ┆           ┆           ┆          │\n",
       "└───────────┴───────────┴───────────┴───────────┴───┴───────────┴───────────┴───────────┴──────────┘"
      ]
     },
     "execution_count": 3,
     "metadata": {},
     "output_type": "execute_result"
    }
   ],
   "source": [
    "df_csv.describe()"
   ]
  },
  {
   "cell_type": "code",
   "execution_count": 4,
   "metadata": {},
   "outputs": [
    {
     "data": {
      "text/html": [
       "<div><style>\n",
       ".dataframe > thead > tr,\n",
       ".dataframe > tbody > tr {\n",
       "  text-align: right;\n",
       "  white-space: pre-wrap;\n",
       "}\n",
       "</style>\n",
       "<small>shape: (9, 17)</small><table border=\"1\" class=\"dataframe\"><thead><tr><th>describe</th><th>SUBJECT_ID</th><th>BIRTH_YEAR</th><th>GENDER_FACTOR</th><th>RACE_FACTOR</th><th>ETHNICITY_FACTOR</th><th>AGE_START_YEARS</th><th>AGE_END_YEARS</th><th>ATOPIC_DERM_START</th><th>ATOPIC_DERM_END</th><th>ALLERGIC_RHINITIS_START</th><th>ALLERGIC_RHINITIS_END</th><th>ASTHMA_START</th><th>ASTHMA_END</th><th>FIRST_ASTHMARX</th><th>LAST_ASTHMARX</th><th>NUM_ASTHMARX</th></tr><tr><td>str</td><td>f64</td><td>f64</td><td>str</td><td>str</td><td>str</td><td>f64</td><td>f64</td><td>f64</td><td>f64</td><td>f64</td><td>f64</td><td>f64</td><td>f64</td><td>f64</td><td>f64</td><td>f64</td></tr></thead><tbody><tr><td>&quot;count&quot;</td><td>333175.0</td><td>333175.0</td><td>&quot;333175&quot;</td><td>&quot;333175&quot;</td><td>&quot;333175&quot;</td><td>333175.0</td><td>333175.0</td><td>49510.0</td><td>41727.0</td><td>55565.0</td><td>25326.0</td><td>63868.0</td><td>25463.0</td><td>117540.0</td><td>117540.0</td><td>117540.0</td></tr><tr><td>&quot;null_count&quot;</td><td>0.0</td><td>0.0</td><td>&quot;0&quot;</td><td>&quot;0&quot;</td><td>&quot;0&quot;</td><td>0.0</td><td>0.0</td><td>283665.0</td><td>291448.0</td><td>277610.0</td><td>307849.0</td><td>269307.0</td><td>307712.0</td><td>215635.0</td><td>215635.0</td><td>215635.0</td></tr><tr><td>&quot;mean&quot;</td><td>166597.437302</td><td>2001.260872</td><td>null</td><td>null</td><td>null</td><td>3.942466</td><td>10.336952</td><td>4.282733</td><td>5.666013</td><td>7.275326</td><td>12.930347</td><td>5.980232</td><td>12.377673</td><td>6.439626</td><td>8.943775</td><td>5.29852</td></tr><tr><td>&quot;std&quot;</td><td>96186.767275</td><td>6.603568</td><td>null</td><td>null</td><td>null</td><td>4.64619</td><td>5.623476</td><td>4.683714</td><td>5.016552</td><td>4.190232</td><td>4.292382</td><td>4.390803</td><td>4.895017</td><td>4.863585</td><td>5.284211</td><td>6.486858</td></tr><tr><td>&quot;min&quot;</td><td>1.0</td><td>1983.0</td><td>&quot;S0 - Male&quot;</td><td>&quot;R0 - White&quot;</td><td>&quot;E0 - Non-Hispa…</td><td>0.0</td><td>1.002053</td><td>-103.96167</td><td>0.013689</td><td>-95.238877</td><td>2.488706</td><td>1.002053</td><td>3.003422</td><td>1.002053</td><td>1.002053</td><td>1.0</td></tr><tr><td>&quot;25%&quot;</td><td>83297.0</td><td>1996.0</td><td>null</td><td>null</td><td>null</td><td>0.021903</td><td>5.289528</td><td>0.654346</td><td>1.448323</td><td>3.912389</td><td>9.590691</td><td>2.16564</td><td>8.13963</td><td>2.105407</td><td>4.298426</td><td>1.0</td></tr><tr><td>&quot;50%&quot;</td><td>166596.0</td><td>2002.0</td><td>null</td><td>null</td><td>null</td><td>1.765914</td><td>10.193018</td><td>2.255989</td><td>4.112252</td><td>6.721424</td><td>13.199179</td><td>4.810404</td><td>12.539357</td><td>5.023956</td><td>8.271047</td><td>3.0</td></tr><tr><td>&quot;75%&quot;</td><td>249898.0</td><td>2007.0</td><td>null</td><td>null</td><td>null</td><td>7.208761</td><td>15.616701</td><td>6.811773</td><td>8.930869</td><td>10.220397</td><td>16.580424</td><td>9.09514</td><td>16.843258</td><td>10.01232</td><td>13.341547</td><td>7.0</td></tr><tr><td>&quot;max&quot;</td><td>333200.0</td><td>2012.0</td><td>&quot;S1 - Female&quot;</td><td>&quot;R4 - Unknown&quot;</td><td>&quot;E1 - Hispanic&quot;</td><td>17.984942</td><td>18.997947</td><td>23.342916</td><td>24.626968</td><td>23.649555</td><td>28.616016</td><td>23.649555</td><td>28.52293</td><td>18.997947</td><td>18.997947</td><td>118.0</td></tr></tbody></table></div>"
      ],
      "text/plain": [
       "shape: (9, 17)\n",
       "┌───────────┬───────────┬───────────┬───────────┬───┬───────────┬───────────┬───────────┬──────────┐\n",
       "│ describe  ┆ SUBJECT_I ┆ BIRTH_YEA ┆ GENDER_FA ┆ … ┆ ASTHMA_EN ┆ FIRST_AST ┆ LAST_ASTH ┆ NUM_ASTH │\n",
       "│ ---       ┆ D         ┆ R         ┆ CTOR      ┆   ┆ D         ┆ HMARX     ┆ MARX      ┆ MARX     │\n",
       "│ str       ┆ ---       ┆ ---       ┆ ---       ┆   ┆ ---       ┆ ---       ┆ ---       ┆ ---      │\n",
       "│           ┆ f64       ┆ f64       ┆ str       ┆   ┆ f64       ┆ f64       ┆ f64       ┆ f64      │\n",
       "╞═══════════╪═══════════╪═══════════╪═══════════╪═══╪═══════════╪═══════════╪═══════════╪══════════╡\n",
       "│ count     ┆ 333175.0  ┆ 333175.0  ┆ 333175    ┆ … ┆ 25463.0   ┆ 117540.0  ┆ 117540.0  ┆ 117540.0 │\n",
       "│ null_coun ┆ 0.0       ┆ 0.0       ┆ 0         ┆ … ┆ 307712.0  ┆ 215635.0  ┆ 215635.0  ┆ 215635.0 │\n",
       "│ t         ┆           ┆           ┆           ┆   ┆           ┆           ┆           ┆          │\n",
       "│ mean      ┆ 166597.43 ┆ 2001.2608 ┆ null      ┆ … ┆ 12.377673 ┆ 6.439626  ┆ 8.943775  ┆ 5.29852  │\n",
       "│           ┆ 7302      ┆ 72        ┆           ┆   ┆           ┆           ┆           ┆          │\n",
       "│ std       ┆ 96186.767 ┆ 6.603568  ┆ null      ┆ … ┆ 4.895017  ┆ 4.863585  ┆ 5.284211  ┆ 6.486858 │\n",
       "│           ┆ 275       ┆           ┆           ┆   ┆           ┆           ┆           ┆          │\n",
       "│ min       ┆ 1.0       ┆ 1983.0    ┆ S0 - Male ┆ … ┆ 3.003422  ┆ 1.002053  ┆ 1.002053  ┆ 1.0      │\n",
       "│ 25%       ┆ 83297.0   ┆ 1996.0    ┆ null      ┆ … ┆ 8.13963   ┆ 2.105407  ┆ 4.298426  ┆ 1.0      │\n",
       "│ 50%       ┆ 166596.0  ┆ 2002.0    ┆ null      ┆ … ┆ 12.539357 ┆ 5.023956  ┆ 8.271047  ┆ 3.0      │\n",
       "│ 75%       ┆ 249898.0  ┆ 2007.0    ┆ null      ┆ … ┆ 16.843258 ┆ 10.01232  ┆ 13.341547 ┆ 7.0      │\n",
       "│ max       ┆ 333200.0  ┆ 2012.0    ┆ S1 -      ┆ … ┆ 28.52293  ┆ 18.997947 ┆ 18.997947 ┆ 118.0    │\n",
       "│           ┆           ┆           ┆ Female    ┆   ┆           ┆           ┆           ┆          │\n",
       "└───────────┴───────────┴───────────┴───────────┴───┴───────────┴───────────┴───────────┴──────────┘"
      ]
     },
     "execution_count": 4,
     "metadata": {},
     "output_type": "execute_result"
    }
   ],
   "source": [
    "#dropping all rows that have a negitave AGE_START_YEARS\n",
    "df_csv = df_csv.filter(df_csv['AGE_START_YEARS'] >= 0)\n",
    "df_csv.describe()"
   ]
  },
  {
   "cell_type": "code",
   "execution_count": 5,
   "metadata": {},
   "outputs": [
    {
     "data": {
      "text/html": [
       "<div><style>\n",
       ".dataframe > thead > tr,\n",
       ".dataframe > tbody > tr {\n",
       "  text-align: right;\n",
       "  white-space: pre-wrap;\n",
       "}\n",
       "</style>\n",
       "<small>shape: (9, 17)</small><table border=\"1\" class=\"dataframe\"><thead><tr><th>describe</th><th>SUBJECT_ID</th><th>BIRTH_YEAR</th><th>GENDER_FACTOR</th><th>RACE_FACTOR</th><th>ETHNICITY_FACTOR</th><th>AGE_START_YEARS</th><th>AGE_END_YEARS</th><th>ATOPIC_DERM_START</th><th>ATOPIC_DERM_END</th><th>ALLERGIC_RHINITIS_START</th><th>ALLERGIC_RHINITIS_END</th><th>ASTHMA_START</th><th>ASTHMA_END</th><th>FIRST_ASTHMARX</th><th>LAST_ASTHMARX</th><th>NUM_ASTHMARX</th></tr><tr><td>str</td><td>f64</td><td>f64</td><td>str</td><td>str</td><td>str</td><td>f64</td><td>f64</td><td>f64</td><td>f64</td><td>f64</td><td>f64</td><td>f64</td><td>f64</td><td>f64</td><td>f64</td><td>f64</td></tr></thead><tbody><tr><td>&quot;count&quot;</td><td>161894.0</td><td>161894.0</td><td>&quot;161894&quot;</td><td>&quot;161894&quot;</td><td>&quot;161894&quot;</td><td>161894.0</td><td>161894.0</td><td>49510.0</td><td>41727.0</td><td>55565.0</td><td>25326.0</td><td>63868.0</td><td>25463.0</td><td>117540.0</td><td>117540.0</td><td>117540.0</td></tr><tr><td>&quot;null_count&quot;</td><td>0.0</td><td>0.0</td><td>&quot;0&quot;</td><td>&quot;0&quot;</td><td>&quot;0&quot;</td><td>0.0</td><td>0.0</td><td>112384.0</td><td>120167.0</td><td>106329.0</td><td>136568.0</td><td>98026.0</td><td>136431.0</td><td>44354.0</td><td>44354.0</td><td>44354.0</td></tr><tr><td>&quot;mean&quot;</td><td>170582.20136</td><td>2001.472939</td><td>null</td><td>null</td><td>null</td><td>3.412443</td><td>10.512176</td><td>4.282733</td><td>5.666013</td><td>7.275326</td><td>12.930347</td><td>5.980232</td><td>12.377673</td><td>6.439626</td><td>8.943775</td><td>5.29852</td></tr><tr><td>&quot;std&quot;</td><td>98465.4061</td><td>6.059429</td><td>null</td><td>null</td><td>null</td><td>4.248083</td><td>5.287106</td><td>4.683714</td><td>5.016552</td><td>4.190232</td><td>4.292382</td><td>4.390803</td><td>4.895017</td><td>4.863585</td><td>5.284211</td><td>6.486858</td></tr><tr><td>&quot;min&quot;</td><td>2.0</td><td>1983.0</td><td>&quot;S0 - Male&quot;</td><td>&quot;R0 - White&quot;</td><td>&quot;E0 - Non-Hispa…</td><td>0.0</td><td>1.007529</td><td>-103.96167</td><td>0.013689</td><td>-95.238877</td><td>2.488706</td><td>1.002053</td><td>3.003422</td><td>1.002053</td><td>1.002053</td><td>1.0</td></tr><tr><td>&quot;25%&quot;</td><td>81065.0</td><td>1997.0</td><td>null</td><td>null</td><td>null</td><td>0.021903</td><td>6.028747</td><td>0.654346</td><td>1.448323</td><td>3.912389</td><td>9.590691</td><td>2.16564</td><td>8.13963</td><td>2.105407</td><td>4.298426</td><td>1.0</td></tr><tr><td>&quot;50%&quot;</td><td>176365.0</td><td>2002.0</td><td>null</td><td>null</td><td>null</td><td>1.256674</td><td>10.272416</td><td>2.255989</td><td>4.112252</td><td>6.721424</td><td>13.199179</td><td>4.810404</td><td>12.539357</td><td>5.023956</td><td>8.271047</td><td>3.0</td></tr><tr><td>&quot;75%&quot;</td><td>256717.0</td><td>2006.0</td><td>null</td><td>null</td><td>null</td><td>6.031485</td><td>15.225188</td><td>6.811773</td><td>8.930869</td><td>10.220397</td><td>16.580424</td><td>9.09514</td><td>16.843258</td><td>10.01232</td><td>13.341547</td><td>7.0</td></tr><tr><td>&quot;max&quot;</td><td>333200.0</td><td>2012.0</td><td>&quot;S1 - Female&quot;</td><td>&quot;R4 - Unknown&quot;</td><td>&quot;E1 - Hispanic&quot;</td><td>17.924709</td><td>18.997947</td><td>23.342916</td><td>24.626968</td><td>23.649555</td><td>28.616016</td><td>23.649555</td><td>28.52293</td><td>18.997947</td><td>18.997947</td><td>118.0</td></tr></tbody></table></div>"
      ],
      "text/plain": [
       "shape: (9, 17)\n",
       "┌───────────┬───────────┬───────────┬───────────┬───┬───────────┬───────────┬───────────┬──────────┐\n",
       "│ describe  ┆ SUBJECT_I ┆ BIRTH_YEA ┆ GENDER_FA ┆ … ┆ ASTHMA_EN ┆ FIRST_AST ┆ LAST_ASTH ┆ NUM_ASTH │\n",
       "│ ---       ┆ D         ┆ R         ┆ CTOR      ┆   ┆ D         ┆ HMARX     ┆ MARX      ┆ MARX     │\n",
       "│ str       ┆ ---       ┆ ---       ┆ ---       ┆   ┆ ---       ┆ ---       ┆ ---       ┆ ---      │\n",
       "│           ┆ f64       ┆ f64       ┆ str       ┆   ┆ f64       ┆ f64       ┆ f64       ┆ f64      │\n",
       "╞═══════════╪═══════════╪═══════════╪═══════════╪═══╪═══════════╪═══════════╪═══════════╪══════════╡\n",
       "│ count     ┆ 161894.0  ┆ 161894.0  ┆ 161894    ┆ … ┆ 25463.0   ┆ 117540.0  ┆ 117540.0  ┆ 117540.0 │\n",
       "│ null_coun ┆ 0.0       ┆ 0.0       ┆ 0         ┆ … ┆ 136431.0  ┆ 44354.0   ┆ 44354.0   ┆ 44354.0  │\n",
       "│ t         ┆           ┆           ┆           ┆   ┆           ┆           ┆           ┆          │\n",
       "│ mean      ┆ 170582.20 ┆ 2001.4729 ┆ null      ┆ … ┆ 12.377673 ┆ 6.439626  ┆ 8.943775  ┆ 5.29852  │\n",
       "│           ┆ 136       ┆ 39        ┆           ┆   ┆           ┆           ┆           ┆          │\n",
       "│ std       ┆ 98465.406 ┆ 6.059429  ┆ null      ┆ … ┆ 4.895017  ┆ 4.863585  ┆ 5.284211  ┆ 6.486858 │\n",
       "│           ┆ 1         ┆           ┆           ┆   ┆           ┆           ┆           ┆          │\n",
       "│ min       ┆ 2.0       ┆ 1983.0    ┆ S0 - Male ┆ … ┆ 3.003422  ┆ 1.002053  ┆ 1.002053  ┆ 1.0      │\n",
       "│ 25%       ┆ 81065.0   ┆ 1997.0    ┆ null      ┆ … ┆ 8.13963   ┆ 2.105407  ┆ 4.298426  ┆ 1.0      │\n",
       "│ 50%       ┆ 176365.0  ┆ 2002.0    ┆ null      ┆ … ┆ 12.539357 ┆ 5.023956  ┆ 8.271047  ┆ 3.0      │\n",
       "│ 75%       ┆ 256717.0  ┆ 2006.0    ┆ null      ┆ … ┆ 16.843258 ┆ 10.01232  ┆ 13.341547 ┆ 7.0      │\n",
       "│ max       ┆ 333200.0  ┆ 2012.0    ┆ S1 -      ┆ … ┆ 28.52293  ┆ 18.997947 ┆ 18.997947 ┆ 118.0    │\n",
       "│           ┆           ┆           ┆ Female    ┆   ┆           ┆           ┆           ┆          │\n",
       "└───────────┴───────────┴───────────┴───────────┴───┴───────────┴───────────┴───────────┴──────────┘"
      ]
     },
     "execution_count": 5,
     "metadata": {},
     "output_type": "execute_result"
    }
   ],
   "source": [
    "#dropping rows where all specified columns columns have null values\n",
    "drop_na_columns = ['ATOPIC_DERM_START', 'ATOPIC_DERM_END', 'ALLERGIC_RHINITIS_START', 'ALLERGIC_RHINITIS_END', 'ASTHMA_START', 'ASTHMA_END', 'FIRST_ASTHMARX', 'LAST_ASTHMARX', 'NUM_ASTHMARX']\n",
    "\n",
    "\n",
    "# Filter rows where any of the specified columns have at least one non-null value\n",
    "filtered_df = df_csv.filter(\n",
    "    (df_csv[drop_na_columns[0]].is_not_null()) |\n",
    "    (df_csv[drop_na_columns[1]].is_not_null()) |\n",
    "    (df_csv[drop_na_columns[2]].is_not_null()) |\n",
    "    (df_csv[drop_na_columns[3]].is_not_null()) |\n",
    "    (df_csv[drop_na_columns[4]].is_not_null()) |\n",
    "    (df_csv[drop_na_columns[5]].is_not_null()) |\n",
    "    (df_csv[drop_na_columns[6]].is_not_null()) |\n",
    "    (df_csv[drop_na_columns[7]].is_not_null()) |\n",
    "    (df_csv[drop_na_columns[8]].is_not_null())\n",
    ")\n",
    "\n",
    "# Display the resulting DataFrame to confirm the count of subject_id's has reduced \n",
    "filtered_df.describe()"
   ]
  },
  {
   "cell_type": "code",
   "execution_count": 6,
   "metadata": {},
   "outputs": [
    {
     "data": {
      "text/html": [
       "<div><style>\n",
       ".dataframe > thead > tr,\n",
       ".dataframe > tbody > tr {\n",
       "  text-align: right;\n",
       "  white-space: pre-wrap;\n",
       "}\n",
       "</style>\n",
       "<small>shape: (5, 16)</small><table border=\"1\" class=\"dataframe\"><thead><tr><th>SUBJECT_ID</th><th>BIRTH_YEAR</th><th>GENDER_FACTOR</th><th>RACE_FACTOR</th><th>ETHNICITY_FACTOR</th><th>AGE_START_YEARS</th><th>AGE_END_YEARS</th><th>ATOPIC_DERM_START</th><th>ATOPIC_DERM_END</th><th>ALLERGIC_RHINITIS_START</th><th>ALLERGIC_RHINITIS_END</th><th>ASTHMA_START</th><th>ASTHMA_END</th><th>FIRST_ASTHMARX</th><th>LAST_ASTHMARX</th><th>NUM_ASTHMARX</th></tr><tr><td>i64</td><td>i64</td><td>str</td><td>str</td><td>str</td><td>f64</td><td>f64</td><td>f64</td><td>f64</td><td>f64</td><td>f64</td><td>f64</td><td>f64</td><td>f64</td><td>f64</td><td>i64</td></tr></thead><tbody><tr><td>2</td><td>1994</td><td>&quot;S1 - Female&quot;</td><td>&quot;R0 - White&quot;</td><td>&quot;E0 - Non-Hispa…</td><td>12.232717</td><td>18.880219</td><td>null</td><td>null</td><td>null</td><td>null</td><td>null</td><td>null</td><td>12.262834</td><td>18.880219</td><td>2</td></tr><tr><td>3</td><td>2006</td><td>&quot;S0 - Male&quot;</td><td>&quot;R0 - White&quot;</td><td>&quot;E1 - Hispanic&quot;</td><td>0.010951</td><td>6.726899</td><td>4.884326</td><td>null</td><td>3.917864</td><td>6.157426</td><td>5.127995</td><td>null</td><td>1.404517</td><td>6.157426</td><td>4</td></tr><tr><td>9</td><td>2006</td><td>&quot;S0 - Male&quot;</td><td>&quot;R0 - White&quot;</td><td>&quot;E0 - Non-Hispa…</td><td>0.019165</td><td>6.726899</td><td>1.015743</td><td>1.015743</td><td>null</td><td>null</td><td>null</td><td>null</td><td>null</td><td>null</td><td>null</td></tr><tr><td>11</td><td>2006</td><td>&quot;S0 - Male&quot;</td><td>&quot;R4 - Unknown&quot;</td><td>&quot;E0 - Non-Hispa…</td><td>0.019165</td><td>7.003422</td><td>null</td><td>null</td><td>null</td><td>null</td><td>null</td><td>null</td><td>7.003422</td><td>7.003422</td><td>1</td></tr><tr><td>14</td><td>2006</td><td>&quot;S0 - Male&quot;</td><td>&quot;R4 - Unknown&quot;</td><td>&quot;E1 - Hispanic&quot;</td><td>0.013689</td><td>5.91102</td><td>null</td><td>null</td><td>null</td><td>null</td><td>1.002053</td><td>3.789185</td><td>1.007529</td><td>1.524983</td><td>8</td></tr></tbody></table></div>"
      ],
      "text/plain": [
       "shape: (5, 16)\n",
       "┌───────────┬───────────┬───────────┬───────────┬───┬───────────┬───────────┬───────────┬──────────┐\n",
       "│ SUBJECT_I ┆ BIRTH_YEA ┆ GENDER_FA ┆ RACE_FACT ┆ … ┆ ASTHMA_EN ┆ FIRST_AST ┆ LAST_ASTH ┆ NUM_ASTH │\n",
       "│ D         ┆ R         ┆ CTOR      ┆ OR        ┆   ┆ D         ┆ HMARX     ┆ MARX      ┆ MARX     │\n",
       "│ ---       ┆ ---       ┆ ---       ┆ ---       ┆   ┆ ---       ┆ ---       ┆ ---       ┆ ---      │\n",
       "│ i64       ┆ i64       ┆ str       ┆ str       ┆   ┆ f64       ┆ f64       ┆ f64       ┆ i64      │\n",
       "╞═══════════╪═══════════╪═══════════╪═══════════╪═══╪═══════════╪═══════════╪═══════════╪══════════╡\n",
       "│ 2         ┆ 1994      ┆ S1 -      ┆ R0 -      ┆ … ┆ null      ┆ 12.262834 ┆ 18.880219 ┆ 2        │\n",
       "│           ┆           ┆ Female    ┆ White     ┆   ┆           ┆           ┆           ┆          │\n",
       "│ 3         ┆ 2006      ┆ S0 - Male ┆ R0 -      ┆ … ┆ null      ┆ 1.404517  ┆ 6.157426  ┆ 4        │\n",
       "│           ┆           ┆           ┆ White     ┆   ┆           ┆           ┆           ┆          │\n",
       "│ 9         ┆ 2006      ┆ S0 - Male ┆ R0 -      ┆ … ┆ null      ┆ null      ┆ null      ┆ null     │\n",
       "│           ┆           ┆           ┆ White     ┆   ┆           ┆           ┆           ┆          │\n",
       "│ 11        ┆ 2006      ┆ S0 - Male ┆ R4 -      ┆ … ┆ null      ┆ 7.003422  ┆ 7.003422  ┆ 1        │\n",
       "│           ┆           ┆           ┆ Unknown   ┆   ┆           ┆           ┆           ┆          │\n",
       "│ 14        ┆ 2006      ┆ S0 - Male ┆ R4 -      ┆ … ┆ 3.789185  ┆ 1.007529  ┆ 1.524983  ┆ 8        │\n",
       "│           ┆           ┆           ┆ Unknown   ┆   ┆           ┆           ┆           ┆          │\n",
       "└───────────┴───────────┴───────────┴───────────┴───┴───────────┴───────────┴───────────┴──────────┘"
      ]
     },
     "execution_count": 6,
     "metadata": {},
     "output_type": "execute_result"
    }
   ],
   "source": [
    "#view data to confirm rows contain values in at least one column regarding allergies ['ATOPIC_DERM_START', 'ATOPIC_DERM_END', 'ALLERGIC_RHINITIS_START', 'ALLERGIC_RHINITIS_END', 'ASTHMA_START', 'ASTHMA_END', 'FIRST_ASTHMARX', 'LAST_ASTHMARX', 'NUM_ASTHMARX']\n",
    "filtered_df.head()"
   ]
  }
 ],
 "metadata": {
  "kernelspec": {
   "display_name": "dev",
   "language": "python",
   "name": "python3"
  },
  "language_info": {
   "codemirror_mode": {
    "name": "ipython",
    "version": 3
   },
   "file_extension": ".py",
   "mimetype": "text/x-python",
   "name": "python",
   "nbconvert_exporter": "python",
   "pygments_lexer": "ipython3",
   "version": "3.10.13"
  }
 },
 "nbformat": 4,
 "nbformat_minor": 2
}
