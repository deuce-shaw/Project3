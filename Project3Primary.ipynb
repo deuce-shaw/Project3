{
 "cells": [
  {
   "cell_type": "code",
   "execution_count": 2,
   "metadata": {},
   "outputs": [],
   "source": [
    "import pandas as pd\n",
    "import polars as pl\n",
    "import sqlite3"
   ]
  },
  {
   "cell_type": "code",
   "execution_count": 8,
   "metadata": {},
   "outputs": [
    {
     "data": {
      "text/html": [
       "<div><style>\n",
       ".dataframe > thead > tr,\n",
       ".dataframe > tbody > tr {\n",
       "  text-align: right;\n",
       "  white-space: pre-wrap;\n",
       "}\n",
       "</style>\n",
       "<small>shape: (5, 50)</small><table border=\"1\" class=\"dataframe\"><thead><tr><th>SUBJECT_ID</th><th>BIRTH_YEAR</th><th>GENDER_FACTOR</th><th>RACE_FACTOR</th><th>ETHNICITY_FACTOR</th><th>PAYER_FACTOR</th><th>ATOPIC_MARCH_COHORT</th><th>AGE_START_YEARS</th><th>AGE_END_YEARS</th><th>SHELLFISH_ALG_START</th><th>SHELLFISH_ALG_END</th><th>FISH_ALG_START</th><th>FISH_ALG_END</th><th>MILK_ALG_START</th><th>MILK_ALG_END</th><th>SOY_ALG_START</th><th>SOY_ALG_END</th><th>EGG_ALG_START</th><th>EGG_ALG_END</th><th>WHEAT_ALG_START</th><th>WHEAT_ALG_END</th><th>PEANUT_ALG_START</th><th>PEANUT_ALG_END</th><th>SESAME_ALG_START</th><th>SESAME_ALG_END</th><th>TREENUT_ALG_START</th><th>TREENUT_ALG_END</th><th>WALNUT_ALG_START</th><th>WALNUT_ALG_END</th><th>PECAN_ALG_START</th><th>PECAN_ALG_END</th><th>PISTACH_ALG_START</th><th>PISTACH_ALG_END</th><th>ALMOND_ALG_START</th><th>ALMOND_ALG_END</th><th>BRAZIL_ALG_START</th><th>BRAZIL_ALG_END</th><th>HAZELNUT_ALG_START</th><th>HAZELNUT_ALG_END</th><th>CASHEW_ALG_START</th><th>CASHEW_ALG_END</th><th>ATOPIC_DERM_START</th><th>ATOPIC_DERM_END</th><th>ALLERGIC_RHINITIS_START</th><th>ALLERGIC_RHINITIS_END</th><th>ASTHMA_START</th><th>ASTHMA_END</th><th>FIRST_ASTHMARX</th><th>LAST_ASTHMARX</th><th>NUM_ASTHMARX</th></tr><tr><td>i64</td><td>i64</td><td>str</td><td>str</td><td>str</td><td>str</td><td>bool</td><td>f64</td><td>f64</td><td>str</td><td>str</td><td>str</td><td>str</td><td>str</td><td>str</td><td>str</td><td>str</td><td>str</td><td>str</td><td>str</td><td>str</td><td>str</td><td>str</td><td>str</td><td>str</td><td>str</td><td>str</td><td>str</td><td>str</td><td>str</td><td>str</td><td>str</td><td>str</td><td>str</td><td>str</td><td>str</td><td>str</td><td>str</td><td>str</td><td>str</td><td>str</td><td>str</td><td>str</td><td>str</td><td>str</td><td>str</td><td>str</td><td>str</td><td>str</td><td>str</td></tr></thead><tbody><tr><td>1</td><td>2006</td><td>&quot;S1 - Female&quot;</td><td>&quot;R1 - Black&quot;</td><td>&quot;E0 - Non-Hispa…</td><td>&quot;P1 - Medicaid&quot;</td><td>false</td><td>0.093087</td><td>3.164956</td><td>&quot;NA&quot;</td><td>&quot;NA&quot;</td><td>&quot;NA&quot;</td><td>&quot;NA&quot;</td><td>&quot;NA&quot;</td><td>&quot;NA&quot;</td><td>&quot;NA&quot;</td><td>&quot;NA&quot;</td><td>&quot;NA&quot;</td><td>&quot;NA&quot;</td><td>&quot;NA&quot;</td><td>&quot;NA&quot;</td><td>&quot;NA&quot;</td><td>&quot;NA&quot;</td><td>&quot;NA&quot;</td><td>&quot;NA&quot;</td><td>&quot;NA&quot;</td><td>&quot;NA&quot;</td><td>&quot;NA&quot;</td><td>&quot;NA&quot;</td><td>&quot;NA&quot;</td><td>&quot;NA&quot;</td><td>&quot;NA&quot;</td><td>&quot;NA&quot;</td><td>&quot;NA&quot;</td><td>&quot;NA&quot;</td><td>&quot;NA&quot;</td><td>&quot;NA&quot;</td><td>&quot;NA&quot;</td><td>&quot;NA&quot;</td><td>&quot;NA&quot;</td><td>&quot;NA&quot;</td><td>&quot;NA&quot;</td><td>&quot;NA&quot;</td><td>&quot;NA&quot;</td><td>&quot;NA&quot;</td><td>&quot;NA&quot;</td><td>&quot;NA&quot;</td><td>&quot;NA&quot;</td><td>&quot;NA&quot;</td><td>&quot;NA&quot;</td></tr><tr><td>2</td><td>1994</td><td>&quot;S1 - Female&quot;</td><td>&quot;R0 - White&quot;</td><td>&quot;E0 - Non-Hispa…</td><td>&quot;P0 - Non-Medic…</td><td>false</td><td>12.232717</td><td>18.880219</td><td>&quot;NA&quot;</td><td>&quot;NA&quot;</td><td>&quot;NA&quot;</td><td>&quot;NA&quot;</td><td>&quot;NA&quot;</td><td>&quot;NA&quot;</td><td>&quot;NA&quot;</td><td>&quot;NA&quot;</td><td>&quot;NA&quot;</td><td>&quot;NA&quot;</td><td>&quot;NA&quot;</td><td>&quot;NA&quot;</td><td>&quot;NA&quot;</td><td>&quot;NA&quot;</td><td>&quot;NA&quot;</td><td>&quot;NA&quot;</td><td>&quot;NA&quot;</td><td>&quot;NA&quot;</td><td>&quot;NA&quot;</td><td>&quot;NA&quot;</td><td>&quot;NA&quot;</td><td>&quot;NA&quot;</td><td>&quot;NA&quot;</td><td>&quot;NA&quot;</td><td>&quot;NA&quot;</td><td>&quot;NA&quot;</td><td>&quot;NA&quot;</td><td>&quot;NA&quot;</td><td>&quot;NA&quot;</td><td>&quot;NA&quot;</td><td>&quot;NA&quot;</td><td>&quot;NA&quot;</td><td>&quot;NA&quot;</td><td>&quot;NA&quot;</td><td>&quot;NA&quot;</td><td>&quot;NA&quot;</td><td>&quot;NA&quot;</td><td>&quot;NA&quot;</td><td>&quot;12.26283367556…</td><td>&quot;18.88021902806…</td><td>&quot;2&quot;</td></tr><tr><td>3</td><td>2006</td><td>&quot;S0 - Male&quot;</td><td>&quot;R0 - White&quot;</td><td>&quot;E1 - Hispanic&quot;</td><td>&quot;P0 - Non-Medic…</td><td>true</td><td>0.010951</td><td>6.726899</td><td>&quot;NA&quot;</td><td>&quot;NA&quot;</td><td>&quot;NA&quot;</td><td>&quot;NA&quot;</td><td>&quot;1.002053388090…</td><td>&quot;1.002053388090…</td><td>&quot;NA&quot;</td><td>&quot;NA&quot;</td><td>&quot;NA&quot;</td><td>&quot;NA&quot;</td><td>&quot;NA&quot;</td><td>&quot;NA&quot;</td><td>&quot;NA&quot;</td><td>&quot;NA&quot;</td><td>&quot;NA&quot;</td><td>&quot;NA&quot;</td><td>&quot;NA&quot;</td><td>&quot;NA&quot;</td><td>&quot;NA&quot;</td><td>&quot;NA&quot;</td><td>&quot;NA&quot;</td><td>&quot;NA&quot;</td><td>&quot;NA&quot;</td><td>&quot;NA&quot;</td><td>&quot;NA&quot;</td><td>&quot;NA&quot;</td><td>&quot;NA&quot;</td><td>&quot;NA&quot;</td><td>&quot;NA&quot;</td><td>&quot;NA&quot;</td><td>&quot;NA&quot;</td><td>&quot;NA&quot;</td><td>&quot;4.884325804243…</td><td>&quot;NA&quot;</td><td>&quot;3.917864476386…</td><td>&quot;6.157426420260…</td><td>&quot;5.127994524298…</td><td>&quot;NA&quot;</td><td>&quot;1.404517453798…</td><td>&quot;6.157426420260…</td><td>&quot;4&quot;</td></tr><tr><td>4</td><td>2004</td><td>&quot;S0 - Male&quot;</td><td>&quot;R4 - Unknown&quot;</td><td>&quot;E1 - Hispanic&quot;</td><td>&quot;P0 - Non-Medic…</td><td>false</td><td>2.398357</td><td>9.111567</td><td>&quot;NA&quot;</td><td>&quot;NA&quot;</td><td>&quot;NA&quot;</td><td>&quot;NA&quot;</td><td>&quot;NA&quot;</td><td>&quot;NA&quot;</td><td>&quot;NA&quot;</td><td>&quot;NA&quot;</td><td>&quot;NA&quot;</td><td>&quot;NA&quot;</td><td>&quot;NA&quot;</td><td>&quot;NA&quot;</td><td>&quot;NA&quot;</td><td>&quot;NA&quot;</td><td>&quot;NA&quot;</td><td>&quot;NA&quot;</td><td>&quot;NA&quot;</td><td>&quot;NA&quot;</td><td>&quot;NA&quot;</td><td>&quot;NA&quot;</td><td>&quot;NA&quot;</td><td>&quot;NA&quot;</td><td>&quot;NA&quot;</td><td>&quot;NA&quot;</td><td>&quot;NA&quot;</td><td>&quot;NA&quot;</td><td>&quot;NA&quot;</td><td>&quot;NA&quot;</td><td>&quot;NA&quot;</td><td>&quot;NA&quot;</td><td>&quot;NA&quot;</td><td>&quot;NA&quot;</td><td>&quot;NA&quot;</td><td>&quot;NA&quot;</td><td>&quot;NA&quot;</td><td>&quot;NA&quot;</td><td>&quot;NA&quot;</td><td>&quot;NA&quot;</td><td>&quot;NA&quot;</td><td>&quot;NA&quot;</td><td>&quot;NA&quot;</td></tr><tr><td>5</td><td>2006</td><td>&quot;S1 - Female&quot;</td><td>&quot;R1 - Black&quot;</td><td>&quot;E0 - Non-Hispa…</td><td>&quot;P0 - Non-Medic…</td><td>false</td><td>0.013689</td><td>6.193018</td><td>&quot;NA&quot;</td><td>&quot;NA&quot;</td><td>&quot;NA&quot;</td><td>&quot;NA&quot;</td><td>&quot;NA&quot;</td><td>&quot;NA&quot;</td><td>&quot;NA&quot;</td><td>&quot;NA&quot;</td><td>&quot;NA&quot;</td><td>&quot;NA&quot;</td><td>&quot;NA&quot;</td><td>&quot;NA&quot;</td><td>&quot;NA&quot;</td><td>&quot;NA&quot;</td><td>&quot;NA&quot;</td><td>&quot;NA&quot;</td><td>&quot;NA&quot;</td><td>&quot;NA&quot;</td><td>&quot;NA&quot;</td><td>&quot;NA&quot;</td><td>&quot;NA&quot;</td><td>&quot;NA&quot;</td><td>&quot;NA&quot;</td><td>&quot;NA&quot;</td><td>&quot;NA&quot;</td><td>&quot;NA&quot;</td><td>&quot;NA&quot;</td><td>&quot;NA&quot;</td><td>&quot;NA&quot;</td><td>&quot;NA&quot;</td><td>&quot;NA&quot;</td><td>&quot;NA&quot;</td><td>&quot;NA&quot;</td><td>&quot;NA&quot;</td><td>&quot;NA&quot;</td><td>&quot;NA&quot;</td><td>&quot;NA&quot;</td><td>&quot;NA&quot;</td><td>&quot;NA&quot;</td><td>&quot;NA&quot;</td><td>&quot;NA&quot;</td></tr></tbody></table></div>"
      ],
      "text/plain": [
       "shape: (5, 50)\n",
       "┌───────────┬───────────┬───────────┬───────────┬───┬───────────┬───────────┬───────────┬──────────┐\n",
       "│ SUBJECT_I ┆ BIRTH_YEA ┆ GENDER_FA ┆ RACE_FACT ┆ … ┆ ASTHMA_EN ┆ FIRST_AST ┆ LAST_ASTH ┆ NUM_ASTH │\n",
       "│ D         ┆ R         ┆ CTOR      ┆ OR        ┆   ┆ D         ┆ HMARX     ┆ MARX      ┆ MARX     │\n",
       "│ ---       ┆ ---       ┆ ---       ┆ ---       ┆   ┆ ---       ┆ ---       ┆ ---       ┆ ---      │\n",
       "│ i64       ┆ i64       ┆ str       ┆ str       ┆   ┆ str       ┆ str       ┆ str       ┆ str      │\n",
       "╞═══════════╪═══════════╪═══════════╪═══════════╪═══╪═══════════╪═══════════╪═══════════╪══════════╡\n",
       "│ 1         ┆ 2006      ┆ S1 -      ┆ R1 -      ┆ … ┆ NA        ┆ NA        ┆ NA        ┆ NA       │\n",
       "│           ┆           ┆ Female    ┆ Black     ┆   ┆           ┆           ┆           ┆          │\n",
       "│ 2         ┆ 1994      ┆ S1 -      ┆ R0 -      ┆ … ┆ NA        ┆ 12.262833 ┆ 18.880219 ┆ 2        │\n",
       "│           ┆           ┆ Female    ┆ White     ┆   ┆           ┆ 6755647   ┆ 028063    ┆          │\n",
       "│ 3         ┆ 2006      ┆ S0 - Male ┆ R0 -      ┆ … ┆ NA        ┆ 1.4045174 ┆ 6.1574264 ┆ 4        │\n",
       "│           ┆           ┆           ┆ White     ┆   ┆           ┆ 5379877   ┆ 202601    ┆          │\n",
       "│ 4         ┆ 2004      ┆ S0 - Male ┆ R4 -      ┆ … ┆ NA        ┆ NA        ┆ NA        ┆ NA       │\n",
       "│           ┆           ┆           ┆ Unknown   ┆   ┆           ┆           ┆           ┆          │\n",
       "│ 5         ┆ 2006      ┆ S1 -      ┆ R1 -      ┆ … ┆ NA        ┆ NA        ┆ NA        ┆ NA       │\n",
       "│           ┆           ┆ Female    ┆ Black     ┆   ┆           ┆           ┆           ┆          │\n",
       "└───────────┴───────────┴───────────┴───────────┴───┴───────────┴───────────┴───────────┴──────────┘"
      ]
     },
     "execution_count": 8,
     "metadata": {},
     "output_type": "execute_result"
    }
   ],
   "source": [
    "#load CSV file into a dataframe\n",
    "df_csv = pl.read_csv(\"food-allergy-analysis-Zenodo.csv\")\n",
    "df = pl.DataFrame(df_csv)\n",
    "df.head()"
   ]
  }
 ],
 "metadata": {
  "kernelspec": {
   "display_name": "dev",
   "language": "python",
   "name": "python3"
  },
  "language_info": {
   "codemirror_mode": {
    "name": "ipython",
    "version": 3
   },
   "file_extension": ".py",
   "mimetype": "text/x-python",
   "name": "python",
   "nbconvert_exporter": "python",
   "pygments_lexer": "ipython3",
   "version": "3.10.13"
  }
 },
 "nbformat": 4,
 "nbformat_minor": 2
}
