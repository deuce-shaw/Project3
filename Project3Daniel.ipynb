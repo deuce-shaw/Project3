{
 "cells": [
  {
   "cell_type": "code",
   "execution_count": 1,
   "metadata": {},
   "outputs": [],
   "source": [
    "import pandas as pd\n",
    "import polars as pl\n",
    "import sqlite3"
   ]
  },
  {
   "cell_type": "code",
   "execution_count": 2,
   "metadata": {},
   "outputs": [
    {
     "data": {
      "text/html": [
       "<div><style>\n",
       ".dataframe > thead > tr,\n",
       ".dataframe > tbody > tr {\n",
       "  text-align: right;\n",
       "  white-space: pre-wrap;\n",
       "}\n",
       "</style>\n",
       "<small>shape: (5, 16)</small><table border=\"1\" class=\"dataframe\"><thead><tr><th>SUBJECT_ID</th><th>BIRTH_YEAR</th><th>GENDER_FACTOR</th><th>RACE_FACTOR</th><th>ETHNICITY_FACTOR</th><th>AGE_START_YEARS</th><th>AGE_END_YEARS</th><th>ATOPIC_DERM_START</th><th>ATOPIC_DERM_END</th><th>ALLERGIC_RHINITIS_START</th><th>ALLERGIC_RHINITIS_END</th><th>ASTHMA_START</th><th>ASTHMA_END</th><th>FIRST_ASTHMARX</th><th>LAST_ASTHMARX</th><th>NUM_ASTHMARX</th></tr><tr><td>i64</td><td>i64</td><td>str</td><td>str</td><td>str</td><td>f64</td><td>f64</td><td>f64</td><td>f64</td><td>f64</td><td>f64</td><td>f64</td><td>f64</td><td>f64</td><td>f64</td><td>i64</td></tr></thead><tbody><tr><td>1</td><td>2006</td><td>&quot;S1 - Female&quot;</td><td>&quot;R1 - Black&quot;</td><td>&quot;E0 - Non-Hispa…</td><td>0.093087</td><td>3.164956</td><td>null</td><td>null</td><td>null</td><td>null</td><td>null</td><td>null</td><td>null</td><td>null</td><td>null</td></tr><tr><td>2</td><td>1994</td><td>&quot;S1 - Female&quot;</td><td>&quot;R0 - White&quot;</td><td>&quot;E0 - Non-Hispa…</td><td>12.232717</td><td>18.880219</td><td>null</td><td>null</td><td>null</td><td>null</td><td>null</td><td>null</td><td>12.262834</td><td>18.880219</td><td>2</td></tr><tr><td>3</td><td>2006</td><td>&quot;S0 - Male&quot;</td><td>&quot;R0 - White&quot;</td><td>&quot;E1 - Hispanic&quot;</td><td>0.010951</td><td>6.726899</td><td>4.884326</td><td>null</td><td>3.917864</td><td>6.157426</td><td>5.127995</td><td>null</td><td>1.404517</td><td>6.157426</td><td>4</td></tr><tr><td>4</td><td>2004</td><td>&quot;S0 - Male&quot;</td><td>&quot;R4 - Unknown&quot;</td><td>&quot;E1 - Hispanic&quot;</td><td>2.398357</td><td>9.111567</td><td>null</td><td>null</td><td>null</td><td>null</td><td>null</td><td>null</td><td>null</td><td>null</td><td>null</td></tr><tr><td>5</td><td>2006</td><td>&quot;S1 - Female&quot;</td><td>&quot;R1 - Black&quot;</td><td>&quot;E0 - Non-Hispa…</td><td>0.013689</td><td>6.193018</td><td>null</td><td>null</td><td>null</td><td>null</td><td>null</td><td>null</td><td>null</td><td>null</td><td>null</td></tr></tbody></table></div>"
      ],
      "text/plain": [
       "shape: (5, 16)\n",
       "┌───────────┬───────────┬───────────┬───────────┬───┬───────────┬───────────┬───────────┬──────────┐\n",
       "│ SUBJECT_I ┆ BIRTH_YEA ┆ GENDER_FA ┆ RACE_FACT ┆ … ┆ ASTHMA_EN ┆ FIRST_AST ┆ LAST_ASTH ┆ NUM_ASTH │\n",
       "│ D         ┆ R         ┆ CTOR      ┆ OR        ┆   ┆ D         ┆ HMARX     ┆ MARX      ┆ MARX     │\n",
       "│ ---       ┆ ---       ┆ ---       ┆ ---       ┆   ┆ ---       ┆ ---       ┆ ---       ┆ ---      │\n",
       "│ i64       ┆ i64       ┆ str       ┆ str       ┆   ┆ f64       ┆ f64       ┆ f64       ┆ i64      │\n",
       "╞═══════════╪═══════════╪═══════════╪═══════════╪═══╪═══════════╪═══════════╪═══════════╪══════════╡\n",
       "│ 1         ┆ 2006      ┆ S1 -      ┆ R1 -      ┆ … ┆ null      ┆ null      ┆ null      ┆ null     │\n",
       "│           ┆           ┆ Female    ┆ Black     ┆   ┆           ┆           ┆           ┆          │\n",
       "│ 2         ┆ 1994      ┆ S1 -      ┆ R0 -      ┆ … ┆ null      ┆ 12.262834 ┆ 18.880219 ┆ 2        │\n",
       "│           ┆           ┆ Female    ┆ White     ┆   ┆           ┆           ┆           ┆          │\n",
       "│ 3         ┆ 2006      ┆ S0 - Male ┆ R0 -      ┆ … ┆ null      ┆ 1.404517  ┆ 6.157426  ┆ 4        │\n",
       "│           ┆           ┆           ┆ White     ┆   ┆           ┆           ┆           ┆          │\n",
       "│ 4         ┆ 2004      ┆ S0 - Male ┆ R4 -      ┆ … ┆ null      ┆ null      ┆ null      ┆ null     │\n",
       "│           ┆           ┆           ┆ Unknown   ┆   ┆           ┆           ┆           ┆          │\n",
       "│ 5         ┆ 2006      ┆ S1 -      ┆ R1 -      ┆ … ┆ null      ┆ null      ┆ null      ┆ null     │\n",
       "│           ┆           ┆ Female    ┆ Black     ┆   ┆           ┆           ┆           ┆          │\n",
       "└───────────┴───────────┴───────────┴───────────┴───┴───────────┴───────────┴───────────┴──────────┘"
      ]
     },
     "execution_count": 2,
     "metadata": {},
     "output_type": "execute_result"
    }
   ],
   "source": [
    "#determine what columns we want to keep\n",
    "columns_to_keep = ['SUBJECT_ID', 'BIRTH_YEAR', 'GENDER_FACTOR', 'RACE_FACTOR', 'ETHNICITY_FACTOR', 'AGE_START_YEARS', 'AGE_END_YEARS', 'ATOPIC_DERM_START', 'ATOPIC_DERM_END', 'ALLERGIC_RHINITIS_START', 'ALLERGIC_RHINITIS_END', 'ASTHMA_START', 'ASTHMA_END', 'FIRST_ASTHMARX', 'LAST_ASTHMARX', 'NUM_ASTHMARX']\n",
    "\n",
    "#load CSV file into a dataframe\n",
    "df_csv = pl.read_csv(\"food-allergy-analysis-Zenodo.csv\").select(columns_to_keep)\n",
    "df_csv.head()"
   ]
  },
  {
   "cell_type": "code",
   "execution_count": 3,
   "metadata": {},
   "outputs": [
    {
     "data": {
      "text/html": [
       "<div><style>\n",
       ".dataframe > thead > tr,\n",
       ".dataframe > tbody > tr {\n",
       "  text-align: right;\n",
       "  white-space: pre-wrap;\n",
       "}\n",
       "</style>\n",
       "<small>shape: (9, 17)</small><table border=\"1\" class=\"dataframe\"><thead><tr><th>describe</th><th>SUBJECT_ID</th><th>BIRTH_YEAR</th><th>GENDER_FACTOR</th><th>RACE_FACTOR</th><th>ETHNICITY_FACTOR</th><th>AGE_START_YEARS</th><th>AGE_END_YEARS</th><th>ATOPIC_DERM_START</th><th>ATOPIC_DERM_END</th><th>ALLERGIC_RHINITIS_START</th><th>ALLERGIC_RHINITIS_END</th><th>ASTHMA_START</th><th>ASTHMA_END</th><th>FIRST_ASTHMARX</th><th>LAST_ASTHMARX</th><th>NUM_ASTHMARX</th></tr><tr><td>str</td><td>f64</td><td>f64</td><td>str</td><td>str</td><td>str</td><td>f64</td><td>f64</td><td>f64</td><td>f64</td><td>f64</td><td>f64</td><td>f64</td><td>f64</td><td>f64</td><td>f64</td><td>f64</td></tr></thead><tbody><tr><td>&quot;count&quot;</td><td>333200.0</td><td>333200.0</td><td>&quot;333200&quot;</td><td>&quot;333200&quot;</td><td>&quot;333200&quot;</td><td>333200.0</td><td>333200.0</td><td>49515.0</td><td>41732.0</td><td>55567.0</td><td>25326.0</td><td>63874.0</td><td>25465.0</td><td>117550.0</td><td>117550.0</td><td>117550.0</td></tr><tr><td>&quot;null_count&quot;</td><td>0.0</td><td>0.0</td><td>&quot;0&quot;</td><td>&quot;0&quot;</td><td>&quot;0&quot;</td><td>0.0</td><td>0.0</td><td>283685.0</td><td>291468.0</td><td>277633.0</td><td>307874.0</td><td>269326.0</td><td>307735.0</td><td>215650.0</td><td>215650.0</td><td>215650.0</td></tr><tr><td>&quot;mean&quot;</td><td>166600.5</td><td>2001.261191</td><td>null</td><td>null</td><td>null</td><td>3.94214</td><td>10.336654</td><td>4.282436</td><td>5.665702</td><td>7.275146</td><td>12.930347</td><td>5.979887</td><td>12.377142</td><td>6.439342</td><td>8.943442</td><td>5.298477</td></tr><tr><td>&quot;std&quot;</td><td>96186.699184</td><td>6.603479</td><td>null</td><td>null</td><td>null</td><td>4.646174</td><td>5.623426</td><td>4.683577</td><td>5.016386</td><td>4.190266</td><td>4.292382</td><td>4.390784</td><td>4.895197</td><td>4.863507</td><td>5.284163</td><td>6.486661</td></tr><tr><td>&quot;min&quot;</td><td>1.0</td><td>1983.0</td><td>&quot;S0 - Male&quot;</td><td>&quot;R0 - White&quot;</td><td>&quot;E0 - Non-Hispa…</td><td>-4.312115</td><td>1.002053</td><td>-103.96167</td><td>0.013689</td><td>-95.238877</td><td>2.488706</td><td>1.002053</td><td>3.003422</td><td>1.002053</td><td>1.002053</td><td>1.0</td></tr><tr><td>&quot;25%&quot;</td><td>83301.0</td><td>1996.0</td><td>null</td><td>null</td><td>null</td><td>0.021903</td><td>5.289528</td><td>0.654346</td><td>1.448323</td><td>3.912389</td><td>9.590691</td><td>2.16564</td><td>8.13963</td><td>2.105407</td><td>4.298426</td><td>1.0</td></tr><tr><td>&quot;50%&quot;</td><td>166601.0</td><td>2002.0</td><td>null</td><td>null</td><td>null</td><td>1.763176</td><td>10.193018</td><td>2.255989</td><td>4.112252</td><td>6.721424</td><td>13.199179</td><td>4.807666</td><td>12.539357</td><td>5.023956</td><td>8.268309</td><td>3.0</td></tr><tr><td>&quot;75%&quot;</td><td>249900.0</td><td>2007.0</td><td>null</td><td>null</td><td>null</td><td>7.208761</td><td>15.616701</td><td>6.811773</td><td>8.925394</td><td>10.220397</td><td>16.580424</td><td>9.09514</td><td>16.843258</td><td>10.01232</td><td>13.341547</td><td>7.0</td></tr><tr><td>&quot;max&quot;</td><td>333200.0</td><td>2012.0</td><td>&quot;S1 - Female&quot;</td><td>&quot;R4 - Unknown&quot;</td><td>&quot;E1 - Hispanic&quot;</td><td>17.984942</td><td>18.997947</td><td>23.342916</td><td>24.626968</td><td>23.649555</td><td>28.616016</td><td>23.649555</td><td>28.52293</td><td>18.997947</td><td>18.997947</td><td>118.0</td></tr></tbody></table></div>"
      ],
      "text/plain": [
       "shape: (9, 17)\n",
       "┌───────────┬───────────┬───────────┬───────────┬───┬───────────┬───────────┬───────────┬──────────┐\n",
       "│ describe  ┆ SUBJECT_I ┆ BIRTH_YEA ┆ GENDER_FA ┆ … ┆ ASTHMA_EN ┆ FIRST_AST ┆ LAST_ASTH ┆ NUM_ASTH │\n",
       "│ ---       ┆ D         ┆ R         ┆ CTOR      ┆   ┆ D         ┆ HMARX     ┆ MARX      ┆ MARX     │\n",
       "│ str       ┆ ---       ┆ ---       ┆ ---       ┆   ┆ ---       ┆ ---       ┆ ---       ┆ ---      │\n",
       "│           ┆ f64       ┆ f64       ┆ str       ┆   ┆ f64       ┆ f64       ┆ f64       ┆ f64      │\n",
       "╞═══════════╪═══════════╪═══════════╪═══════════╪═══╪═══════════╪═══════════╪═══════════╪══════════╡\n",
       "│ count     ┆ 333200.0  ┆ 333200.0  ┆ 333200    ┆ … ┆ 25465.0   ┆ 117550.0  ┆ 117550.0  ┆ 117550.0 │\n",
       "│ null_coun ┆ 0.0       ┆ 0.0       ┆ 0         ┆ … ┆ 307735.0  ┆ 215650.0  ┆ 215650.0  ┆ 215650.0 │\n",
       "│ t         ┆           ┆           ┆           ┆   ┆           ┆           ┆           ┆          │\n",
       "│ mean      ┆ 166600.5  ┆ 2001.2611 ┆ null      ┆ … ┆ 12.377142 ┆ 6.439342  ┆ 8.943442  ┆ 5.298477 │\n",
       "│           ┆           ┆ 91        ┆           ┆   ┆           ┆           ┆           ┆          │\n",
       "│ std       ┆ 96186.699 ┆ 6.603479  ┆ null      ┆ … ┆ 4.895197  ┆ 4.863507  ┆ 5.284163  ┆ 6.486661 │\n",
       "│           ┆ 184       ┆           ┆           ┆   ┆           ┆           ┆           ┆          │\n",
       "│ min       ┆ 1.0       ┆ 1983.0    ┆ S0 - Male ┆ … ┆ 3.003422  ┆ 1.002053  ┆ 1.002053  ┆ 1.0      │\n",
       "│ 25%       ┆ 83301.0   ┆ 1996.0    ┆ null      ┆ … ┆ 8.13963   ┆ 2.105407  ┆ 4.298426  ┆ 1.0      │\n",
       "│ 50%       ┆ 166601.0  ┆ 2002.0    ┆ null      ┆ … ┆ 12.539357 ┆ 5.023956  ┆ 8.268309  ┆ 3.0      │\n",
       "│ 75%       ┆ 249900.0  ┆ 2007.0    ┆ null      ┆ … ┆ 16.843258 ┆ 10.01232  ┆ 13.341547 ┆ 7.0      │\n",
       "│ max       ┆ 333200.0  ┆ 2012.0    ┆ S1 -      ┆ … ┆ 28.52293  ┆ 18.997947 ┆ 18.997947 ┆ 118.0    │\n",
       "│           ┆           ┆           ┆ Female    ┆   ┆           ┆           ┆           ┆          │\n",
       "└───────────┴───────────┴───────────┴───────────┴───┴───────────┴───────────┴───────────┴──────────┘"
      ]
     },
     "execution_count": 3,
     "metadata": {},
     "output_type": "execute_result"
    }
   ],
   "source": [
    "df_csv.describe()"
   ]
  },
  {
   "cell_type": "code",
   "execution_count": 4,
   "metadata": {},
   "outputs": [
    {
     "data": {
      "text/html": [
       "<div><style>\n",
       ".dataframe > thead > tr,\n",
       ".dataframe > tbody > tr {\n",
       "  text-align: right;\n",
       "  white-space: pre-wrap;\n",
       "}\n",
       "</style>\n",
       "<small>shape: (9, 17)</small><table border=\"1\" class=\"dataframe\"><thead><tr><th>describe</th><th>SUBJECT_ID</th><th>BIRTH_YEAR</th><th>GENDER_FACTOR</th><th>RACE_FACTOR</th><th>ETHNICITY_FACTOR</th><th>AGE_START_YEARS</th><th>AGE_END_YEARS</th><th>ATOPIC_DERM_START</th><th>ATOPIC_DERM_END</th><th>ALLERGIC_RHINITIS_START</th><th>ALLERGIC_RHINITIS_END</th><th>ASTHMA_START</th><th>ASTHMA_END</th><th>FIRST_ASTHMARX</th><th>LAST_ASTHMARX</th><th>NUM_ASTHMARX</th></tr><tr><td>str</td><td>f64</td><td>f64</td><td>str</td><td>str</td><td>str</td><td>f64</td><td>f64</td><td>f64</td><td>f64</td><td>f64</td><td>f64</td><td>f64</td><td>f64</td><td>f64</td><td>f64</td><td>f64</td></tr></thead><tbody><tr><td>&quot;count&quot;</td><td>333175.0</td><td>333175.0</td><td>&quot;333175&quot;</td><td>&quot;333175&quot;</td><td>&quot;333175&quot;</td><td>333175.0</td><td>333175.0</td><td>49510.0</td><td>41727.0</td><td>55565.0</td><td>25326.0</td><td>63868.0</td><td>25463.0</td><td>117540.0</td><td>117540.0</td><td>117540.0</td></tr><tr><td>&quot;null_count&quot;</td><td>0.0</td><td>0.0</td><td>&quot;0&quot;</td><td>&quot;0&quot;</td><td>&quot;0&quot;</td><td>0.0</td><td>0.0</td><td>283665.0</td><td>291448.0</td><td>277610.0</td><td>307849.0</td><td>269307.0</td><td>307712.0</td><td>215635.0</td><td>215635.0</td><td>215635.0</td></tr><tr><td>&quot;mean&quot;</td><td>166597.437302</td><td>2001.260872</td><td>null</td><td>null</td><td>null</td><td>3.942466</td><td>10.336952</td><td>4.282733</td><td>5.666013</td><td>7.275326</td><td>12.930347</td><td>5.980232</td><td>12.377673</td><td>6.439626</td><td>8.943775</td><td>5.29852</td></tr><tr><td>&quot;std&quot;</td><td>96186.767275</td><td>6.603568</td><td>null</td><td>null</td><td>null</td><td>4.64619</td><td>5.623476</td><td>4.683714</td><td>5.016552</td><td>4.190232</td><td>4.292382</td><td>4.390803</td><td>4.895017</td><td>4.863585</td><td>5.284211</td><td>6.486858</td></tr><tr><td>&quot;min&quot;</td><td>1.0</td><td>1983.0</td><td>&quot;S0 - Male&quot;</td><td>&quot;R0 - White&quot;</td><td>&quot;E0 - Non-Hispa…</td><td>0.0</td><td>1.002053</td><td>-103.96167</td><td>0.013689</td><td>-95.238877</td><td>2.488706</td><td>1.002053</td><td>3.003422</td><td>1.002053</td><td>1.002053</td><td>1.0</td></tr><tr><td>&quot;25%&quot;</td><td>83297.0</td><td>1996.0</td><td>null</td><td>null</td><td>null</td><td>0.021903</td><td>5.289528</td><td>0.654346</td><td>1.448323</td><td>3.912389</td><td>9.590691</td><td>2.16564</td><td>8.13963</td><td>2.105407</td><td>4.298426</td><td>1.0</td></tr><tr><td>&quot;50%&quot;</td><td>166596.0</td><td>2002.0</td><td>null</td><td>null</td><td>null</td><td>1.765914</td><td>10.193018</td><td>2.255989</td><td>4.112252</td><td>6.721424</td><td>13.199179</td><td>4.810404</td><td>12.539357</td><td>5.023956</td><td>8.271047</td><td>3.0</td></tr><tr><td>&quot;75%&quot;</td><td>249898.0</td><td>2007.0</td><td>null</td><td>null</td><td>null</td><td>7.208761</td><td>15.616701</td><td>6.811773</td><td>8.930869</td><td>10.220397</td><td>16.580424</td><td>9.09514</td><td>16.843258</td><td>10.01232</td><td>13.341547</td><td>7.0</td></tr><tr><td>&quot;max&quot;</td><td>333200.0</td><td>2012.0</td><td>&quot;S1 - Female&quot;</td><td>&quot;R4 - Unknown&quot;</td><td>&quot;E1 - Hispanic&quot;</td><td>17.984942</td><td>18.997947</td><td>23.342916</td><td>24.626968</td><td>23.649555</td><td>28.616016</td><td>23.649555</td><td>28.52293</td><td>18.997947</td><td>18.997947</td><td>118.0</td></tr></tbody></table></div>"
      ],
      "text/plain": [
       "shape: (9, 17)\n",
       "┌───────────┬───────────┬───────────┬───────────┬───┬───────────┬───────────┬───────────┬──────────┐\n",
       "│ describe  ┆ SUBJECT_I ┆ BIRTH_YEA ┆ GENDER_FA ┆ … ┆ ASTHMA_EN ┆ FIRST_AST ┆ LAST_ASTH ┆ NUM_ASTH │\n",
       "│ ---       ┆ D         ┆ R         ┆ CTOR      ┆   ┆ D         ┆ HMARX     ┆ MARX      ┆ MARX     │\n",
       "│ str       ┆ ---       ┆ ---       ┆ ---       ┆   ┆ ---       ┆ ---       ┆ ---       ┆ ---      │\n",
       "│           ┆ f64       ┆ f64       ┆ str       ┆   ┆ f64       ┆ f64       ┆ f64       ┆ f64      │\n",
       "╞═══════════╪═══════════╪═══════════╪═══════════╪═══╪═══════════╪═══════════╪═══════════╪══════════╡\n",
       "│ count     ┆ 333175.0  ┆ 333175.0  ┆ 333175    ┆ … ┆ 25463.0   ┆ 117540.0  ┆ 117540.0  ┆ 117540.0 │\n",
       "│ null_coun ┆ 0.0       ┆ 0.0       ┆ 0         ┆ … ┆ 307712.0  ┆ 215635.0  ┆ 215635.0  ┆ 215635.0 │\n",
       "│ t         ┆           ┆           ┆           ┆   ┆           ┆           ┆           ┆          │\n",
       "│ mean      ┆ 166597.43 ┆ 2001.2608 ┆ null      ┆ … ┆ 12.377673 ┆ 6.439626  ┆ 8.943775  ┆ 5.29852  │\n",
       "│           ┆ 7302      ┆ 72        ┆           ┆   ┆           ┆           ┆           ┆          │\n",
       "│ std       ┆ 96186.767 ┆ 6.603568  ┆ null      ┆ … ┆ 4.895017  ┆ 4.863585  ┆ 5.284211  ┆ 6.486858 │\n",
       "│           ┆ 275       ┆           ┆           ┆   ┆           ┆           ┆           ┆          │\n",
       "│ min       ┆ 1.0       ┆ 1983.0    ┆ S0 - Male ┆ … ┆ 3.003422  ┆ 1.002053  ┆ 1.002053  ┆ 1.0      │\n",
       "│ 25%       ┆ 83297.0   ┆ 1996.0    ┆ null      ┆ … ┆ 8.13963   ┆ 2.105407  ┆ 4.298426  ┆ 1.0      │\n",
       "│ 50%       ┆ 166596.0  ┆ 2002.0    ┆ null      ┆ … ┆ 12.539357 ┆ 5.023956  ┆ 8.271047  ┆ 3.0      │\n",
       "│ 75%       ┆ 249898.0  ┆ 2007.0    ┆ null      ┆ … ┆ 16.843258 ┆ 10.01232  ┆ 13.341547 ┆ 7.0      │\n",
       "│ max       ┆ 333200.0  ┆ 2012.0    ┆ S1 -      ┆ … ┆ 28.52293  ┆ 18.997947 ┆ 18.997947 ┆ 118.0    │\n",
       "│           ┆           ┆           ┆ Female    ┆   ┆           ┆           ┆           ┆          │\n",
       "└───────────┴───────────┴───────────┴───────────┴───┴───────────┴───────────┴───────────┴──────────┘"
      ]
     },
     "execution_count": 4,
     "metadata": {},
     "output_type": "execute_result"
    }
   ],
   "source": [
    "#dropping all rows that have a negitave AGE_START_YEARS\n",
    "df_csv = df_csv.filter(df_csv['AGE_START_YEARS'] >= 0)\n",
    "df_csv.describe()"
   ]
  },
  {
   "cell_type": "code",
   "execution_count": 5,
   "metadata": {},
   "outputs": [
    {
     "data": {
      "text/html": [
       "<div><style>\n",
       ".dataframe > thead > tr,\n",
       ".dataframe > tbody > tr {\n",
       "  text-align: right;\n",
       "  white-space: pre-wrap;\n",
       "}\n",
       "</style>\n",
       "<small>shape: (9, 17)</small><table border=\"1\" class=\"dataframe\"><thead><tr><th>describe</th><th>SUBJECT_ID</th><th>BIRTH_YEAR</th><th>GENDER_FACTOR</th><th>RACE_FACTOR</th><th>ETHNICITY_FACTOR</th><th>AGE_START_YEARS</th><th>AGE_END_YEARS</th><th>ATOPIC_DERM_START</th><th>ATOPIC_DERM_END</th><th>ALLERGIC_RHINITIS_START</th><th>ALLERGIC_RHINITIS_END</th><th>ASTHMA_START</th><th>ASTHMA_END</th><th>FIRST_ASTHMARX</th><th>LAST_ASTHMARX</th><th>NUM_ASTHMARX</th></tr><tr><td>str</td><td>f64</td><td>f64</td><td>str</td><td>str</td><td>str</td><td>f64</td><td>f64</td><td>f64</td><td>f64</td><td>f64</td><td>f64</td><td>f64</td><td>f64</td><td>f64</td><td>f64</td><td>f64</td></tr></thead><tbody><tr><td>&quot;count&quot;</td><td>161894.0</td><td>161894.0</td><td>&quot;161894&quot;</td><td>&quot;161894&quot;</td><td>&quot;161894&quot;</td><td>161894.0</td><td>161894.0</td><td>49510.0</td><td>41727.0</td><td>55565.0</td><td>25326.0</td><td>63868.0</td><td>25463.0</td><td>117540.0</td><td>117540.0</td><td>117540.0</td></tr><tr><td>&quot;null_count&quot;</td><td>0.0</td><td>0.0</td><td>&quot;0&quot;</td><td>&quot;0&quot;</td><td>&quot;0&quot;</td><td>0.0</td><td>0.0</td><td>112384.0</td><td>120167.0</td><td>106329.0</td><td>136568.0</td><td>98026.0</td><td>136431.0</td><td>44354.0</td><td>44354.0</td><td>44354.0</td></tr><tr><td>&quot;mean&quot;</td><td>170582.20136</td><td>2001.472939</td><td>null</td><td>null</td><td>null</td><td>3.412443</td><td>10.512176</td><td>4.282733</td><td>5.666013</td><td>7.275326</td><td>12.930347</td><td>5.980232</td><td>12.377673</td><td>6.439626</td><td>8.943775</td><td>5.29852</td></tr><tr><td>&quot;std&quot;</td><td>98465.4061</td><td>6.059429</td><td>null</td><td>null</td><td>null</td><td>4.248083</td><td>5.287106</td><td>4.683714</td><td>5.016552</td><td>4.190232</td><td>4.292382</td><td>4.390803</td><td>4.895017</td><td>4.863585</td><td>5.284211</td><td>6.486858</td></tr><tr><td>&quot;min&quot;</td><td>2.0</td><td>1983.0</td><td>&quot;S0 - Male&quot;</td><td>&quot;R0 - White&quot;</td><td>&quot;E0 - Non-Hispa…</td><td>0.0</td><td>1.007529</td><td>-103.96167</td><td>0.013689</td><td>-95.238877</td><td>2.488706</td><td>1.002053</td><td>3.003422</td><td>1.002053</td><td>1.002053</td><td>1.0</td></tr><tr><td>&quot;25%&quot;</td><td>81065.0</td><td>1997.0</td><td>null</td><td>null</td><td>null</td><td>0.021903</td><td>6.028747</td><td>0.654346</td><td>1.448323</td><td>3.912389</td><td>9.590691</td><td>2.16564</td><td>8.13963</td><td>2.105407</td><td>4.298426</td><td>1.0</td></tr><tr><td>&quot;50%&quot;</td><td>176365.0</td><td>2002.0</td><td>null</td><td>null</td><td>null</td><td>1.256674</td><td>10.272416</td><td>2.255989</td><td>4.112252</td><td>6.721424</td><td>13.199179</td><td>4.810404</td><td>12.539357</td><td>5.023956</td><td>8.271047</td><td>3.0</td></tr><tr><td>&quot;75%&quot;</td><td>256717.0</td><td>2006.0</td><td>null</td><td>null</td><td>null</td><td>6.031485</td><td>15.225188</td><td>6.811773</td><td>8.930869</td><td>10.220397</td><td>16.580424</td><td>9.09514</td><td>16.843258</td><td>10.01232</td><td>13.341547</td><td>7.0</td></tr><tr><td>&quot;max&quot;</td><td>333200.0</td><td>2012.0</td><td>&quot;S1 - Female&quot;</td><td>&quot;R4 - Unknown&quot;</td><td>&quot;E1 - Hispanic&quot;</td><td>17.924709</td><td>18.997947</td><td>23.342916</td><td>24.626968</td><td>23.649555</td><td>28.616016</td><td>23.649555</td><td>28.52293</td><td>18.997947</td><td>18.997947</td><td>118.0</td></tr></tbody></table></div>"
      ],
      "text/plain": [
       "shape: (9, 17)\n",
       "┌───────────┬───────────┬───────────┬───────────┬───┬───────────┬───────────┬───────────┬──────────┐\n",
       "│ describe  ┆ SUBJECT_I ┆ BIRTH_YEA ┆ GENDER_FA ┆ … ┆ ASTHMA_EN ┆ FIRST_AST ┆ LAST_ASTH ┆ NUM_ASTH │\n",
       "│ ---       ┆ D         ┆ R         ┆ CTOR      ┆   ┆ D         ┆ HMARX     ┆ MARX      ┆ MARX     │\n",
       "│ str       ┆ ---       ┆ ---       ┆ ---       ┆   ┆ ---       ┆ ---       ┆ ---       ┆ ---      │\n",
       "│           ┆ f64       ┆ f64       ┆ str       ┆   ┆ f64       ┆ f64       ┆ f64       ┆ f64      │\n",
       "╞═══════════╪═══════════╪═══════════╪═══════════╪═══╪═══════════╪═══════════╪═══════════╪══════════╡\n",
       "│ count     ┆ 161894.0  ┆ 161894.0  ┆ 161894    ┆ … ┆ 25463.0   ┆ 117540.0  ┆ 117540.0  ┆ 117540.0 │\n",
       "│ null_coun ┆ 0.0       ┆ 0.0       ┆ 0         ┆ … ┆ 136431.0  ┆ 44354.0   ┆ 44354.0   ┆ 44354.0  │\n",
       "│ t         ┆           ┆           ┆           ┆   ┆           ┆           ┆           ┆          │\n",
       "│ mean      ┆ 170582.20 ┆ 2001.4729 ┆ null      ┆ … ┆ 12.377673 ┆ 6.439626  ┆ 8.943775  ┆ 5.29852  │\n",
       "│           ┆ 136       ┆ 39        ┆           ┆   ┆           ┆           ┆           ┆          │\n",
       "│ std       ┆ 98465.406 ┆ 6.059429  ┆ null      ┆ … ┆ 4.895017  ┆ 4.863585  ┆ 5.284211  ┆ 6.486858 │\n",
       "│           ┆ 1         ┆           ┆           ┆   ┆           ┆           ┆           ┆          │\n",
       "│ min       ┆ 2.0       ┆ 1983.0    ┆ S0 - Male ┆ … ┆ 3.003422  ┆ 1.002053  ┆ 1.002053  ┆ 1.0      │\n",
       "│ 25%       ┆ 81065.0   ┆ 1997.0    ┆ null      ┆ … ┆ 8.13963   ┆ 2.105407  ┆ 4.298426  ┆ 1.0      │\n",
       "│ 50%       ┆ 176365.0  ┆ 2002.0    ┆ null      ┆ … ┆ 12.539357 ┆ 5.023956  ┆ 8.271047  ┆ 3.0      │\n",
       "│ 75%       ┆ 256717.0  ┆ 2006.0    ┆ null      ┆ … ┆ 16.843258 ┆ 10.01232  ┆ 13.341547 ┆ 7.0      │\n",
       "│ max       ┆ 333200.0  ┆ 2012.0    ┆ S1 -      ┆ … ┆ 28.52293  ┆ 18.997947 ┆ 18.997947 ┆ 118.0    │\n",
       "│           ┆           ┆           ┆ Female    ┆   ┆           ┆           ┆           ┆          │\n",
       "└───────────┴───────────┴───────────┴───────────┴───┴───────────┴───────────┴───────────┴──────────┘"
      ]
     },
     "execution_count": 5,
     "metadata": {},
     "output_type": "execute_result"
    }
   ],
   "source": [
    "#dropping rows where all specified columns columns have null values\n",
    "drop_na_columns = ['ATOPIC_DERM_START', 'ATOPIC_DERM_END', 'ALLERGIC_RHINITIS_START', 'ALLERGIC_RHINITIS_END', 'ASTHMA_START', 'ASTHMA_END', 'FIRST_ASTHMARX', 'LAST_ASTHMARX', 'NUM_ASTHMARX']\n",
    "\n",
    "\n",
    "# Filter rows where any of the specified columns have at least one non-null value\n",
    "filtered_df = df_csv.filter(\n",
    "    (df_csv[drop_na_columns[0]].is_not_null()) |\n",
    "    (df_csv[drop_na_columns[1]].is_not_null()) |\n",
    "    (df_csv[drop_na_columns[2]].is_not_null()) |\n",
    "    (df_csv[drop_na_columns[3]].is_not_null()) |\n",
    "    (df_csv[drop_na_columns[4]].is_not_null()) |\n",
    "    (df_csv[drop_na_columns[5]].is_not_null()) |\n",
    "    (df_csv[drop_na_columns[6]].is_not_null()) |\n",
    "    (df_csv[drop_na_columns[7]].is_not_null()) |\n",
    "    (df_csv[drop_na_columns[8]].is_not_null())\n",
    ")\n",
    "\n",
    "# Display the resulting DataFrame to confirm the count of subject_id's has reduced \n",
    "filtered_df.describe()"
   ]
  },
  {
   "cell_type": "code",
   "execution_count": 6,
   "metadata": {},
   "outputs": [
    {
     "data": {
      "text/html": [
       "<div><style>\n",
       ".dataframe > thead > tr,\n",
       ".dataframe > tbody > tr {\n",
       "  text-align: right;\n",
       "  white-space: pre-wrap;\n",
       "}\n",
       "</style>\n",
       "<small>shape: (5, 16)</small><table border=\"1\" class=\"dataframe\"><thead><tr><th>SUBJECT_ID</th><th>BIRTH_YEAR</th><th>GENDER_FACTOR</th><th>RACE_FACTOR</th><th>ETHNICITY_FACTOR</th><th>AGE_START_YEARS</th><th>AGE_END_YEARS</th><th>ATOPIC_DERM_START</th><th>ATOPIC_DERM_END</th><th>ALLERGIC_RHINITIS_START</th><th>ALLERGIC_RHINITIS_END</th><th>ASTHMA_START</th><th>ASTHMA_END</th><th>FIRST_ASTHMARX</th><th>LAST_ASTHMARX</th><th>NUM_ASTHMARX</th></tr><tr><td>i64</td><td>i64</td><td>str</td><td>str</td><td>str</td><td>f64</td><td>f64</td><td>f64</td><td>f64</td><td>f64</td><td>f64</td><td>f64</td><td>f64</td><td>f64</td><td>f64</td><td>i64</td></tr></thead><tbody><tr><td>2</td><td>1994</td><td>&quot;S1 - Female&quot;</td><td>&quot;R0 - White&quot;</td><td>&quot;E0 - Non-Hispa…</td><td>12.232717</td><td>18.880219</td><td>null</td><td>null</td><td>null</td><td>null</td><td>null</td><td>null</td><td>12.262834</td><td>18.880219</td><td>2</td></tr><tr><td>3</td><td>2006</td><td>&quot;S0 - Male&quot;</td><td>&quot;R0 - White&quot;</td><td>&quot;E1 - Hispanic&quot;</td><td>0.010951</td><td>6.726899</td><td>4.884326</td><td>null</td><td>3.917864</td><td>6.157426</td><td>5.127995</td><td>null</td><td>1.404517</td><td>6.157426</td><td>4</td></tr><tr><td>9</td><td>2006</td><td>&quot;S0 - Male&quot;</td><td>&quot;R0 - White&quot;</td><td>&quot;E0 - Non-Hispa…</td><td>0.019165</td><td>6.726899</td><td>1.015743</td><td>1.015743</td><td>null</td><td>null</td><td>null</td><td>null</td><td>null</td><td>null</td><td>null</td></tr><tr><td>11</td><td>2006</td><td>&quot;S0 - Male&quot;</td><td>&quot;R4 - Unknown&quot;</td><td>&quot;E0 - Non-Hispa…</td><td>0.019165</td><td>7.003422</td><td>null</td><td>null</td><td>null</td><td>null</td><td>null</td><td>null</td><td>7.003422</td><td>7.003422</td><td>1</td></tr><tr><td>14</td><td>2006</td><td>&quot;S0 - Male&quot;</td><td>&quot;R4 - Unknown&quot;</td><td>&quot;E1 - Hispanic&quot;</td><td>0.013689</td><td>5.91102</td><td>null</td><td>null</td><td>null</td><td>null</td><td>1.002053</td><td>3.789185</td><td>1.007529</td><td>1.524983</td><td>8</td></tr></tbody></table></div>"
      ],
      "text/plain": [
       "shape: (5, 16)\n",
       "┌───────────┬───────────┬───────────┬───────────┬───┬───────────┬───────────┬───────────┬──────────┐\n",
       "│ SUBJECT_I ┆ BIRTH_YEA ┆ GENDER_FA ┆ RACE_FACT ┆ … ┆ ASTHMA_EN ┆ FIRST_AST ┆ LAST_ASTH ┆ NUM_ASTH │\n",
       "│ D         ┆ R         ┆ CTOR      ┆ OR        ┆   ┆ D         ┆ HMARX     ┆ MARX      ┆ MARX     │\n",
       "│ ---       ┆ ---       ┆ ---       ┆ ---       ┆   ┆ ---       ┆ ---       ┆ ---       ┆ ---      │\n",
       "│ i64       ┆ i64       ┆ str       ┆ str       ┆   ┆ f64       ┆ f64       ┆ f64       ┆ i64      │\n",
       "╞═══════════╪═══════════╪═══════════╪═══════════╪═══╪═══════════╪═══════════╪═══════════╪══════════╡\n",
       "│ 2         ┆ 1994      ┆ S1 -      ┆ R0 -      ┆ … ┆ null      ┆ 12.262834 ┆ 18.880219 ┆ 2        │\n",
       "│           ┆           ┆ Female    ┆ White     ┆   ┆           ┆           ┆           ┆          │\n",
       "│ 3         ┆ 2006      ┆ S0 - Male ┆ R0 -      ┆ … ┆ null      ┆ 1.404517  ┆ 6.157426  ┆ 4        │\n",
       "│           ┆           ┆           ┆ White     ┆   ┆           ┆           ┆           ┆          │\n",
       "│ 9         ┆ 2006      ┆ S0 - Male ┆ R0 -      ┆ … ┆ null      ┆ null      ┆ null      ┆ null     │\n",
       "│           ┆           ┆           ┆ White     ┆   ┆           ┆           ┆           ┆          │\n",
       "│ 11        ┆ 2006      ┆ S0 - Male ┆ R4 -      ┆ … ┆ null      ┆ 7.003422  ┆ 7.003422  ┆ 1        │\n",
       "│           ┆           ┆           ┆ Unknown   ┆   ┆           ┆           ┆           ┆          │\n",
       "│ 14        ┆ 2006      ┆ S0 - Male ┆ R4 -      ┆ … ┆ 3.789185  ┆ 1.007529  ┆ 1.524983  ┆ 8        │\n",
       "│           ┆           ┆           ┆ Unknown   ┆   ┆           ┆           ┆           ┆          │\n",
       "└───────────┴───────────┴───────────┴───────────┴───┴───────────┴───────────┴───────────┴──────────┘"
      ]
     },
     "execution_count": 6,
     "metadata": {},
     "output_type": "execute_result"
    }
   ],
   "source": [
    "#view data to confirm rows contain values in at least one column regarding allergies ['ATOPIC_DERM_START', 'ATOPIC_DERM_END', 'ALLERGIC_RHINITIS_START', 'ALLERGIC_RHINITIS_END', 'ASTHMA_START', 'ASTHMA_END', 'FIRST_ASTHMARX', 'LAST_ASTHMARX', 'NUM_ASTHMARX']\n",
    "filtered_df.head()"
   ]
  },
  {
   "cell_type": "code",
   "execution_count": 7,
   "metadata": {},
   "outputs": [
    {
     "data": {
      "text/html": [
       "<div><style>\n",
       ".dataframe > thead > tr,\n",
       ".dataframe > tbody > tr {\n",
       "  text-align: right;\n",
       "  white-space: pre-wrap;\n",
       "}\n",
       "</style>\n",
       "<small>shape: (5, 17)</small><table border=\"1\" class=\"dataframe\"><thead><tr><th>SUBJECT_ID</th><th>BIRTH_YEAR</th><th>GENDER_FACTOR</th><th>ETHNICITY_FACTOR</th><th>AGE_START_YEARS</th><th>AGE_END_YEARS</th><th>ATOPIC_DERM_START</th><th>ATOPIC_DERM_END</th><th>ALLERGIC_RHINITIS_START</th><th>ALLERGIC_RHINITIS_END</th><th>ASTHMA_START</th><th>ASTHMA_END</th><th>FIRST_ASTHMARX</th><th>LAST_ASTHMARX</th><th>NUM_ASTHMARX</th><th>RACE_ID</th><th>RACE</th></tr><tr><td>i64</td><td>i64</td><td>str</td><td>str</td><td>f64</td><td>f64</td><td>f64</td><td>f64</td><td>f64</td><td>f64</td><td>f64</td><td>f64</td><td>f64</td><td>f64</td><td>i64</td><td>str</td><td>str</td></tr></thead><tbody><tr><td>2</td><td>1994</td><td>&quot;S1 - Female&quot;</td><td>&quot;E0 - Non-Hispa…</td><td>12.232717</td><td>18.880219</td><td>null</td><td>null</td><td>null</td><td>null</td><td>null</td><td>null</td><td>12.262834</td><td>18.880219</td><td>2</td><td>&quot;R0&quot;</td><td>&quot;White&quot;</td></tr><tr><td>3</td><td>2006</td><td>&quot;S0 - Male&quot;</td><td>&quot;E1 - Hispanic&quot;</td><td>0.010951</td><td>6.726899</td><td>4.884326</td><td>null</td><td>3.917864</td><td>6.157426</td><td>5.127995</td><td>null</td><td>1.404517</td><td>6.157426</td><td>4</td><td>&quot;R0&quot;</td><td>&quot;White&quot;</td></tr><tr><td>9</td><td>2006</td><td>&quot;S0 - Male&quot;</td><td>&quot;E0 - Non-Hispa…</td><td>0.019165</td><td>6.726899</td><td>1.015743</td><td>1.015743</td><td>null</td><td>null</td><td>null</td><td>null</td><td>null</td><td>null</td><td>null</td><td>&quot;R0&quot;</td><td>&quot;White&quot;</td></tr><tr><td>11</td><td>2006</td><td>&quot;S0 - Male&quot;</td><td>&quot;E0 - Non-Hispa…</td><td>0.019165</td><td>7.003422</td><td>null</td><td>null</td><td>null</td><td>null</td><td>null</td><td>null</td><td>7.003422</td><td>7.003422</td><td>1</td><td>&quot;R4&quot;</td><td>&quot;Unknown&quot;</td></tr><tr><td>14</td><td>2006</td><td>&quot;S0 - Male&quot;</td><td>&quot;E1 - Hispanic&quot;</td><td>0.013689</td><td>5.91102</td><td>null</td><td>null</td><td>null</td><td>null</td><td>1.002053</td><td>3.789185</td><td>1.007529</td><td>1.524983</td><td>8</td><td>&quot;R4&quot;</td><td>&quot;Unknown&quot;</td></tr></tbody></table></div>"
      ],
      "text/plain": [
       "shape: (5, 17)\n",
       "┌────────────┬────────────┬────────────┬───────────┬───┬───────────┬───────────┬─────────┬─────────┐\n",
       "│ SUBJECT_ID ┆ BIRTH_YEAR ┆ GENDER_FAC ┆ ETHNICITY ┆ … ┆ LAST_ASTH ┆ NUM_ASTHM ┆ RACE_ID ┆ RACE    │\n",
       "│ ---        ┆ ---        ┆ TOR        ┆ _FACTOR   ┆   ┆ MARX      ┆ ARX       ┆ ---     ┆ ---     │\n",
       "│ i64        ┆ i64        ┆ ---        ┆ ---       ┆   ┆ ---       ┆ ---       ┆ str     ┆ str     │\n",
       "│            ┆            ┆ str        ┆ str       ┆   ┆ f64       ┆ i64       ┆         ┆         │\n",
       "╞════════════╪════════════╪════════════╪═══════════╪═══╪═══════════╪═══════════╪═════════╪═════════╡\n",
       "│ 2          ┆ 1994       ┆ S1 -       ┆ E0 - Non- ┆ … ┆ 18.880219 ┆ 2         ┆ R0      ┆ White   │\n",
       "│            ┆            ┆ Female     ┆ Hispanic  ┆   ┆           ┆           ┆         ┆         │\n",
       "│ 3          ┆ 2006       ┆ S0 - Male  ┆ E1 -      ┆ … ┆ 6.157426  ┆ 4         ┆ R0      ┆ White   │\n",
       "│            ┆            ┆            ┆ Hispanic  ┆   ┆           ┆           ┆         ┆         │\n",
       "│ 9          ┆ 2006       ┆ S0 - Male  ┆ E0 - Non- ┆ … ┆ null      ┆ null      ┆ R0      ┆ White   │\n",
       "│            ┆            ┆            ┆ Hispanic  ┆   ┆           ┆           ┆         ┆         │\n",
       "│ 11         ┆ 2006       ┆ S0 - Male  ┆ E0 - Non- ┆ … ┆ 7.003422  ┆ 1         ┆ R4      ┆ Unknown │\n",
       "│            ┆            ┆            ┆ Hispanic  ┆   ┆           ┆           ┆         ┆         │\n",
       "│ 14         ┆ 2006       ┆ S0 - Male  ┆ E1 -      ┆ … ┆ 1.524983  ┆ 8         ┆ R4      ┆ Unknown │\n",
       "│            ┆            ┆            ┆ Hispanic  ┆   ┆           ┆           ┆         ┆         │\n",
       "└────────────┴────────────┴────────────┴───────────┴───┴───────────┴───────────┴─────────┴─────────┘"
      ]
     },
     "execution_count": 7,
     "metadata": {},
     "output_type": "execute_result"
    }
   ],
   "source": [
    "# Split the \"RACE_FACTOR\" column into a \"RACE_ID\" column and \"RACE\" column\n",
    "filtered_df = filtered_df.with_columns(\n",
    "    [\n",
    "        pl.col(\"RACE_FACTOR\")\n",
    "        .str.split_exact(\" - \", 1)\n",
    "        .struct.rename_fields([\"RACE_ID\", \"RACE\"])\n",
    "        .alias(\"fields\"),\n",
    "    ]\n",
    ").unnest(\"fields\")\n",
    "\n",
    "# Drop the original column\n",
    "filtered_df = filtered_df.drop('RACE_FACTOR')\n",
    "\n",
    "\n",
    "filtered_df.head()"
   ]
  },
  {
   "cell_type": "code",
   "execution_count": 8,
   "metadata": {},
   "outputs": [
    {
     "data": {
      "text/html": [
       "<div><style>\n",
       ".dataframe > thead > tr,\n",
       ".dataframe > tbody > tr {\n",
       "  text-align: right;\n",
       "  white-space: pre-wrap;\n",
       "}\n",
       "</style>\n",
       "<small>shape: (5, 18)</small><table border=\"1\" class=\"dataframe\"><thead><tr><th>SUBJECT_ID</th><th>BIRTH_YEAR</th><th>GENDER_FACTOR</th><th>AGE_START_YEARS</th><th>AGE_END_YEARS</th><th>ATOPIC_DERM_START</th><th>ATOPIC_DERM_END</th><th>ALLERGIC_RHINITIS_START</th><th>ALLERGIC_RHINITIS_END</th><th>ASTHMA_START</th><th>ASTHMA_END</th><th>FIRST_ASTHMARX</th><th>LAST_ASTHMARX</th><th>NUM_ASTHMARX</th><th>RACE_ID</th><th>RACE</th><th>ETHNICITY_ID</th><th>ETHNICITY</th></tr><tr><td>i64</td><td>i64</td><td>str</td><td>f64</td><td>f64</td><td>f64</td><td>f64</td><td>f64</td><td>f64</td><td>f64</td><td>f64</td><td>f64</td><td>f64</td><td>i64</td><td>str</td><td>str</td><td>str</td><td>str</td></tr></thead><tbody><tr><td>2</td><td>1994</td><td>&quot;S1 - Female&quot;</td><td>12.232717</td><td>18.880219</td><td>null</td><td>null</td><td>null</td><td>null</td><td>null</td><td>null</td><td>12.262834</td><td>18.880219</td><td>2</td><td>&quot;R0&quot;</td><td>&quot;White&quot;</td><td>&quot;E0&quot;</td><td>&quot;Non-Hispanic&quot;</td></tr><tr><td>3</td><td>2006</td><td>&quot;S0 - Male&quot;</td><td>0.010951</td><td>6.726899</td><td>4.884326</td><td>null</td><td>3.917864</td><td>6.157426</td><td>5.127995</td><td>null</td><td>1.404517</td><td>6.157426</td><td>4</td><td>&quot;R0&quot;</td><td>&quot;White&quot;</td><td>&quot;E1&quot;</td><td>&quot;Hispanic&quot;</td></tr><tr><td>9</td><td>2006</td><td>&quot;S0 - Male&quot;</td><td>0.019165</td><td>6.726899</td><td>1.015743</td><td>1.015743</td><td>null</td><td>null</td><td>null</td><td>null</td><td>null</td><td>null</td><td>null</td><td>&quot;R0&quot;</td><td>&quot;White&quot;</td><td>&quot;E0&quot;</td><td>&quot;Non-Hispanic&quot;</td></tr><tr><td>11</td><td>2006</td><td>&quot;S0 - Male&quot;</td><td>0.019165</td><td>7.003422</td><td>null</td><td>null</td><td>null</td><td>null</td><td>null</td><td>null</td><td>7.003422</td><td>7.003422</td><td>1</td><td>&quot;R4&quot;</td><td>&quot;Unknown&quot;</td><td>&quot;E0&quot;</td><td>&quot;Non-Hispanic&quot;</td></tr><tr><td>14</td><td>2006</td><td>&quot;S0 - Male&quot;</td><td>0.013689</td><td>5.91102</td><td>null</td><td>null</td><td>null</td><td>null</td><td>1.002053</td><td>3.789185</td><td>1.007529</td><td>1.524983</td><td>8</td><td>&quot;R4&quot;</td><td>&quot;Unknown&quot;</td><td>&quot;E1&quot;</td><td>&quot;Hispanic&quot;</td></tr></tbody></table></div>"
      ],
      "text/plain": [
       "shape: (5, 18)\n",
       "┌────────────┬────────────┬────────────┬───────────┬───┬─────────┬─────────┬───────────┬───────────┐\n",
       "│ SUBJECT_ID ┆ BIRTH_YEAR ┆ GENDER_FAC ┆ AGE_START ┆ … ┆ RACE_ID ┆ RACE    ┆ ETHNICITY ┆ ETHNICITY │\n",
       "│ ---        ┆ ---        ┆ TOR        ┆ _YEARS    ┆   ┆ ---     ┆ ---     ┆ _ID       ┆ ---       │\n",
       "│ i64        ┆ i64        ┆ ---        ┆ ---       ┆   ┆ str     ┆ str     ┆ ---       ┆ str       │\n",
       "│            ┆            ┆ str        ┆ f64       ┆   ┆         ┆         ┆ str       ┆           │\n",
       "╞════════════╪════════════╪════════════╪═══════════╪═══╪═════════╪═════════╪═══════════╪═══════════╡\n",
       "│ 2          ┆ 1994       ┆ S1 -       ┆ 12.232717 ┆ … ┆ R0      ┆ White   ┆ E0        ┆ Non-Hispa │\n",
       "│            ┆            ┆ Female     ┆           ┆   ┆         ┆         ┆           ┆ nic       │\n",
       "│ 3          ┆ 2006       ┆ S0 - Male  ┆ 0.010951  ┆ … ┆ R0      ┆ White   ┆ E1        ┆ Hispanic  │\n",
       "│ 9          ┆ 2006       ┆ S0 - Male  ┆ 0.019165  ┆ … ┆ R0      ┆ White   ┆ E0        ┆ Non-Hispa │\n",
       "│            ┆            ┆            ┆           ┆   ┆         ┆         ┆           ┆ nic       │\n",
       "│ 11         ┆ 2006       ┆ S0 - Male  ┆ 0.019165  ┆ … ┆ R4      ┆ Unknown ┆ E0        ┆ Non-Hispa │\n",
       "│            ┆            ┆            ┆           ┆   ┆         ┆         ┆           ┆ nic       │\n",
       "│ 14         ┆ 2006       ┆ S0 - Male  ┆ 0.013689  ┆ … ┆ R4      ┆ Unknown ┆ E1        ┆ Hispanic  │\n",
       "└────────────┴────────────┴────────────┴───────────┴───┴─────────┴─────────┴───────────┴───────────┘"
      ]
     },
     "execution_count": 8,
     "metadata": {},
     "output_type": "execute_result"
    }
   ],
   "source": [
    "# Split the \"ETHNICITY_FACTOR\" column into a \"ETHNICITY_ID\" column and \"ETHNICITY\" column\n",
    "filtered_df = filtered_df.with_columns(\n",
    "    [\n",
    "        pl.col(\"ETHNICITY_FACTOR\")\n",
    "        .str.split_exact(\" - \", 1)\n",
    "        .struct.rename_fields([\"ETHNICITY_ID\", \"ETHNICITY\"])\n",
    "        .alias(\"fields\"),\n",
    "    ]\n",
    ").unnest(\"fields\")\n",
    "\n",
    "# Drop the original column\n",
    "filtered_df = filtered_df.drop('ETHNICITY_FACTOR')\n",
    "\n",
    "filtered_df.head()"
   ]
  },
  {
   "cell_type": "code",
   "execution_count": 9,
   "metadata": {},
   "outputs": [
    {
     "name": "stderr",
     "output_type": "stream",
     "text": [
      "/var/folders/yn/h96bxfsj0f16x87j9kckgkzm0000gn/T/ipykernel_26342/3623422084.py:3: DeprecationWarning: `apply` is deprecated. It has been renamed to `map_elements`.\n",
      "  pl.col('GENDER_FACTOR').apply(lambda value: 'F' if value == \"S1 - Female\" else ('M' if value == \"S0 - Male\" else \"O\")).alias('GENDER')\n"
     ]
    },
    {
     "data": {
      "text/html": [
       "<div><style>\n",
       ".dataframe > thead > tr,\n",
       ".dataframe > tbody > tr {\n",
       "  text-align: right;\n",
       "  white-space: pre-wrap;\n",
       "}\n",
       "</style>\n",
       "<small>shape: (5, 18)</small><table border=\"1\" class=\"dataframe\"><thead><tr><th>SUBJECT_ID</th><th>BIRTH_YEAR</th><th>AGE_START_YEARS</th><th>AGE_END_YEARS</th><th>ATOPIC_DERM_START</th><th>ATOPIC_DERM_END</th><th>ALLERGIC_RHINITIS_START</th><th>ALLERGIC_RHINITIS_END</th><th>ASTHMA_START</th><th>ASTHMA_END</th><th>FIRST_ASTHMARX</th><th>LAST_ASTHMARX</th><th>NUM_ASTHMARX</th><th>RACE_ID</th><th>RACE</th><th>ETHNICITY_ID</th><th>ETHNICITY</th><th>GENDER</th></tr><tr><td>i64</td><td>i64</td><td>f64</td><td>f64</td><td>f64</td><td>f64</td><td>f64</td><td>f64</td><td>f64</td><td>f64</td><td>f64</td><td>f64</td><td>i64</td><td>str</td><td>str</td><td>str</td><td>str</td><td>str</td></tr></thead><tbody><tr><td>2</td><td>1994</td><td>12.232717</td><td>18.880219</td><td>null</td><td>null</td><td>null</td><td>null</td><td>null</td><td>null</td><td>12.262834</td><td>18.880219</td><td>2</td><td>&quot;R0&quot;</td><td>&quot;White&quot;</td><td>&quot;E0&quot;</td><td>&quot;Non-Hispanic&quot;</td><td>&quot;F&quot;</td></tr><tr><td>3</td><td>2006</td><td>0.010951</td><td>6.726899</td><td>4.884326</td><td>null</td><td>3.917864</td><td>6.157426</td><td>5.127995</td><td>null</td><td>1.404517</td><td>6.157426</td><td>4</td><td>&quot;R0&quot;</td><td>&quot;White&quot;</td><td>&quot;E1&quot;</td><td>&quot;Hispanic&quot;</td><td>&quot;M&quot;</td></tr><tr><td>9</td><td>2006</td><td>0.019165</td><td>6.726899</td><td>1.015743</td><td>1.015743</td><td>null</td><td>null</td><td>null</td><td>null</td><td>null</td><td>null</td><td>null</td><td>&quot;R0&quot;</td><td>&quot;White&quot;</td><td>&quot;E0&quot;</td><td>&quot;Non-Hispanic&quot;</td><td>&quot;M&quot;</td></tr><tr><td>11</td><td>2006</td><td>0.019165</td><td>7.003422</td><td>null</td><td>null</td><td>null</td><td>null</td><td>null</td><td>null</td><td>7.003422</td><td>7.003422</td><td>1</td><td>&quot;R4&quot;</td><td>&quot;Unknown&quot;</td><td>&quot;E0&quot;</td><td>&quot;Non-Hispanic&quot;</td><td>&quot;M&quot;</td></tr><tr><td>14</td><td>2006</td><td>0.013689</td><td>5.91102</td><td>null</td><td>null</td><td>null</td><td>null</td><td>1.002053</td><td>3.789185</td><td>1.007529</td><td>1.524983</td><td>8</td><td>&quot;R4&quot;</td><td>&quot;Unknown&quot;</td><td>&quot;E1&quot;</td><td>&quot;Hispanic&quot;</td><td>&quot;M&quot;</td></tr></tbody></table></div>"
      ],
      "text/plain": [
       "shape: (5, 18)\n",
       "┌────────────┬────────────┬────────────┬────────────┬───┬─────────┬───────────┬───────────┬────────┐\n",
       "│ SUBJECT_ID ┆ BIRTH_YEAR ┆ AGE_START_ ┆ AGE_END_YE ┆ … ┆ RACE    ┆ ETHNICITY ┆ ETHNICITY ┆ GENDER │\n",
       "│ ---        ┆ ---        ┆ YEARS      ┆ ARS        ┆   ┆ ---     ┆ _ID       ┆ ---       ┆ ---    │\n",
       "│ i64        ┆ i64        ┆ ---        ┆ ---        ┆   ┆ str     ┆ ---       ┆ str       ┆ str    │\n",
       "│            ┆            ┆ f64        ┆ f64        ┆   ┆         ┆ str       ┆           ┆        │\n",
       "╞════════════╪════════════╪════════════╪════════════╪═══╪═════════╪═══════════╪═══════════╪════════╡\n",
       "│ 2          ┆ 1994       ┆ 12.232717  ┆ 18.880219  ┆ … ┆ White   ┆ E0        ┆ Non-Hispa ┆ F      │\n",
       "│            ┆            ┆            ┆            ┆   ┆         ┆           ┆ nic       ┆        │\n",
       "│ 3          ┆ 2006       ┆ 0.010951   ┆ 6.726899   ┆ … ┆ White   ┆ E1        ┆ Hispanic  ┆ M      │\n",
       "│ 9          ┆ 2006       ┆ 0.019165   ┆ 6.726899   ┆ … ┆ White   ┆ E0        ┆ Non-Hispa ┆ M      │\n",
       "│            ┆            ┆            ┆            ┆   ┆         ┆           ┆ nic       ┆        │\n",
       "│ 11         ┆ 2006       ┆ 0.019165   ┆ 7.003422   ┆ … ┆ Unknown ┆ E0        ┆ Non-Hispa ┆ M      │\n",
       "│            ┆            ┆            ┆            ┆   ┆         ┆           ┆ nic       ┆        │\n",
       "│ 14         ┆ 2006       ┆ 0.013689   ┆ 5.91102    ┆ … ┆ Unknown ┆ E1        ┆ Hispanic  ┆ M      │\n",
       "└────────────┴────────────┴────────────┴────────────┴───┴─────────┴───────────┴───────────┴────────┘"
      ]
     },
     "execution_count": 9,
     "metadata": {},
     "output_type": "execute_result"
    }
   ],
   "source": [
    "# Create a new column that re-codes the \"GENEDER_FACTOR\" column to be one character\n",
    "filtered_df = filtered_df.with_columns([\n",
    "    pl.col('GENDER_FACTOR').apply(lambda value: 'F' if value == \"S1 - Female\" else ('M' if value == \"S0 - Male\" else \"O\")).alias('GENDER')\n",
    "])\n",
    "\n",
    "# Drop the original column\n",
    "filtered_df = filtered_df.drop('GENDER_FACTOR')\n",
    "\n",
    "filtered_df.head()"
   ]
  },
  {
   "cell_type": "code",
   "execution_count": 10,
   "metadata": {},
   "outputs": [
    {
     "data": {
      "text/html": [
       "<div><style>\n",
       ".dataframe > thead > tr,\n",
       ".dataframe > tbody > tr {\n",
       "  text-align: right;\n",
       "  white-space: pre-wrap;\n",
       "}\n",
       "</style>\n",
       "<small>shape: (161_894, 18)</small><table border=\"1\" class=\"dataframe\"><thead><tr><th>SUBJECT_ID</th><th>BIRTH_YEAR</th><th>AGE_START_YEARS</th><th>AGE_END_YEARS</th><th>ATOPIC_DERM_START</th><th>ATOPIC_DERM_END</th><th>ALLERGIC_RHINITIS_START</th><th>ALLERGIC_RHINITIS_END</th><th>ASTHMA_START</th><th>ASTHMA_END</th><th>FIRST_ASTHMARX</th><th>LAST_ASTHMARX</th><th>NUM_ASTHMARX</th><th>RACE_ID</th><th>RACE</th><th>ETHNICITY_ID</th><th>ETHNICITY</th><th>GENDER</th></tr><tr><td>i64</td><td>i64</td><td>f64</td><td>f64</td><td>f64</td><td>f64</td><td>f64</td><td>f64</td><td>f64</td><td>f64</td><td>f64</td><td>f64</td><td>i64</td><td>str</td><td>str</td><td>str</td><td>str</td><td>str</td></tr></thead><tbody><tr><td>2</td><td>1994</td><td>12.233</td><td>18.88</td><td>null</td><td>null</td><td>null</td><td>null</td><td>null</td><td>null</td><td>12.263</td><td>18.88</td><td>2</td><td>&quot;R0&quot;</td><td>&quot;White&quot;</td><td>&quot;E0&quot;</td><td>&quot;Non-Hispanic&quot;</td><td>&quot;F&quot;</td></tr><tr><td>3</td><td>2006</td><td>0.011</td><td>6.727</td><td>4.884</td><td>null</td><td>3.918</td><td>6.157</td><td>5.128</td><td>null</td><td>1.405</td><td>6.157</td><td>4</td><td>&quot;R0&quot;</td><td>&quot;White&quot;</td><td>&quot;E1&quot;</td><td>&quot;Hispanic&quot;</td><td>&quot;M&quot;</td></tr><tr><td>9</td><td>2006</td><td>0.019</td><td>6.727</td><td>1.016</td><td>1.016</td><td>null</td><td>null</td><td>null</td><td>null</td><td>null</td><td>null</td><td>null</td><td>&quot;R0&quot;</td><td>&quot;White&quot;</td><td>&quot;E0&quot;</td><td>&quot;Non-Hispanic&quot;</td><td>&quot;M&quot;</td></tr><tr><td>11</td><td>2006</td><td>0.019</td><td>7.003</td><td>null</td><td>null</td><td>null</td><td>null</td><td>null</td><td>null</td><td>7.003</td><td>7.003</td><td>1</td><td>&quot;R4&quot;</td><td>&quot;Unknown&quot;</td><td>&quot;E0&quot;</td><td>&quot;Non-Hispanic&quot;</td><td>&quot;M&quot;</td></tr><tr><td>14</td><td>2006</td><td>0.014</td><td>5.911</td><td>null</td><td>null</td><td>null</td><td>null</td><td>1.002</td><td>3.789</td><td>1.008</td><td>1.525</td><td>8</td><td>&quot;R4&quot;</td><td>&quot;Unknown&quot;</td><td>&quot;E1&quot;</td><td>&quot;Hispanic&quot;</td><td>&quot;M&quot;</td></tr><tr><td>17</td><td>2006</td><td>0.011</td><td>6.218</td><td>0.4</td><td>0.4</td><td>null</td><td>null</td><td>null</td><td>null</td><td>null</td><td>null</td><td>null</td><td>&quot;R0&quot;</td><td>&quot;White&quot;</td><td>&quot;E0&quot;</td><td>&quot;Non-Hispanic&quot;</td><td>&quot;M&quot;</td></tr><tr><td>19</td><td>2006</td><td>0.016</td><td>6.188</td><td>null</td><td>null</td><td>null</td><td>null</td><td>1.41</td><td>null</td><td>1.248</td><td>6.108</td><td>10</td><td>&quot;R0&quot;</td><td>&quot;White&quot;</td><td>&quot;E0&quot;</td><td>&quot;Non-Hispanic&quot;</td><td>&quot;M&quot;</td></tr><tr><td>20</td><td>2006</td><td>0.014</td><td>2.842</td><td>2.152</td><td>2.152</td><td>null</td><td>null</td><td>null</td><td>null</td><td>null</td><td>null</td><td>null</td><td>&quot;R0&quot;</td><td>&quot;White&quot;</td><td>&quot;E0&quot;</td><td>&quot;Non-Hispanic&quot;</td><td>&quot;M&quot;</td></tr><tr><td>21</td><td>2006</td><td>0.014</td><td>7.05</td><td>null</td><td>null</td><td>null</td><td>null</td><td>null</td><td>null</td><td>4.019</td><td>4.019</td><td>1</td><td>&quot;R1&quot;</td><td>&quot;Black&quot;</td><td>&quot;E0&quot;</td><td>&quot;Non-Hispanic&quot;</td><td>&quot;F&quot;</td></tr><tr><td>22</td><td>2006</td><td>0.014</td><td>6.428</td><td>null</td><td>null</td><td>null</td><td>null</td><td>1.388</td><td>null</td><td>1.388</td><td>6.439</td><td>15</td><td>&quot;R0&quot;</td><td>&quot;White&quot;</td><td>&quot;E0&quot;</td><td>&quot;Non-Hispanic&quot;</td><td>&quot;F&quot;</td></tr><tr><td>23</td><td>2003</td><td>3.288</td><td>10.16</td><td>null</td><td>null</td><td>null</td><td>null</td><td>3.299</td><td>null</td><td>3.299</td><td>10.149</td><td>15</td><td>&quot;R0&quot;</td><td>&quot;White&quot;</td><td>&quot;E0&quot;</td><td>&quot;Non-Hispanic&quot;</td><td>&quot;F&quot;</td></tr><tr><td>24</td><td>1999</td><td>7.784</td><td>14.705</td><td>null</td><td>null</td><td>7.784</td><td>13.446</td><td>null</td><td>null</td><td>7.784</td><td>11.951</td><td>4</td><td>&quot;R0&quot;</td><td>&quot;White&quot;</td><td>&quot;E0&quot;</td><td>&quot;Non-Hispanic&quot;</td><td>&quot;F&quot;</td></tr><tr><td>&hellip;</td><td>&hellip;</td><td>&hellip;</td><td>&hellip;</td><td>&hellip;</td><td>&hellip;</td><td>&hellip;</td><td>&hellip;</td><td>&hellip;</td><td>&hellip;</td><td>&hellip;</td><td>&hellip;</td><td>&hellip;</td><td>&hellip;</td><td>&hellip;</td><td>&hellip;</td><td>&hellip;</td><td>&hellip;</td></tr><tr><td>333177</td><td>2006</td><td>0.016</td><td>6.576</td><td>1.517</td><td>1.517</td><td>null</td><td>null</td><td>null</td><td>null</td><td>2.179</td><td>3.934</td><td>4</td><td>&quot;R0&quot;</td><td>&quot;White&quot;</td><td>&quot;E0&quot;</td><td>&quot;Non-Hispanic&quot;</td><td>&quot;M&quot;</td></tr><tr><td>333178</td><td>1998</td><td>8.397</td><td>15.105</td><td>null</td><td>null</td><td>null</td><td>null</td><td>null</td><td>null</td><td>12.361</td><td>12.4</td><td>2</td><td>&quot;R4&quot;</td><td>&quot;Unknown&quot;</td><td>&quot;E0&quot;</td><td>&quot;Non-Hispanic&quot;</td><td>&quot;F&quot;</td></tr><tr><td>333180</td><td>2006</td><td>0.016</td><td>6.762</td><td>null</td><td>null</td><td>null</td><td>null</td><td>null</td><td>null</td><td>1.851</td><td>4.819</td><td>4</td><td>&quot;R0&quot;</td><td>&quot;White&quot;</td><td>&quot;E0&quot;</td><td>&quot;Non-Hispanic&quot;</td><td>&quot;F&quot;</td></tr><tr><td>333181</td><td>2006</td><td>0.008</td><td>7.006</td><td>0.123</td><td>0.411</td><td>6.426</td><td>null</td><td>null</td><td>null</td><td>2.746</td><td>6.426</td><td>4</td><td>&quot;R1&quot;</td><td>&quot;Black&quot;</td><td>&quot;E0&quot;</td><td>&quot;Non-Hispanic&quot;</td><td>&quot;F&quot;</td></tr><tr><td>333182</td><td>2006</td><td>0.027</td><td>6.628</td><td>3.28</td><td>null</td><td>null</td><td>null</td><td>null</td><td>null</td><td>null</td><td>null</td><td>null</td><td>&quot;R1&quot;</td><td>&quot;Black&quot;</td><td>&quot;E0&quot;</td><td>&quot;Non-Hispanic&quot;</td><td>&quot;M&quot;</td></tr><tr><td>333188</td><td>2006</td><td>0.016</td><td>6.275</td><td>null</td><td>null</td><td>null</td><td>null</td><td>null</td><td>null</td><td>6.179</td><td>6.179</td><td>1</td><td>&quot;R0&quot;</td><td>&quot;White&quot;</td><td>&quot;E0&quot;</td><td>&quot;Non-Hispanic&quot;</td><td>&quot;M&quot;</td></tr><tr><td>333190</td><td>2006</td><td>0.016</td><td>2.91</td><td>0.178</td><td>1.01</td><td>null</td><td>null</td><td>null</td><td>null</td><td>1.366</td><td>2.407</td><td>4</td><td>&quot;R1&quot;</td><td>&quot;Black&quot;</td><td>&quot;E0&quot;</td><td>&quot;Non-Hispanic&quot;</td><td>&quot;M&quot;</td></tr><tr><td>333194</td><td>2006</td><td>0.014</td><td>7.077</td><td>1.021</td><td>1.021</td><td>4.107</td><td>null</td><td>null</td><td>null</td><td>7.077</td><td>7.077</td><td>1</td><td>&quot;R0&quot;</td><td>&quot;White&quot;</td><td>&quot;E0&quot;</td><td>&quot;Non-Hispanic&quot;</td><td>&quot;M&quot;</td></tr><tr><td>333195</td><td>2006</td><td>0.736</td><td>7.389</td><td>0.736</td><td>null</td><td>null</td><td>null</td><td>null</td><td>null</td><td>null</td><td>null</td><td>null</td><td>&quot;R0&quot;</td><td>&quot;White&quot;</td><td>&quot;E0&quot;</td><td>&quot;Non-Hispanic&quot;</td><td>&quot;M&quot;</td></tr><tr><td>333196</td><td>2006</td><td>0.736</td><td>7.45</td><td>0.736</td><td>null</td><td>null</td><td>null</td><td>5.426</td><td>7.45</td><td>null</td><td>null</td><td>null</td><td>&quot;R0&quot;</td><td>&quot;White&quot;</td><td>&quot;E0&quot;</td><td>&quot;Non-Hispanic&quot;</td><td>&quot;M&quot;</td></tr><tr><td>333198</td><td>2006</td><td>0.444</td><td>7.406</td><td>null</td><td>null</td><td>null</td><td>null</td><td>2.322</td><td>null</td><td>2.322</td><td>6.65</td><td>4</td><td>&quot;R0&quot;</td><td>&quot;White&quot;</td><td>&quot;E0&quot;</td><td>&quot;Non-Hispanic&quot;</td><td>&quot;M&quot;</td></tr><tr><td>333200</td><td>2006</td><td>0.019</td><td>3.014</td><td>0.348</td><td>0.348</td><td>null</td><td>null</td><td>null</td><td>null</td><td>null</td><td>null</td><td>null</td><td>&quot;R0&quot;</td><td>&quot;White&quot;</td><td>&quot;E0&quot;</td><td>&quot;Non-Hispanic&quot;</td><td>&quot;F&quot;</td></tr></tbody></table></div>"
      ],
      "text/plain": [
       "shape: (161_894, 18)\n",
       "┌────────────┬────────────┬────────────┬────────────┬───┬─────────┬───────────┬───────────┬────────┐\n",
       "│ SUBJECT_ID ┆ BIRTH_YEAR ┆ AGE_START_ ┆ AGE_END_YE ┆ … ┆ RACE    ┆ ETHNICITY ┆ ETHNICITY ┆ GENDER │\n",
       "│ ---        ┆ ---        ┆ YEARS      ┆ ARS        ┆   ┆ ---     ┆ _ID       ┆ ---       ┆ ---    │\n",
       "│ i64        ┆ i64        ┆ ---        ┆ ---        ┆   ┆ str     ┆ ---       ┆ str       ┆ str    │\n",
       "│            ┆            ┆ f64        ┆ f64        ┆   ┆         ┆ str       ┆           ┆        │\n",
       "╞════════════╪════════════╪════════════╪════════════╪═══╪═════════╪═══════════╪═══════════╪════════╡\n",
       "│ 2          ┆ 1994       ┆ 12.233     ┆ 18.88      ┆ … ┆ White   ┆ E0        ┆ Non-Hispa ┆ F      │\n",
       "│            ┆            ┆            ┆            ┆   ┆         ┆           ┆ nic       ┆        │\n",
       "│ 3          ┆ 2006       ┆ 0.011      ┆ 6.727      ┆ … ┆ White   ┆ E1        ┆ Hispanic  ┆ M      │\n",
       "│ 9          ┆ 2006       ┆ 0.019      ┆ 6.727      ┆ … ┆ White   ┆ E0        ┆ Non-Hispa ┆ M      │\n",
       "│            ┆            ┆            ┆            ┆   ┆         ┆           ┆ nic       ┆        │\n",
       "│ 11         ┆ 2006       ┆ 0.019      ┆ 7.003      ┆ … ┆ Unknown ┆ E0        ┆ Non-Hispa ┆ M      │\n",
       "│            ┆            ┆            ┆            ┆   ┆         ┆           ┆ nic       ┆        │\n",
       "│ …          ┆ …          ┆ …          ┆ …          ┆ … ┆ …       ┆ …         ┆ …         ┆ …      │\n",
       "│ 333195     ┆ 2006       ┆ 0.736      ┆ 7.389      ┆ … ┆ White   ┆ E0        ┆ Non-Hispa ┆ M      │\n",
       "│            ┆            ┆            ┆            ┆   ┆         ┆           ┆ nic       ┆        │\n",
       "│ 333196     ┆ 2006       ┆ 0.736      ┆ 7.45       ┆ … ┆ White   ┆ E0        ┆ Non-Hispa ┆ M      │\n",
       "│            ┆            ┆            ┆            ┆   ┆         ┆           ┆ nic       ┆        │\n",
       "│ 333198     ┆ 2006       ┆ 0.444      ┆ 7.406      ┆ … ┆ White   ┆ E0        ┆ Non-Hispa ┆ M      │\n",
       "│            ┆            ┆            ┆            ┆   ┆         ┆           ┆ nic       ┆        │\n",
       "│ 333200     ┆ 2006       ┆ 0.019      ┆ 3.014      ┆ … ┆ White   ┆ E0        ┆ Non-Hispa ┆ F      │\n",
       "│            ┆            ┆            ┆            ┆   ┆         ┆           ┆ nic       ┆        │\n",
       "└────────────┴────────────┴────────────┴────────────┴───┴─────────┴───────────┴───────────┴────────┘"
      ]
     },
     "execution_count": 10,
     "metadata": {},
     "output_type": "execute_result"
    }
   ],
   "source": [
    "# Round all decimal columns to 3 decimal places in DF\n",
    "filtered_df = filtered_df.with_columns([\n",
    "    pl.col('AGE_START_YEARS').round(3),\n",
    "    pl.col('AGE_END_YEARS').round(3),\n",
    "    pl.col('ATOPIC_DERM_START').round(3),\n",
    "    pl.col('ATOPIC_DERM_END').round(3),\n",
    "    pl.col('ALLERGIC_RHINITIS_START').round(3),\n",
    "    pl.col('ALLERGIC_RHINITIS_END').round(3),\n",
    "    pl.col('ASTHMA_START').round(3),\n",
    "    pl.col('ASTHMA_END').round(3),\n",
    "    pl.col('FIRST_ASTHMARX').round(3),\n",
    "    pl.col('LAST_ASTHMARX').round(3)\n",
    "])\n",
    "\n",
    "filtered_df"
   ]
  },
  {
   "cell_type": "code",
   "execution_count": 15,
   "metadata": {},
   "outputs": [
    {
     "data": {
      "text/html": [
       "<div><style>\n",
       ".dataframe > thead > tr,\n",
       ".dataframe > tbody > tr {\n",
       "  text-align: right;\n",
       "  white-space: pre-wrap;\n",
       "}\n",
       "</style>\n",
       "<small>shape: (5, 2)</small><table border=\"1\" class=\"dataframe\"><thead><tr><th>RACE_ID</th><th>RACE</th></tr><tr><td>str</td><td>str</td></tr></thead><tbody><tr><td>&quot;R2&quot;</td><td>&quot;Asian or Pacif…</td></tr><tr><td>&quot;R0&quot;</td><td>&quot;Other&quot;</td></tr><tr><td>&quot;R3&quot;</td><td>&quot;White&quot;</td></tr><tr><td>&quot;R4&quot;</td><td>&quot;Black&quot;</td></tr><tr><td>&quot;R1&quot;</td><td>&quot;Unknown&quot;</td></tr></tbody></table></div>"
      ],
      "text/plain": [
       "shape: (5, 2)\n",
       "┌─────────┬───────────────────────────┐\n",
       "│ RACE_ID ┆ RACE                      │\n",
       "│ ---     ┆ ---                       │\n",
       "│ str     ┆ str                       │\n",
       "╞═════════╪═══════════════════════════╡\n",
       "│ R2      ┆ Asian or Pacific Islander │\n",
       "│ R0      ┆ Other                     │\n",
       "│ R3      ┆ White                     │\n",
       "│ R4      ┆ Black                     │\n",
       "│ R1      ┆ Unknown                   │\n",
       "└─────────┴───────────────────────────┘"
      ]
     },
     "execution_count": 15,
     "metadata": {},
     "output_type": "execute_result"
    }
   ],
   "source": [
    "# Create a dataframe containing: RACE_ID and RACE\n",
    "race_df = filtered_df.select(pl.col('RACE_ID', 'RACE').unique())\n",
    "\n",
    "# display df\n",
    "race_df"
   ]
  },
  {
   "cell_type": "code",
   "execution_count": 12,
   "metadata": {},
   "outputs": [
    {
     "data": {
      "text/html": [
       "<div><style>\n",
       ".dataframe > thead > tr,\n",
       ".dataframe > tbody > tr {\n",
       "  text-align: right;\n",
       "  white-space: pre-wrap;\n",
       "}\n",
       "</style>\n",
       "<small>shape: (2, 2)</small><table border=\"1\" class=\"dataframe\"><thead><tr><th>ETHNICITY_ID</th><th>ETHNICITY</th></tr><tr><td>str</td><td>str</td></tr></thead><tbody><tr><td>&quot;E0&quot;</td><td>&quot;Hispanic&quot;</td></tr><tr><td>&quot;E1&quot;</td><td>&quot;Non-Hispanic&quot;</td></tr></tbody></table></div>"
      ],
      "text/plain": [
       "shape: (2, 2)\n",
       "┌──────────────┬──────────────┐\n",
       "│ ETHNICITY_ID ┆ ETHNICITY    │\n",
       "│ ---          ┆ ---          │\n",
       "│ str          ┆ str          │\n",
       "╞══════════════╪══════════════╡\n",
       "│ E0           ┆ Hispanic     │\n",
       "│ E1           ┆ Non-Hispanic │\n",
       "└──────────────┴──────────────┘"
      ]
     },
     "execution_count": 12,
     "metadata": {},
     "output_type": "execute_result"
    }
   ],
   "source": [
    "# Create a dataframe containing: ETHNICITY ID AND ETHNICITY\n",
    "ethnicity_df = filtered_df.select(pl.col('ETHNICITY_ID', 'ETHNICITY').unique())\n",
    "\n",
    "# display df\n",
    "ethnicity_df"
   ]
  },
  {
   "cell_type": "code",
   "execution_count": 16,
   "metadata": {},
   "outputs": [
    {
     "data": {
      "text/html": [
       "<div><style>\n",
       ".dataframe > thead > tr,\n",
       ".dataframe > tbody > tr {\n",
       "  text-align: right;\n",
       "  white-space: pre-wrap;\n",
       "}\n",
       "</style>\n",
       "<small>shape: (5, 7)</small><table border=\"1\" class=\"dataframe\"><thead><tr><th>SUBJECT_ID</th><th>BIRTH_YEAR</th><th>AGE_START_YEARS</th><th>AGE_END_YEARS</th><th>GENDER</th><th>RACE_ID</th><th>ETHNICITY_ID</th></tr><tr><td>i64</td><td>i64</td><td>f64</td><td>f64</td><td>str</td><td>str</td><td>str</td></tr></thead><tbody><tr><td>2</td><td>1994</td><td>12.233</td><td>18.88</td><td>&quot;F&quot;</td><td>&quot;R0&quot;</td><td>&quot;E0&quot;</td></tr><tr><td>3</td><td>2006</td><td>0.011</td><td>6.727</td><td>&quot;M&quot;</td><td>&quot;R0&quot;</td><td>&quot;E1&quot;</td></tr><tr><td>9</td><td>2006</td><td>0.019</td><td>6.727</td><td>&quot;M&quot;</td><td>&quot;R0&quot;</td><td>&quot;E0&quot;</td></tr><tr><td>11</td><td>2006</td><td>0.019</td><td>7.003</td><td>&quot;M&quot;</td><td>&quot;R4&quot;</td><td>&quot;E0&quot;</td></tr><tr><td>14</td><td>2006</td><td>0.014</td><td>5.911</td><td>&quot;M&quot;</td><td>&quot;R4&quot;</td><td>&quot;E1&quot;</td></tr></tbody></table></div>"
      ],
      "text/plain": [
       "shape: (5, 7)\n",
       "┌────────────┬────────────┬─────────────────┬───────────────┬────────┬─────────┬──────────────┐\n",
       "│ SUBJECT_ID ┆ BIRTH_YEAR ┆ AGE_START_YEARS ┆ AGE_END_YEARS ┆ GENDER ┆ RACE_ID ┆ ETHNICITY_ID │\n",
       "│ ---        ┆ ---        ┆ ---             ┆ ---           ┆ ---    ┆ ---     ┆ ---          │\n",
       "│ i64        ┆ i64        ┆ f64             ┆ f64           ┆ str    ┆ str     ┆ str          │\n",
       "╞════════════╪════════════╪═════════════════╪═══════════════╪════════╪═════════╪══════════════╡\n",
       "│ 2          ┆ 1994       ┆ 12.233          ┆ 18.88         ┆ F      ┆ R0      ┆ E0           │\n",
       "│ 3          ┆ 2006       ┆ 0.011           ┆ 6.727         ┆ M      ┆ R0      ┆ E1           │\n",
       "│ 9          ┆ 2006       ┆ 0.019           ┆ 6.727         ┆ M      ┆ R0      ┆ E0           │\n",
       "│ 11         ┆ 2006       ┆ 0.019           ┆ 7.003         ┆ M      ┆ R4      ┆ E0           │\n",
       "│ 14         ┆ 2006       ┆ 0.014           ┆ 5.911         ┆ M      ┆ R4      ┆ E1           │\n",
       "└────────────┴────────────┴─────────────────┴───────────────┴────────┴─────────┴──────────────┘"
      ]
     },
     "execution_count": 16,
     "metadata": {},
     "output_type": "execute_result"
    }
   ],
   "source": [
    "# Create a dataframe containing: SUBJECT_ID, BIRTH_YEAR, GENDER, RACE_ID, and ETHNICITY_ID\n",
    "subject_df = filtered_df.select(pl.col('SUBJECT_ID', 'BIRTH_YEAR', 'AGE_START_YEARS', 'AGE_END_YEARS', 'GENDER', 'RACE_ID', 'ETHNICITY_ID'))\n",
    "\n",
    "subject_df.head()\n"
   ]
  }
 ],
 "metadata": {
  "kernelspec": {
   "display_name": "dev",
   "language": "python",
   "name": "python3"
  },
  "language_info": {
   "codemirror_mode": {
    "name": "ipython",
    "version": 3
   },
   "file_extension": ".py",
   "mimetype": "text/x-python",
   "name": "python",
   "nbconvert_exporter": "python",
   "pygments_lexer": "ipython3",
   "version": "3.10.13"
  }
 },
 "nbformat": 4,
 "nbformat_minor": 2
}
