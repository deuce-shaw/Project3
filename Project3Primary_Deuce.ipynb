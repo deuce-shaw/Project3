{
 "cells": [
  {
   "cell_type": "code",
   "execution_count": 1,
   "metadata": {},
   "outputs": [],
   "source": [
    "import pandas as pd\n",
    "import polars as pl\n",
    "import sqlite3"
   ]
  },
  {
   "cell_type": "code",
   "execution_count": 2,
   "metadata": {},
   "outputs": [
    {
     "data": {
      "text/html": [
       "<div><style>\n",
       ".dataframe > thead > tr,\n",
       ".dataframe > tbody > tr {\n",
       "  text-align: right;\n",
       "  white-space: pre-wrap;\n",
       "}\n",
       "</style>\n",
       "<small>shape: (5, 16)</small><table border=\"1\" class=\"dataframe\"><thead><tr><th>SUBJECT_ID</th><th>BIRTH_YEAR</th><th>GENDER_FACTOR</th><th>RACE_FACTOR</th><th>ETHNICITY_FACTOR</th><th>AGE_START_YEARS</th><th>AGE_END_YEARS</th><th>ATOPIC_DERM_START</th><th>ATOPIC_DERM_END</th><th>ALLERGIC_RHINITIS_START</th><th>ALLERGIC_RHINITIS_END</th><th>ASTHMA_START</th><th>ASTHMA_END</th><th>FIRST_ASTHMARX</th><th>LAST_ASTHMARX</th><th>NUM_ASTHMARX</th></tr><tr><td>i64</td><td>i64</td><td>str</td><td>str</td><td>str</td><td>f64</td><td>f64</td><td>str</td><td>str</td><td>str</td><td>str</td><td>str</td><td>str</td><td>str</td><td>str</td><td>str</td></tr></thead><tbody><tr><td>1</td><td>2006</td><td>&quot;S1 - Female&quot;</td><td>&quot;R1 - Black&quot;</td><td>&quot;E0 - Non-Hispa…</td><td>0.093087</td><td>3.164956</td><td>&quot;NA&quot;</td><td>&quot;NA&quot;</td><td>&quot;NA&quot;</td><td>&quot;NA&quot;</td><td>&quot;NA&quot;</td><td>&quot;NA&quot;</td><td>&quot;NA&quot;</td><td>&quot;NA&quot;</td><td>&quot;NA&quot;</td></tr><tr><td>2</td><td>1994</td><td>&quot;S1 - Female&quot;</td><td>&quot;R0 - White&quot;</td><td>&quot;E0 - Non-Hispa…</td><td>12.232717</td><td>18.880219</td><td>&quot;NA&quot;</td><td>&quot;NA&quot;</td><td>&quot;NA&quot;</td><td>&quot;NA&quot;</td><td>&quot;NA&quot;</td><td>&quot;NA&quot;</td><td>&quot;12.26283367556…</td><td>&quot;18.88021902806…</td><td>&quot;2&quot;</td></tr><tr><td>3</td><td>2006</td><td>&quot;S0 - Male&quot;</td><td>&quot;R0 - White&quot;</td><td>&quot;E1 - Hispanic&quot;</td><td>0.010951</td><td>6.726899</td><td>&quot;4.884325804243…</td><td>&quot;NA&quot;</td><td>&quot;3.917864476386…</td><td>&quot;6.157426420260…</td><td>&quot;5.127994524298…</td><td>&quot;NA&quot;</td><td>&quot;1.404517453798…</td><td>&quot;6.157426420260…</td><td>&quot;4&quot;</td></tr><tr><td>4</td><td>2004</td><td>&quot;S0 - Male&quot;</td><td>&quot;R4 - Unknown&quot;</td><td>&quot;E1 - Hispanic&quot;</td><td>2.398357</td><td>9.111567</td><td>&quot;NA&quot;</td><td>&quot;NA&quot;</td><td>&quot;NA&quot;</td><td>&quot;NA&quot;</td><td>&quot;NA&quot;</td><td>&quot;NA&quot;</td><td>&quot;NA&quot;</td><td>&quot;NA&quot;</td><td>&quot;NA&quot;</td></tr><tr><td>5</td><td>2006</td><td>&quot;S1 - Female&quot;</td><td>&quot;R1 - Black&quot;</td><td>&quot;E0 - Non-Hispa…</td><td>0.013689</td><td>6.193018</td><td>&quot;NA&quot;</td><td>&quot;NA&quot;</td><td>&quot;NA&quot;</td><td>&quot;NA&quot;</td><td>&quot;NA&quot;</td><td>&quot;NA&quot;</td><td>&quot;NA&quot;</td><td>&quot;NA&quot;</td><td>&quot;NA&quot;</td></tr></tbody></table></div>"
      ],
      "text/plain": [
       "shape: (5, 16)\n",
       "┌───────────┬───────────┬───────────┬───────────┬───┬───────────┬───────────┬───────────┬──────────┐\n",
       "│ SUBJECT_I ┆ BIRTH_YEA ┆ GENDER_FA ┆ RACE_FACT ┆ … ┆ ASTHMA_EN ┆ FIRST_AST ┆ LAST_ASTH ┆ NUM_ASTH │\n",
       "│ D         ┆ R         ┆ CTOR      ┆ OR        ┆   ┆ D         ┆ HMARX     ┆ MARX      ┆ MARX     │\n",
       "│ ---       ┆ ---       ┆ ---       ┆ ---       ┆   ┆ ---       ┆ ---       ┆ ---       ┆ ---      │\n",
       "│ i64       ┆ i64       ┆ str       ┆ str       ┆   ┆ str       ┆ str       ┆ str       ┆ str      │\n",
       "╞═══════════╪═══════════╪═══════════╪═══════════╪═══╪═══════════╪═══════════╪═══════════╪══════════╡\n",
       "│ 1         ┆ 2006      ┆ S1 -      ┆ R1 -      ┆ … ┆ NA        ┆ NA        ┆ NA        ┆ NA       │\n",
       "│           ┆           ┆ Female    ┆ Black     ┆   ┆           ┆           ┆           ┆          │\n",
       "│ 2         ┆ 1994      ┆ S1 -      ┆ R0 -      ┆ … ┆ NA        ┆ 12.262833 ┆ 18.880219 ┆ 2        │\n",
       "│           ┆           ┆ Female    ┆ White     ┆   ┆           ┆ 6755647   ┆ 028063    ┆          │\n",
       "│ 3         ┆ 2006      ┆ S0 - Male ┆ R0 -      ┆ … ┆ NA        ┆ 1.4045174 ┆ 6.1574264 ┆ 4        │\n",
       "│           ┆           ┆           ┆ White     ┆   ┆           ┆ 5379877   ┆ 202601    ┆          │\n",
       "│ 4         ┆ 2004      ┆ S0 - Male ┆ R4 -      ┆ … ┆ NA        ┆ NA        ┆ NA        ┆ NA       │\n",
       "│           ┆           ┆           ┆ Unknown   ┆   ┆           ┆           ┆           ┆          │\n",
       "│ 5         ┆ 2006      ┆ S1 -      ┆ R1 -      ┆ … ┆ NA        ┆ NA        ┆ NA        ┆ NA       │\n",
       "│           ┆           ┆ Female    ┆ Black     ┆   ┆           ┆           ┆           ┆          │\n",
       "└───────────┴───────────┴───────────┴───────────┴───┴───────────┴───────────┴───────────┴──────────┘"
      ]
     },
     "execution_count": 2,
     "metadata": {},
     "output_type": "execute_result"
    }
   ],
   "source": [
    "#determine what columns we want to keep\n",
    "columns_to_keep = ['SUBJECT_ID', 'BIRTH_YEAR', 'GENDER_FACTOR', 'RACE_FACTOR', 'ETHNICITY_FACTOR', 'AGE_START_YEARS', 'AGE_END_YEARS', 'ATOPIC_DERM_START', 'ATOPIC_DERM_END', 'ALLERGIC_RHINITIS_START', 'ALLERGIC_RHINITIS_END', 'ASTHMA_START', 'ASTHMA_END', 'FIRST_ASTHMARX', 'LAST_ASTHMARX', 'NUM_ASTHMARX']\n",
    "\n",
    "#load CSV file into a dataframe\n",
    "df_csv = pl.read_csv(\"food-allergy-analysis-Zenodo.csv\").select(columns_to_keep)\n",
    "df_csv.head()"
   ]
  },
  {
   "cell_type": "code",
   "execution_count": 3,
   "metadata": {},
   "outputs": [
    {
     "data": {
      "text/html": [
       "<div><style>\n",
       ".dataframe > thead > tr,\n",
       ".dataframe > tbody > tr {\n",
       "  text-align: right;\n",
       "  white-space: pre-wrap;\n",
       "}\n",
       "</style>\n",
       "<small>shape: (9, 17)</small><table border=\"1\" class=\"dataframe\"><thead><tr><th>describe</th><th>SUBJECT_ID</th><th>BIRTH_YEAR</th><th>GENDER_FACTOR</th><th>RACE_FACTOR</th><th>ETHNICITY_FACTOR</th><th>AGE_START_YEARS</th><th>AGE_END_YEARS</th><th>ATOPIC_DERM_START</th><th>ATOPIC_DERM_END</th><th>ALLERGIC_RHINITIS_START</th><th>ALLERGIC_RHINITIS_END</th><th>ASTHMA_START</th><th>ASTHMA_END</th><th>FIRST_ASTHMARX</th><th>LAST_ASTHMARX</th><th>NUM_ASTHMARX</th></tr><tr><td>str</td><td>f64</td><td>f64</td><td>str</td><td>str</td><td>str</td><td>f64</td><td>f64</td><td>str</td><td>str</td><td>str</td><td>str</td><td>str</td><td>str</td><td>str</td><td>str</td><td>str</td></tr></thead><tbody><tr><td>&quot;count&quot;</td><td>333200.0</td><td>333200.0</td><td>&quot;333200&quot;</td><td>&quot;333200&quot;</td><td>&quot;333200&quot;</td><td>333200.0</td><td>333200.0</td><td>&quot;333200&quot;</td><td>&quot;333200&quot;</td><td>&quot;333200&quot;</td><td>&quot;333200&quot;</td><td>&quot;333200&quot;</td><td>&quot;333200&quot;</td><td>&quot;333200&quot;</td><td>&quot;333200&quot;</td><td>&quot;333200&quot;</td></tr><tr><td>&quot;null_count&quot;</td><td>0.0</td><td>0.0</td><td>&quot;0&quot;</td><td>&quot;0&quot;</td><td>&quot;0&quot;</td><td>0.0</td><td>0.0</td><td>&quot;0&quot;</td><td>&quot;0&quot;</td><td>&quot;0&quot;</td><td>&quot;0&quot;</td><td>&quot;0&quot;</td><td>&quot;0&quot;</td><td>&quot;0&quot;</td><td>&quot;0&quot;</td><td>&quot;0&quot;</td></tr><tr><td>&quot;mean&quot;</td><td>166600.5</td><td>2001.261191</td><td>null</td><td>null</td><td>null</td><td>3.94214</td><td>10.336654</td><td>null</td><td>null</td><td>null</td><td>null</td><td>null</td><td>null</td><td>null</td><td>null</td><td>null</td></tr><tr><td>&quot;std&quot;</td><td>96186.699184</td><td>6.603479</td><td>null</td><td>null</td><td>null</td><td>4.646174</td><td>5.623426</td><td>null</td><td>null</td><td>null</td><td>null</td><td>null</td><td>null</td><td>null</td><td>null</td><td>null</td></tr><tr><td>&quot;min&quot;</td><td>1.0</td><td>1983.0</td><td>&quot;S0 - Male&quot;</td><td>&quot;R0 - White&quot;</td><td>&quot;E0 - Non-Hispa…</td><td>-4.312115</td><td>1.002053</td><td>&quot;-0.00273785078…</td><td>&quot;0.013689253935…</td><td>&quot;-0.00821355236…</td><td>&quot;10.00136892539…</td><td>&quot;1.002053388090…</td><td>&quot;10.00136892539…</td><td>&quot;1.002053388090…</td><td>&quot;1.002053388090…</td><td>&quot;1&quot;</td></tr><tr><td>&quot;25%&quot;</td><td>83301.0</td><td>1996.0</td><td>null</td><td>null</td><td>null</td><td>0.021903</td><td>5.289528</td><td>null</td><td>null</td><td>null</td><td>null</td><td>null</td><td>null</td><td>null</td><td>null</td><td>null</td></tr><tr><td>&quot;50%&quot;</td><td>166601.0</td><td>2002.0</td><td>null</td><td>null</td><td>null</td><td>1.763176</td><td>10.193018</td><td>null</td><td>null</td><td>null</td><td>null</td><td>null</td><td>null</td><td>null</td><td>null</td><td>null</td></tr><tr><td>&quot;75%&quot;</td><td>249900.0</td><td>2007.0</td><td>null</td><td>null</td><td>null</td><td>7.208761</td><td>15.616701</td><td>null</td><td>null</td><td>null</td><td>null</td><td>null</td><td>null</td><td>null</td><td>null</td><td>null</td></tr><tr><td>&quot;max&quot;</td><td>333200.0</td><td>2012.0</td><td>&quot;S1 - Female&quot;</td><td>&quot;R4 - Unknown&quot;</td><td>&quot;E1 - Hispanic&quot;</td><td>17.984942</td><td>18.997947</td><td>&quot;NA&quot;</td><td>&quot;NA&quot;</td><td>&quot;NA&quot;</td><td>&quot;NA&quot;</td><td>&quot;NA&quot;</td><td>&quot;NA&quot;</td><td>&quot;NA&quot;</td><td>&quot;NA&quot;</td><td>&quot;NA&quot;</td></tr></tbody></table></div>"
      ],
      "text/plain": [
       "shape: (9, 17)\n",
       "┌───────────┬───────────┬───────────┬───────────┬───┬───────────┬───────────┬───────────┬──────────┐\n",
       "│ describe  ┆ SUBJECT_I ┆ BIRTH_YEA ┆ GENDER_FA ┆ … ┆ ASTHMA_EN ┆ FIRST_AST ┆ LAST_ASTH ┆ NUM_ASTH │\n",
       "│ ---       ┆ D         ┆ R         ┆ CTOR      ┆   ┆ D         ┆ HMARX     ┆ MARX      ┆ MARX     │\n",
       "│ str       ┆ ---       ┆ ---       ┆ ---       ┆   ┆ ---       ┆ ---       ┆ ---       ┆ ---      │\n",
       "│           ┆ f64       ┆ f64       ┆ str       ┆   ┆ str       ┆ str       ┆ str       ┆ str      │\n",
       "╞═══════════╪═══════════╪═══════════╪═══════════╪═══╪═══════════╪═══════════╪═══════════╪══════════╡\n",
       "│ count     ┆ 333200.0  ┆ 333200.0  ┆ 333200    ┆ … ┆ 333200    ┆ 333200    ┆ 333200    ┆ 333200   │\n",
       "│ null_coun ┆ 0.0       ┆ 0.0       ┆ 0         ┆ … ┆ 0         ┆ 0         ┆ 0         ┆ 0        │\n",
       "│ t         ┆           ┆           ┆           ┆   ┆           ┆           ┆           ┆          │\n",
       "│ mean      ┆ 166600.5  ┆ 2001.2611 ┆ null      ┆ … ┆ null      ┆ null      ┆ null      ┆ null     │\n",
       "│           ┆           ┆ 91        ┆           ┆   ┆           ┆           ┆           ┆          │\n",
       "│ std       ┆ 96186.699 ┆ 6.603479  ┆ null      ┆ … ┆ null      ┆ null      ┆ null      ┆ null     │\n",
       "│           ┆ 184       ┆           ┆           ┆   ┆           ┆           ┆           ┆          │\n",
       "│ min       ┆ 1.0       ┆ 1983.0    ┆ S0 - Male ┆ … ┆ 10.001368 ┆ 1.0020533 ┆ 1.0020533 ┆ 1        │\n",
       "│           ┆           ┆           ┆           ┆   ┆ 9253936   ┆ 8809035   ┆ 8809035   ┆          │\n",
       "│ 25%       ┆ 83301.0   ┆ 1996.0    ┆ null      ┆ … ┆ null      ┆ null      ┆ null      ┆ null     │\n",
       "│ 50%       ┆ 166601.0  ┆ 2002.0    ┆ null      ┆ … ┆ null      ┆ null      ┆ null      ┆ null     │\n",
       "│ 75%       ┆ 249900.0  ┆ 2007.0    ┆ null      ┆ … ┆ null      ┆ null      ┆ null      ┆ null     │\n",
       "│ max       ┆ 333200.0  ┆ 2012.0    ┆ S1 -      ┆ … ┆ NA        ┆ NA        ┆ NA        ┆ NA       │\n",
       "│           ┆           ┆           ┆ Female    ┆   ┆           ┆           ┆           ┆          │\n",
       "└───────────┴───────────┴───────────┴───────────┴───┴───────────┴───────────┴───────────┴──────────┘"
      ]
     },
     "execution_count": 3,
     "metadata": {},
     "output_type": "execute_result"
    }
   ],
   "source": [
    "df_csv.describe()"
   ]
  },
  {
   "cell_type": "code",
   "execution_count": 4,
   "metadata": {},
   "outputs": [
    {
     "data": {
      "text/html": [
       "<div><style>\n",
       ".dataframe > thead > tr,\n",
       ".dataframe > tbody > tr {\n",
       "  text-align: right;\n",
       "  white-space: pre-wrap;\n",
       "}\n",
       "</style>\n",
       "<small>shape: (9, 17)</small><table border=\"1\" class=\"dataframe\"><thead><tr><th>describe</th><th>SUBJECT_ID</th><th>BIRTH_YEAR</th><th>GENDER_FACTOR</th><th>RACE_FACTOR</th><th>ETHNICITY_FACTOR</th><th>AGE_START_YEARS</th><th>AGE_END_YEARS</th><th>ATOPIC_DERM_START</th><th>ATOPIC_DERM_END</th><th>ALLERGIC_RHINITIS_START</th><th>ALLERGIC_RHINITIS_END</th><th>ASTHMA_START</th><th>ASTHMA_END</th><th>FIRST_ASTHMARX</th><th>LAST_ASTHMARX</th><th>NUM_ASTHMARX</th></tr><tr><td>str</td><td>f64</td><td>f64</td><td>str</td><td>str</td><td>str</td><td>f64</td><td>f64</td><td>str</td><td>str</td><td>str</td><td>str</td><td>str</td><td>str</td><td>str</td><td>str</td><td>str</td></tr></thead><tbody><tr><td>&quot;count&quot;</td><td>333175.0</td><td>333175.0</td><td>&quot;333175&quot;</td><td>&quot;333175&quot;</td><td>&quot;333175&quot;</td><td>333175.0</td><td>333175.0</td><td>&quot;333175&quot;</td><td>&quot;333175&quot;</td><td>&quot;333175&quot;</td><td>&quot;333175&quot;</td><td>&quot;333175&quot;</td><td>&quot;333175&quot;</td><td>&quot;333175&quot;</td><td>&quot;333175&quot;</td><td>&quot;333175&quot;</td></tr><tr><td>&quot;null_count&quot;</td><td>0.0</td><td>0.0</td><td>&quot;0&quot;</td><td>&quot;0&quot;</td><td>&quot;0&quot;</td><td>0.0</td><td>0.0</td><td>&quot;0&quot;</td><td>&quot;0&quot;</td><td>&quot;0&quot;</td><td>&quot;0&quot;</td><td>&quot;0&quot;</td><td>&quot;0&quot;</td><td>&quot;0&quot;</td><td>&quot;0&quot;</td><td>&quot;0&quot;</td></tr><tr><td>&quot;mean&quot;</td><td>166597.437302</td><td>2001.260872</td><td>null</td><td>null</td><td>null</td><td>3.942466</td><td>10.336952</td><td>null</td><td>null</td><td>null</td><td>null</td><td>null</td><td>null</td><td>null</td><td>null</td><td>null</td></tr><tr><td>&quot;std&quot;</td><td>96186.767275</td><td>6.603568</td><td>null</td><td>null</td><td>null</td><td>4.64619</td><td>5.623476</td><td>null</td><td>null</td><td>null</td><td>null</td><td>null</td><td>null</td><td>null</td><td>null</td><td>null</td></tr><tr><td>&quot;min&quot;</td><td>1.0</td><td>1983.0</td><td>&quot;S0 - Male&quot;</td><td>&quot;R0 - White&quot;</td><td>&quot;E0 - Non-Hispa…</td><td>0.0</td><td>1.002053</td><td>&quot;-0.00273785078…</td><td>&quot;0.013689253935…</td><td>&quot;-0.00821355236…</td><td>&quot;10.00136892539…</td><td>&quot;1.002053388090…</td><td>&quot;10.00136892539…</td><td>&quot;1.002053388090…</td><td>&quot;1.002053388090…</td><td>&quot;1&quot;</td></tr><tr><td>&quot;25%&quot;</td><td>83297.0</td><td>1996.0</td><td>null</td><td>null</td><td>null</td><td>0.021903</td><td>5.289528</td><td>null</td><td>null</td><td>null</td><td>null</td><td>null</td><td>null</td><td>null</td><td>null</td><td>null</td></tr><tr><td>&quot;50%&quot;</td><td>166596.0</td><td>2002.0</td><td>null</td><td>null</td><td>null</td><td>1.765914</td><td>10.193018</td><td>null</td><td>null</td><td>null</td><td>null</td><td>null</td><td>null</td><td>null</td><td>null</td><td>null</td></tr><tr><td>&quot;75%&quot;</td><td>249898.0</td><td>2007.0</td><td>null</td><td>null</td><td>null</td><td>7.208761</td><td>15.616701</td><td>null</td><td>null</td><td>null</td><td>null</td><td>null</td><td>null</td><td>null</td><td>null</td><td>null</td></tr><tr><td>&quot;max&quot;</td><td>333200.0</td><td>2012.0</td><td>&quot;S1 - Female&quot;</td><td>&quot;R4 - Unknown&quot;</td><td>&quot;E1 - Hispanic&quot;</td><td>17.984942</td><td>18.997947</td><td>&quot;NA&quot;</td><td>&quot;NA&quot;</td><td>&quot;NA&quot;</td><td>&quot;NA&quot;</td><td>&quot;NA&quot;</td><td>&quot;NA&quot;</td><td>&quot;NA&quot;</td><td>&quot;NA&quot;</td><td>&quot;NA&quot;</td></tr></tbody></table></div>"
      ],
      "text/plain": [
       "shape: (9, 17)\n",
       "┌───────────┬───────────┬───────────┬───────────┬───┬───────────┬───────────┬───────────┬──────────┐\n",
       "│ describe  ┆ SUBJECT_I ┆ BIRTH_YEA ┆ GENDER_FA ┆ … ┆ ASTHMA_EN ┆ FIRST_AST ┆ LAST_ASTH ┆ NUM_ASTH │\n",
       "│ ---       ┆ D         ┆ R         ┆ CTOR      ┆   ┆ D         ┆ HMARX     ┆ MARX      ┆ MARX     │\n",
       "│ str       ┆ ---       ┆ ---       ┆ ---       ┆   ┆ ---       ┆ ---       ┆ ---       ┆ ---      │\n",
       "│           ┆ f64       ┆ f64       ┆ str       ┆   ┆ str       ┆ str       ┆ str       ┆ str      │\n",
       "╞═══════════╪═══════════╪═══════════╪═══════════╪═══╪═══════════╪═══════════╪═══════════╪══════════╡\n",
       "│ count     ┆ 333175.0  ┆ 333175.0  ┆ 333175    ┆ … ┆ 333175    ┆ 333175    ┆ 333175    ┆ 333175   │\n",
       "│ null_coun ┆ 0.0       ┆ 0.0       ┆ 0         ┆ … ┆ 0         ┆ 0         ┆ 0         ┆ 0        │\n",
       "│ t         ┆           ┆           ┆           ┆   ┆           ┆           ┆           ┆          │\n",
       "│ mean      ┆ 166597.43 ┆ 2001.2608 ┆ null      ┆ … ┆ null      ┆ null      ┆ null      ┆ null     │\n",
       "│           ┆ 7302      ┆ 72        ┆           ┆   ┆           ┆           ┆           ┆          │\n",
       "│ std       ┆ 96186.767 ┆ 6.603568  ┆ null      ┆ … ┆ null      ┆ null      ┆ null      ┆ null     │\n",
       "│           ┆ 275       ┆           ┆           ┆   ┆           ┆           ┆           ┆          │\n",
       "│ min       ┆ 1.0       ┆ 1983.0    ┆ S0 - Male ┆ … ┆ 10.001368 ┆ 1.0020533 ┆ 1.0020533 ┆ 1        │\n",
       "│           ┆           ┆           ┆           ┆   ┆ 9253936   ┆ 8809035   ┆ 8809035   ┆          │\n",
       "│ 25%       ┆ 83297.0   ┆ 1996.0    ┆ null      ┆ … ┆ null      ┆ null      ┆ null      ┆ null     │\n",
       "│ 50%       ┆ 166596.0  ┆ 2002.0    ┆ null      ┆ … ┆ null      ┆ null      ┆ null      ┆ null     │\n",
       "│ 75%       ┆ 249898.0  ┆ 2007.0    ┆ null      ┆ … ┆ null      ┆ null      ┆ null      ┆ null     │\n",
       "│ max       ┆ 333200.0  ┆ 2012.0    ┆ S1 -      ┆ … ┆ NA        ┆ NA        ┆ NA        ┆ NA       │\n",
       "│           ┆           ┆           ┆ Female    ┆   ┆           ┆           ┆           ┆          │\n",
       "└───────────┴───────────┴───────────┴───────────┴───┴───────────┴───────────┴───────────┴──────────┘"
      ]
     },
     "execution_count": 4,
     "metadata": {},
     "output_type": "execute_result"
    }
   ],
   "source": [
    "#dropping all rows that have a negitave AGE_START_YEARS\n",
    "df_csv = df_csv.filter(df_csv['AGE_START_YEARS'] >= 0)\n",
    "df_csv.describe()"
   ]
  },
  {
   "cell_type": "code",
   "execution_count": 5,
   "metadata": {},
   "outputs": [
    {
     "data": {
      "text/html": [
       "<div><style>\n",
       ".dataframe > thead > tr,\n",
       ".dataframe > tbody > tr {\n",
       "  text-align: right;\n",
       "  white-space: pre-wrap;\n",
       "}\n",
       "</style>\n",
       "<small>shape: (9, 17)</small><table border=\"1\" class=\"dataframe\"><thead><tr><th>describe</th><th>SUBJECT_ID</th><th>BIRTH_YEAR</th><th>GENDER_FACTOR</th><th>RACE_FACTOR</th><th>ETHNICITY_FACTOR</th><th>AGE_START_YEARS</th><th>AGE_END_YEARS</th><th>ATOPIC_DERM_START</th><th>ATOPIC_DERM_END</th><th>ALLERGIC_RHINITIS_START</th><th>ALLERGIC_RHINITIS_END</th><th>ASTHMA_START</th><th>ASTHMA_END</th><th>FIRST_ASTHMARX</th><th>LAST_ASTHMARX</th><th>NUM_ASTHMARX</th></tr><tr><td>str</td><td>f64</td><td>f64</td><td>str</td><td>str</td><td>str</td><td>f64</td><td>f64</td><td>str</td><td>str</td><td>str</td><td>str</td><td>str</td><td>str</td><td>str</td><td>str</td><td>str</td></tr></thead><tbody><tr><td>&quot;count&quot;</td><td>333175.0</td><td>333175.0</td><td>&quot;333175&quot;</td><td>&quot;333175&quot;</td><td>&quot;333175&quot;</td><td>333175.0</td><td>333175.0</td><td>&quot;333175&quot;</td><td>&quot;333175&quot;</td><td>&quot;333175&quot;</td><td>&quot;333175&quot;</td><td>&quot;333175&quot;</td><td>&quot;333175&quot;</td><td>&quot;333175&quot;</td><td>&quot;333175&quot;</td><td>&quot;333175&quot;</td></tr><tr><td>&quot;null_count&quot;</td><td>0.0</td><td>0.0</td><td>&quot;0&quot;</td><td>&quot;0&quot;</td><td>&quot;0&quot;</td><td>0.0</td><td>0.0</td><td>&quot;0&quot;</td><td>&quot;0&quot;</td><td>&quot;0&quot;</td><td>&quot;0&quot;</td><td>&quot;0&quot;</td><td>&quot;0&quot;</td><td>&quot;0&quot;</td><td>&quot;0&quot;</td><td>&quot;0&quot;</td></tr><tr><td>&quot;mean&quot;</td><td>166597.437302</td><td>2001.260872</td><td>null</td><td>null</td><td>null</td><td>3.942466</td><td>10.336952</td><td>null</td><td>null</td><td>null</td><td>null</td><td>null</td><td>null</td><td>null</td><td>null</td><td>null</td></tr><tr><td>&quot;std&quot;</td><td>96186.767275</td><td>6.603568</td><td>null</td><td>null</td><td>null</td><td>4.64619</td><td>5.623476</td><td>null</td><td>null</td><td>null</td><td>null</td><td>null</td><td>null</td><td>null</td><td>null</td><td>null</td></tr><tr><td>&quot;min&quot;</td><td>1.0</td><td>1983.0</td><td>&quot;S0 - Male&quot;</td><td>&quot;R0 - White&quot;</td><td>&quot;E0 - Non-Hispa…</td><td>0.0</td><td>1.002053</td><td>&quot;-0.00273785078…</td><td>&quot;0.013689253935…</td><td>&quot;-0.00821355236…</td><td>&quot;10.00136892539…</td><td>&quot;1.002053388090…</td><td>&quot;10.00136892539…</td><td>&quot;1.002053388090…</td><td>&quot;1.002053388090…</td><td>&quot;1&quot;</td></tr><tr><td>&quot;25%&quot;</td><td>83297.0</td><td>1996.0</td><td>null</td><td>null</td><td>null</td><td>0.021903</td><td>5.289528</td><td>null</td><td>null</td><td>null</td><td>null</td><td>null</td><td>null</td><td>null</td><td>null</td><td>null</td></tr><tr><td>&quot;50%&quot;</td><td>166596.0</td><td>2002.0</td><td>null</td><td>null</td><td>null</td><td>1.765914</td><td>10.193018</td><td>null</td><td>null</td><td>null</td><td>null</td><td>null</td><td>null</td><td>null</td><td>null</td><td>null</td></tr><tr><td>&quot;75%&quot;</td><td>249898.0</td><td>2007.0</td><td>null</td><td>null</td><td>null</td><td>7.208761</td><td>15.616701</td><td>null</td><td>null</td><td>null</td><td>null</td><td>null</td><td>null</td><td>null</td><td>null</td><td>null</td></tr><tr><td>&quot;max&quot;</td><td>333200.0</td><td>2012.0</td><td>&quot;S1 - Female&quot;</td><td>&quot;R4 - Unknown&quot;</td><td>&quot;E1 - Hispanic&quot;</td><td>17.984942</td><td>18.997947</td><td>&quot;NA&quot;</td><td>&quot;NA&quot;</td><td>&quot;NA&quot;</td><td>&quot;NA&quot;</td><td>&quot;NA&quot;</td><td>&quot;NA&quot;</td><td>&quot;NA&quot;</td><td>&quot;NA&quot;</td><td>&quot;NA&quot;</td></tr></tbody></table></div>"
      ],
      "text/plain": [
       "shape: (9, 17)\n",
       "┌───────────┬───────────┬───────────┬───────────┬───┬───────────┬───────────┬───────────┬──────────┐\n",
       "│ describe  ┆ SUBJECT_I ┆ BIRTH_YEA ┆ GENDER_FA ┆ … ┆ ASTHMA_EN ┆ FIRST_AST ┆ LAST_ASTH ┆ NUM_ASTH │\n",
       "│ ---       ┆ D         ┆ R         ┆ CTOR      ┆   ┆ D         ┆ HMARX     ┆ MARX      ┆ MARX     │\n",
       "│ str       ┆ ---       ┆ ---       ┆ ---       ┆   ┆ ---       ┆ ---       ┆ ---       ┆ ---      │\n",
       "│           ┆ f64       ┆ f64       ┆ str       ┆   ┆ str       ┆ str       ┆ str       ┆ str      │\n",
       "╞═══════════╪═══════════╪═══════════╪═══════════╪═══╪═══════════╪═══════════╪═══════════╪══════════╡\n",
       "│ count     ┆ 333175.0  ┆ 333175.0  ┆ 333175    ┆ … ┆ 333175    ┆ 333175    ┆ 333175    ┆ 333175   │\n",
       "│ null_coun ┆ 0.0       ┆ 0.0       ┆ 0         ┆ … ┆ 0         ┆ 0         ┆ 0         ┆ 0        │\n",
       "│ t         ┆           ┆           ┆           ┆   ┆           ┆           ┆           ┆          │\n",
       "│ mean      ┆ 166597.43 ┆ 2001.2608 ┆ null      ┆ … ┆ null      ┆ null      ┆ null      ┆ null     │\n",
       "│           ┆ 7302      ┆ 72        ┆           ┆   ┆           ┆           ┆           ┆          │\n",
       "│ std       ┆ 96186.767 ┆ 6.603568  ┆ null      ┆ … ┆ null      ┆ null      ┆ null      ┆ null     │\n",
       "│           ┆ 275       ┆           ┆           ┆   ┆           ┆           ┆           ┆          │\n",
       "│ min       ┆ 1.0       ┆ 1983.0    ┆ S0 - Male ┆ … ┆ 10.001368 ┆ 1.0020533 ┆ 1.0020533 ┆ 1        │\n",
       "│           ┆           ┆           ┆           ┆   ┆ 9253936   ┆ 8809035   ┆ 8809035   ┆          │\n",
       "│ 25%       ┆ 83297.0   ┆ 1996.0    ┆ null      ┆ … ┆ null      ┆ null      ┆ null      ┆ null     │\n",
       "│ 50%       ┆ 166596.0  ┆ 2002.0    ┆ null      ┆ … ┆ null      ┆ null      ┆ null      ┆ null     │\n",
       "│ 75%       ┆ 249898.0  ┆ 2007.0    ┆ null      ┆ … ┆ null      ┆ null      ┆ null      ┆ null     │\n",
       "│ max       ┆ 333200.0  ┆ 2012.0    ┆ S1 -      ┆ … ┆ NA        ┆ NA        ┆ NA        ┆ NA       │\n",
       "│           ┆           ┆           ┆ Female    ┆   ┆           ┆           ┆           ┆          │\n",
       "└───────────┴───────────┴───────────┴───────────┴───┴───────────┴───────────┴───────────┴──────────┘"
      ]
     },
     "execution_count": 5,
     "metadata": {},
     "output_type": "execute_result"
    }
   ],
   "source": [
    "#dropping rows where all specified columns columns have null values\n",
    "drop_na_columns = ['ATOPIC_DERM_START', 'ATOPIC_DERM_END', 'ALLERGIC_RHINITIS_START', 'ALLERGIC_RHINITIS_END', 'ASTHMA_START', 'ASTHMA_END', 'FIRST_ASTHMARX', 'LAST_ASTHMARX', 'NUM_ASTHMARX']\n",
    "\n",
    "\n",
    "# Filter rows where any of the specified columns have at least one non-null value\n",
    "filtered_df = df_csv.filter(\n",
    "    (df_csv[drop_na_columns[0]].is_not_null()) |\n",
    "    (df_csv[drop_na_columns[1]].is_not_null()) |\n",
    "    (df_csv[drop_na_columns[2]].is_not_null()) |\n",
    "    (df_csv[drop_na_columns[3]].is_not_null()) |\n",
    "    (df_csv[drop_na_columns[4]].is_not_null()) |\n",
    "    (df_csv[drop_na_columns[5]].is_not_null()) |\n",
    "    (df_csv[drop_na_columns[6]].is_not_null()) |\n",
    "    (df_csv[drop_na_columns[7]].is_not_null()) |\n",
    "    (df_csv[drop_na_columns[8]].is_not_null())\n",
    ")\n",
    "\n",
    "# Display the resulting DataFrame to confirm the count of subject_id's has reduced \n",
    "filtered_df.describe()"
   ]
  },
  {
   "cell_type": "code",
   "execution_count": 6,
   "metadata": {},
   "outputs": [
    {
     "data": {
      "text/html": [
       "<div><style>\n",
       ".dataframe > thead > tr,\n",
       ".dataframe > tbody > tr {\n",
       "  text-align: right;\n",
       "  white-space: pre-wrap;\n",
       "}\n",
       "</style>\n",
       "<small>shape: (5, 16)</small><table border=\"1\" class=\"dataframe\"><thead><tr><th>SUBJECT_ID</th><th>BIRTH_YEAR</th><th>GENDER_FACTOR</th><th>RACE_FACTOR</th><th>ETHNICITY_FACTOR</th><th>AGE_START_YEARS</th><th>AGE_END_YEARS</th><th>ATOPIC_DERM_START</th><th>ATOPIC_DERM_END</th><th>ALLERGIC_RHINITIS_START</th><th>ALLERGIC_RHINITIS_END</th><th>ASTHMA_START</th><th>ASTHMA_END</th><th>FIRST_ASTHMARX</th><th>LAST_ASTHMARX</th><th>NUM_ASTHMARX</th></tr><tr><td>i64</td><td>i64</td><td>str</td><td>str</td><td>str</td><td>f64</td><td>f64</td><td>str</td><td>str</td><td>str</td><td>str</td><td>str</td><td>str</td><td>str</td><td>str</td><td>str</td></tr></thead><tbody><tr><td>1</td><td>2006</td><td>&quot;S1 - Female&quot;</td><td>&quot;R1 - Black&quot;</td><td>&quot;E0 - Non-Hispa…</td><td>0.093087</td><td>3.164956</td><td>&quot;NA&quot;</td><td>&quot;NA&quot;</td><td>&quot;NA&quot;</td><td>&quot;NA&quot;</td><td>&quot;NA&quot;</td><td>&quot;NA&quot;</td><td>&quot;NA&quot;</td><td>&quot;NA&quot;</td><td>&quot;NA&quot;</td></tr><tr><td>2</td><td>1994</td><td>&quot;S1 - Female&quot;</td><td>&quot;R0 - White&quot;</td><td>&quot;E0 - Non-Hispa…</td><td>12.232717</td><td>18.880219</td><td>&quot;NA&quot;</td><td>&quot;NA&quot;</td><td>&quot;NA&quot;</td><td>&quot;NA&quot;</td><td>&quot;NA&quot;</td><td>&quot;NA&quot;</td><td>&quot;12.26283367556…</td><td>&quot;18.88021902806…</td><td>&quot;2&quot;</td></tr><tr><td>3</td><td>2006</td><td>&quot;S0 - Male&quot;</td><td>&quot;R0 - White&quot;</td><td>&quot;E1 - Hispanic&quot;</td><td>0.010951</td><td>6.726899</td><td>&quot;4.884325804243…</td><td>&quot;NA&quot;</td><td>&quot;3.917864476386…</td><td>&quot;6.157426420260…</td><td>&quot;5.127994524298…</td><td>&quot;NA&quot;</td><td>&quot;1.404517453798…</td><td>&quot;6.157426420260…</td><td>&quot;4&quot;</td></tr><tr><td>4</td><td>2004</td><td>&quot;S0 - Male&quot;</td><td>&quot;R4 - Unknown&quot;</td><td>&quot;E1 - Hispanic&quot;</td><td>2.398357</td><td>9.111567</td><td>&quot;NA&quot;</td><td>&quot;NA&quot;</td><td>&quot;NA&quot;</td><td>&quot;NA&quot;</td><td>&quot;NA&quot;</td><td>&quot;NA&quot;</td><td>&quot;NA&quot;</td><td>&quot;NA&quot;</td><td>&quot;NA&quot;</td></tr><tr><td>5</td><td>2006</td><td>&quot;S1 - Female&quot;</td><td>&quot;R1 - Black&quot;</td><td>&quot;E0 - Non-Hispa…</td><td>0.013689</td><td>6.193018</td><td>&quot;NA&quot;</td><td>&quot;NA&quot;</td><td>&quot;NA&quot;</td><td>&quot;NA&quot;</td><td>&quot;NA&quot;</td><td>&quot;NA&quot;</td><td>&quot;NA&quot;</td><td>&quot;NA&quot;</td><td>&quot;NA&quot;</td></tr></tbody></table></div>"
      ],
      "text/plain": [
       "shape: (5, 16)\n",
       "┌───────────┬───────────┬───────────┬───────────┬───┬───────────┬───────────┬───────────┬──────────┐\n",
       "│ SUBJECT_I ┆ BIRTH_YEA ┆ GENDER_FA ┆ RACE_FACT ┆ … ┆ ASTHMA_EN ┆ FIRST_AST ┆ LAST_ASTH ┆ NUM_ASTH │\n",
       "│ D         ┆ R         ┆ CTOR      ┆ OR        ┆   ┆ D         ┆ HMARX     ┆ MARX      ┆ MARX     │\n",
       "│ ---       ┆ ---       ┆ ---       ┆ ---       ┆   ┆ ---       ┆ ---       ┆ ---       ┆ ---      │\n",
       "│ i64       ┆ i64       ┆ str       ┆ str       ┆   ┆ str       ┆ str       ┆ str       ┆ str      │\n",
       "╞═══════════╪═══════════╪═══════════╪═══════════╪═══╪═══════════╪═══════════╪═══════════╪══════════╡\n",
       "│ 1         ┆ 2006      ┆ S1 -      ┆ R1 -      ┆ … ┆ NA        ┆ NA        ┆ NA        ┆ NA       │\n",
       "│           ┆           ┆ Female    ┆ Black     ┆   ┆           ┆           ┆           ┆          │\n",
       "│ 2         ┆ 1994      ┆ S1 -      ┆ R0 -      ┆ … ┆ NA        ┆ 12.262833 ┆ 18.880219 ┆ 2        │\n",
       "│           ┆           ┆ Female    ┆ White     ┆   ┆           ┆ 6755647   ┆ 028063    ┆          │\n",
       "│ 3         ┆ 2006      ┆ S0 - Male ┆ R0 -      ┆ … ┆ NA        ┆ 1.4045174 ┆ 6.1574264 ┆ 4        │\n",
       "│           ┆           ┆           ┆ White     ┆   ┆           ┆ 5379877   ┆ 202601    ┆          │\n",
       "│ 4         ┆ 2004      ┆ S0 - Male ┆ R4 -      ┆ … ┆ NA        ┆ NA        ┆ NA        ┆ NA       │\n",
       "│           ┆           ┆           ┆ Unknown   ┆   ┆           ┆           ┆           ┆          │\n",
       "│ 5         ┆ 2006      ┆ S1 -      ┆ R1 -      ┆ … ┆ NA        ┆ NA        ┆ NA        ┆ NA       │\n",
       "│           ┆           ┆ Female    ┆ Black     ┆   ┆           ┆           ┆           ┆          │\n",
       "└───────────┴───────────┴───────────┴───────────┴───┴───────────┴───────────┴───────────┴──────────┘"
      ]
     },
     "execution_count": 6,
     "metadata": {},
     "output_type": "execute_result"
    }
   ],
   "source": [
    "#view data to confirm rows contain values in at least one column regarding allergies ['ATOPIC_DERM_START', 'ATOPIC_DERM_END', 'ALLERGIC_RHINITIS_START', 'ALLERGIC_RHINITIS_END', 'ASTHMA_START', 'ASTHMA_END', 'FIRST_ASTHMARX', 'LAST_ASTHMARX', 'NUM_ASTHMARX']\n",
    "filtered_df.head()"
   ]
  },
  {
   "cell_type": "code",
   "execution_count": 7,
   "metadata": {},
   "outputs": [
    {
     "data": {
      "text/html": [
       "<div><style>\n",
       ".dataframe > thead > tr,\n",
       ".dataframe > tbody > tr {\n",
       "  text-align: right;\n",
       "  white-space: pre-wrap;\n",
       "}\n",
       "</style>\n",
       "<small>shape: (5, 17)</small><table border=\"1\" class=\"dataframe\"><thead><tr><th>SUBJECT_ID</th><th>BIRTH_YEAR</th><th>GENDER_FACTOR</th><th>ETHNICITY_FACTOR</th><th>AGE_START_YEARS</th><th>AGE_END_YEARS</th><th>ATOPIC_DERM_START</th><th>ATOPIC_DERM_END</th><th>ALLERGIC_RHINITIS_START</th><th>ALLERGIC_RHINITIS_END</th><th>ASTHMA_START</th><th>ASTHMA_END</th><th>FIRST_ASTHMARX</th><th>LAST_ASTHMARX</th><th>NUM_ASTHMARX</th><th>RACE_ID</th><th>RACE</th></tr><tr><td>i64</td><td>i64</td><td>str</td><td>str</td><td>f64</td><td>f64</td><td>str</td><td>str</td><td>str</td><td>str</td><td>str</td><td>str</td><td>str</td><td>str</td><td>str</td><td>str</td><td>str</td></tr></thead><tbody><tr><td>1</td><td>2006</td><td>&quot;S1 - Female&quot;</td><td>&quot;E0 - Non-Hispa…</td><td>0.093087</td><td>3.164956</td><td>&quot;NA&quot;</td><td>&quot;NA&quot;</td><td>&quot;NA&quot;</td><td>&quot;NA&quot;</td><td>&quot;NA&quot;</td><td>&quot;NA&quot;</td><td>&quot;NA&quot;</td><td>&quot;NA&quot;</td><td>&quot;NA&quot;</td><td>&quot;R1&quot;</td><td>&quot;Black&quot;</td></tr><tr><td>2</td><td>1994</td><td>&quot;S1 - Female&quot;</td><td>&quot;E0 - Non-Hispa…</td><td>12.232717</td><td>18.880219</td><td>&quot;NA&quot;</td><td>&quot;NA&quot;</td><td>&quot;NA&quot;</td><td>&quot;NA&quot;</td><td>&quot;NA&quot;</td><td>&quot;NA&quot;</td><td>&quot;12.26283367556…</td><td>&quot;18.88021902806…</td><td>&quot;2&quot;</td><td>&quot;R0&quot;</td><td>&quot;White&quot;</td></tr><tr><td>3</td><td>2006</td><td>&quot;S0 - Male&quot;</td><td>&quot;E1 - Hispanic&quot;</td><td>0.010951</td><td>6.726899</td><td>&quot;4.884325804243…</td><td>&quot;NA&quot;</td><td>&quot;3.917864476386…</td><td>&quot;6.157426420260…</td><td>&quot;5.127994524298…</td><td>&quot;NA&quot;</td><td>&quot;1.404517453798…</td><td>&quot;6.157426420260…</td><td>&quot;4&quot;</td><td>&quot;R0&quot;</td><td>&quot;White&quot;</td></tr><tr><td>4</td><td>2004</td><td>&quot;S0 - Male&quot;</td><td>&quot;E1 - Hispanic&quot;</td><td>2.398357</td><td>9.111567</td><td>&quot;NA&quot;</td><td>&quot;NA&quot;</td><td>&quot;NA&quot;</td><td>&quot;NA&quot;</td><td>&quot;NA&quot;</td><td>&quot;NA&quot;</td><td>&quot;NA&quot;</td><td>&quot;NA&quot;</td><td>&quot;NA&quot;</td><td>&quot;R4&quot;</td><td>&quot;Unknown&quot;</td></tr><tr><td>5</td><td>2006</td><td>&quot;S1 - Female&quot;</td><td>&quot;E0 - Non-Hispa…</td><td>0.013689</td><td>6.193018</td><td>&quot;NA&quot;</td><td>&quot;NA&quot;</td><td>&quot;NA&quot;</td><td>&quot;NA&quot;</td><td>&quot;NA&quot;</td><td>&quot;NA&quot;</td><td>&quot;NA&quot;</td><td>&quot;NA&quot;</td><td>&quot;NA&quot;</td><td>&quot;R1&quot;</td><td>&quot;Black&quot;</td></tr></tbody></table></div>"
      ],
      "text/plain": [
       "shape: (5, 17)\n",
       "┌────────────┬────────────┬────────────┬───────────┬───┬───────────┬───────────┬─────────┬─────────┐\n",
       "│ SUBJECT_ID ┆ BIRTH_YEAR ┆ GENDER_FAC ┆ ETHNICITY ┆ … ┆ LAST_ASTH ┆ NUM_ASTHM ┆ RACE_ID ┆ RACE    │\n",
       "│ ---        ┆ ---        ┆ TOR        ┆ _FACTOR   ┆   ┆ MARX      ┆ ARX       ┆ ---     ┆ ---     │\n",
       "│ i64        ┆ i64        ┆ ---        ┆ ---       ┆   ┆ ---       ┆ ---       ┆ str     ┆ str     │\n",
       "│            ┆            ┆ str        ┆ str       ┆   ┆ str       ┆ str       ┆         ┆         │\n",
       "╞════════════╪════════════╪════════════╪═══════════╪═══╪═══════════╪═══════════╪═════════╪═════════╡\n",
       "│ 1          ┆ 2006       ┆ S1 -       ┆ E0 - Non- ┆ … ┆ NA        ┆ NA        ┆ R1      ┆ Black   │\n",
       "│            ┆            ┆ Female     ┆ Hispanic  ┆   ┆           ┆           ┆         ┆         │\n",
       "│ 2          ┆ 1994       ┆ S1 -       ┆ E0 - Non- ┆ … ┆ 18.880219 ┆ 2         ┆ R0      ┆ White   │\n",
       "│            ┆            ┆ Female     ┆ Hispanic  ┆   ┆ 028063    ┆           ┆         ┆         │\n",
       "│ 3          ┆ 2006       ┆ S0 - Male  ┆ E1 -      ┆ … ┆ 6.1574264 ┆ 4         ┆ R0      ┆ White   │\n",
       "│            ┆            ┆            ┆ Hispanic  ┆   ┆ 202601    ┆           ┆         ┆         │\n",
       "│ 4          ┆ 2004       ┆ S0 - Male  ┆ E1 -      ┆ … ┆ NA        ┆ NA        ┆ R4      ┆ Unknown │\n",
       "│            ┆            ┆            ┆ Hispanic  ┆   ┆           ┆           ┆         ┆         │\n",
       "│ 5          ┆ 2006       ┆ S1 -       ┆ E0 - Non- ┆ … ┆ NA        ┆ NA        ┆ R1      ┆ Black   │\n",
       "│            ┆            ┆ Female     ┆ Hispanic  ┆   ┆           ┆           ┆         ┆         │\n",
       "└────────────┴────────────┴────────────┴───────────┴───┴───────────┴───────────┴─────────┴─────────┘"
      ]
     },
     "execution_count": 7,
     "metadata": {},
     "output_type": "execute_result"
    }
   ],
   "source": [
    "# Split the \"RACE_FACTOR\" column into a \"RACE_ID\" column and \"RACE\" column\n",
    "filtered_df = filtered_df.with_columns(\n",
    "    [\n",
    "        pl.col(\"RACE_FACTOR\")\n",
    "        .str.split_exact(\" - \", 1)\n",
    "        .struct.rename_fields([\"RACE_ID\", \"RACE\"])\n",
    "        .alias(\"fields\"),\n",
    "    ]\n",
    ").unnest(\"fields\")\n",
    "\n",
    "# Drop the original column\n",
    "filtered_df = filtered_df.drop('RACE_FACTOR')\n",
    "\n",
    "\n",
    "filtered_df.head()"
   ]
  },
  {
   "cell_type": "code",
   "execution_count": 8,
   "metadata": {},
   "outputs": [
    {
     "data": {
      "text/html": [
       "<div><style>\n",
       ".dataframe > thead > tr,\n",
       ".dataframe > tbody > tr {\n",
       "  text-align: right;\n",
       "  white-space: pre-wrap;\n",
       "}\n",
       "</style>\n",
       "<small>shape: (5, 18)</small><table border=\"1\" class=\"dataframe\"><thead><tr><th>SUBJECT_ID</th><th>BIRTH_YEAR</th><th>GENDER_FACTOR</th><th>AGE_START_YEARS</th><th>AGE_END_YEARS</th><th>ATOPIC_DERM_START</th><th>ATOPIC_DERM_END</th><th>ALLERGIC_RHINITIS_START</th><th>ALLERGIC_RHINITIS_END</th><th>ASTHMA_START</th><th>ASTHMA_END</th><th>FIRST_ASTHMARX</th><th>LAST_ASTHMARX</th><th>NUM_ASTHMARX</th><th>RACE_ID</th><th>RACE</th><th>ETHNICITY_ID</th><th>ETHNICITY</th></tr><tr><td>i64</td><td>i64</td><td>str</td><td>f64</td><td>f64</td><td>str</td><td>str</td><td>str</td><td>str</td><td>str</td><td>str</td><td>str</td><td>str</td><td>str</td><td>str</td><td>str</td><td>str</td><td>str</td></tr></thead><tbody><tr><td>1</td><td>2006</td><td>&quot;S1 - Female&quot;</td><td>0.093087</td><td>3.164956</td><td>&quot;NA&quot;</td><td>&quot;NA&quot;</td><td>&quot;NA&quot;</td><td>&quot;NA&quot;</td><td>&quot;NA&quot;</td><td>&quot;NA&quot;</td><td>&quot;NA&quot;</td><td>&quot;NA&quot;</td><td>&quot;NA&quot;</td><td>&quot;R1&quot;</td><td>&quot;Black&quot;</td><td>&quot;E0&quot;</td><td>&quot;Non-Hispanic&quot;</td></tr><tr><td>2</td><td>1994</td><td>&quot;S1 - Female&quot;</td><td>12.232717</td><td>18.880219</td><td>&quot;NA&quot;</td><td>&quot;NA&quot;</td><td>&quot;NA&quot;</td><td>&quot;NA&quot;</td><td>&quot;NA&quot;</td><td>&quot;NA&quot;</td><td>&quot;12.26283367556…</td><td>&quot;18.88021902806…</td><td>&quot;2&quot;</td><td>&quot;R0&quot;</td><td>&quot;White&quot;</td><td>&quot;E0&quot;</td><td>&quot;Non-Hispanic&quot;</td></tr><tr><td>3</td><td>2006</td><td>&quot;S0 - Male&quot;</td><td>0.010951</td><td>6.726899</td><td>&quot;4.884325804243…</td><td>&quot;NA&quot;</td><td>&quot;3.917864476386…</td><td>&quot;6.157426420260…</td><td>&quot;5.127994524298…</td><td>&quot;NA&quot;</td><td>&quot;1.404517453798…</td><td>&quot;6.157426420260…</td><td>&quot;4&quot;</td><td>&quot;R0&quot;</td><td>&quot;White&quot;</td><td>&quot;E1&quot;</td><td>&quot;Hispanic&quot;</td></tr><tr><td>4</td><td>2004</td><td>&quot;S0 - Male&quot;</td><td>2.398357</td><td>9.111567</td><td>&quot;NA&quot;</td><td>&quot;NA&quot;</td><td>&quot;NA&quot;</td><td>&quot;NA&quot;</td><td>&quot;NA&quot;</td><td>&quot;NA&quot;</td><td>&quot;NA&quot;</td><td>&quot;NA&quot;</td><td>&quot;NA&quot;</td><td>&quot;R4&quot;</td><td>&quot;Unknown&quot;</td><td>&quot;E1&quot;</td><td>&quot;Hispanic&quot;</td></tr><tr><td>5</td><td>2006</td><td>&quot;S1 - Female&quot;</td><td>0.013689</td><td>6.193018</td><td>&quot;NA&quot;</td><td>&quot;NA&quot;</td><td>&quot;NA&quot;</td><td>&quot;NA&quot;</td><td>&quot;NA&quot;</td><td>&quot;NA&quot;</td><td>&quot;NA&quot;</td><td>&quot;NA&quot;</td><td>&quot;NA&quot;</td><td>&quot;R1&quot;</td><td>&quot;Black&quot;</td><td>&quot;E0&quot;</td><td>&quot;Non-Hispanic&quot;</td></tr></tbody></table></div>"
      ],
      "text/plain": [
       "shape: (5, 18)\n",
       "┌────────────┬────────────┬────────────┬───────────┬───┬─────────┬─────────┬───────────┬───────────┐\n",
       "│ SUBJECT_ID ┆ BIRTH_YEAR ┆ GENDER_FAC ┆ AGE_START ┆ … ┆ RACE_ID ┆ RACE    ┆ ETHNICITY ┆ ETHNICITY │\n",
       "│ ---        ┆ ---        ┆ TOR        ┆ _YEARS    ┆   ┆ ---     ┆ ---     ┆ _ID       ┆ ---       │\n",
       "│ i64        ┆ i64        ┆ ---        ┆ ---       ┆   ┆ str     ┆ str     ┆ ---       ┆ str       │\n",
       "│            ┆            ┆ str        ┆ f64       ┆   ┆         ┆         ┆ str       ┆           │\n",
       "╞════════════╪════════════╪════════════╪═══════════╪═══╪═════════╪═════════╪═══════════╪═══════════╡\n",
       "│ 1          ┆ 2006       ┆ S1 -       ┆ 0.093087  ┆ … ┆ R1      ┆ Black   ┆ E0        ┆ Non-Hispa │\n",
       "│            ┆            ┆ Female     ┆           ┆   ┆         ┆         ┆           ┆ nic       │\n",
       "│ 2          ┆ 1994       ┆ S1 -       ┆ 12.232717 ┆ … ┆ R0      ┆ White   ┆ E0        ┆ Non-Hispa │\n",
       "│            ┆            ┆ Female     ┆           ┆   ┆         ┆         ┆           ┆ nic       │\n",
       "│ 3          ┆ 2006       ┆ S0 - Male  ┆ 0.010951  ┆ … ┆ R0      ┆ White   ┆ E1        ┆ Hispanic  │\n",
       "│ 4          ┆ 2004       ┆ S0 - Male  ┆ 2.398357  ┆ … ┆ R4      ┆ Unknown ┆ E1        ┆ Hispanic  │\n",
       "│ 5          ┆ 2006       ┆ S1 -       ┆ 0.013689  ┆ … ┆ R1      ┆ Black   ┆ E0        ┆ Non-Hispa │\n",
       "│            ┆            ┆ Female     ┆           ┆   ┆         ┆         ┆           ┆ nic       │\n",
       "└────────────┴────────────┴────────────┴───────────┴───┴─────────┴─────────┴───────────┴───────────┘"
      ]
     },
     "execution_count": 8,
     "metadata": {},
     "output_type": "execute_result"
    }
   ],
   "source": [
    "# Split the \"ETHNICITY_FACTOR\" column into a \"ETHNICITY_ID\" column and \"ETHNICITY\" column\n",
    "filtered_df = filtered_df.with_columns(\n",
    "    [\n",
    "        pl.col(\"ETHNICITY_FACTOR\")\n",
    "        .str.split_exact(\" - \", 1)\n",
    "        .struct.rename_fields([\"ETHNICITY_ID\", \"ETHNICITY\"])\n",
    "        .alias(\"fields\"),\n",
    "    ]\n",
    ").unnest(\"fields\")\n",
    "\n",
    "# Drop the original column\n",
    "filtered_df = filtered_df.drop('ETHNICITY_FACTOR')\n",
    "\n",
    "filtered_df.head()"
   ]
  },
  {
   "cell_type": "code",
   "execution_count": 9,
   "metadata": {},
   "outputs": [
    {
     "name": "stderr",
     "output_type": "stream",
     "text": [
      "C:\\Users\\coast\\AppData\\Local\\Temp\\ipykernel_2780\\3623422084.py:3: DeprecationWarning: `apply` is deprecated. It has been renamed to `map_elements`.\n",
      "  pl.col('GENDER_FACTOR').apply(lambda value: 'F' if value == \"S1 - Female\" else ('M' if value == \"S0 - Male\" else \"O\")).alias('GENDER')\n"
     ]
    },
    {
     "data": {
      "text/html": [
       "<div><style>\n",
       ".dataframe > thead > tr,\n",
       ".dataframe > tbody > tr {\n",
       "  text-align: right;\n",
       "  white-space: pre-wrap;\n",
       "}\n",
       "</style>\n",
       "<small>shape: (5, 18)</small><table border=\"1\" class=\"dataframe\"><thead><tr><th>SUBJECT_ID</th><th>BIRTH_YEAR</th><th>AGE_START_YEARS</th><th>AGE_END_YEARS</th><th>ATOPIC_DERM_START</th><th>ATOPIC_DERM_END</th><th>ALLERGIC_RHINITIS_START</th><th>ALLERGIC_RHINITIS_END</th><th>ASTHMA_START</th><th>ASTHMA_END</th><th>FIRST_ASTHMARX</th><th>LAST_ASTHMARX</th><th>NUM_ASTHMARX</th><th>RACE_ID</th><th>RACE</th><th>ETHNICITY_ID</th><th>ETHNICITY</th><th>GENDER</th></tr><tr><td>i64</td><td>i64</td><td>f64</td><td>f64</td><td>str</td><td>str</td><td>str</td><td>str</td><td>str</td><td>str</td><td>str</td><td>str</td><td>str</td><td>str</td><td>str</td><td>str</td><td>str</td><td>str</td></tr></thead><tbody><tr><td>1</td><td>2006</td><td>0.093087</td><td>3.164956</td><td>&quot;NA&quot;</td><td>&quot;NA&quot;</td><td>&quot;NA&quot;</td><td>&quot;NA&quot;</td><td>&quot;NA&quot;</td><td>&quot;NA&quot;</td><td>&quot;NA&quot;</td><td>&quot;NA&quot;</td><td>&quot;NA&quot;</td><td>&quot;R1&quot;</td><td>&quot;Black&quot;</td><td>&quot;E0&quot;</td><td>&quot;Non-Hispanic&quot;</td><td>&quot;F&quot;</td></tr><tr><td>2</td><td>1994</td><td>12.232717</td><td>18.880219</td><td>&quot;NA&quot;</td><td>&quot;NA&quot;</td><td>&quot;NA&quot;</td><td>&quot;NA&quot;</td><td>&quot;NA&quot;</td><td>&quot;NA&quot;</td><td>&quot;12.26283367556…</td><td>&quot;18.88021902806…</td><td>&quot;2&quot;</td><td>&quot;R0&quot;</td><td>&quot;White&quot;</td><td>&quot;E0&quot;</td><td>&quot;Non-Hispanic&quot;</td><td>&quot;F&quot;</td></tr><tr><td>3</td><td>2006</td><td>0.010951</td><td>6.726899</td><td>&quot;4.884325804243…</td><td>&quot;NA&quot;</td><td>&quot;3.917864476386…</td><td>&quot;6.157426420260…</td><td>&quot;5.127994524298…</td><td>&quot;NA&quot;</td><td>&quot;1.404517453798…</td><td>&quot;6.157426420260…</td><td>&quot;4&quot;</td><td>&quot;R0&quot;</td><td>&quot;White&quot;</td><td>&quot;E1&quot;</td><td>&quot;Hispanic&quot;</td><td>&quot;M&quot;</td></tr><tr><td>4</td><td>2004</td><td>2.398357</td><td>9.111567</td><td>&quot;NA&quot;</td><td>&quot;NA&quot;</td><td>&quot;NA&quot;</td><td>&quot;NA&quot;</td><td>&quot;NA&quot;</td><td>&quot;NA&quot;</td><td>&quot;NA&quot;</td><td>&quot;NA&quot;</td><td>&quot;NA&quot;</td><td>&quot;R4&quot;</td><td>&quot;Unknown&quot;</td><td>&quot;E1&quot;</td><td>&quot;Hispanic&quot;</td><td>&quot;M&quot;</td></tr><tr><td>5</td><td>2006</td><td>0.013689</td><td>6.193018</td><td>&quot;NA&quot;</td><td>&quot;NA&quot;</td><td>&quot;NA&quot;</td><td>&quot;NA&quot;</td><td>&quot;NA&quot;</td><td>&quot;NA&quot;</td><td>&quot;NA&quot;</td><td>&quot;NA&quot;</td><td>&quot;NA&quot;</td><td>&quot;R1&quot;</td><td>&quot;Black&quot;</td><td>&quot;E0&quot;</td><td>&quot;Non-Hispanic&quot;</td><td>&quot;F&quot;</td></tr></tbody></table></div>"
      ],
      "text/plain": [
       "shape: (5, 18)\n",
       "┌────────────┬────────────┬────────────┬────────────┬───┬─────────┬───────────┬───────────┬────────┐\n",
       "│ SUBJECT_ID ┆ BIRTH_YEAR ┆ AGE_START_ ┆ AGE_END_YE ┆ … ┆ RACE    ┆ ETHNICITY ┆ ETHNICITY ┆ GENDER │\n",
       "│ ---        ┆ ---        ┆ YEARS      ┆ ARS        ┆   ┆ ---     ┆ _ID       ┆ ---       ┆ ---    │\n",
       "│ i64        ┆ i64        ┆ ---        ┆ ---        ┆   ┆ str     ┆ ---       ┆ str       ┆ str    │\n",
       "│            ┆            ┆ f64        ┆ f64        ┆   ┆         ┆ str       ┆           ┆        │\n",
       "╞════════════╪════════════╪════════════╪════════════╪═══╪═════════╪═══════════╪═══════════╪════════╡\n",
       "│ 1          ┆ 2006       ┆ 0.093087   ┆ 3.164956   ┆ … ┆ Black   ┆ E0        ┆ Non-Hispa ┆ F      │\n",
       "│            ┆            ┆            ┆            ┆   ┆         ┆           ┆ nic       ┆        │\n",
       "│ 2          ┆ 1994       ┆ 12.232717  ┆ 18.880219  ┆ … ┆ White   ┆ E0        ┆ Non-Hispa ┆ F      │\n",
       "│            ┆            ┆            ┆            ┆   ┆         ┆           ┆ nic       ┆        │\n",
       "│ 3          ┆ 2006       ┆ 0.010951   ┆ 6.726899   ┆ … ┆ White   ┆ E1        ┆ Hispanic  ┆ M      │\n",
       "│ 4          ┆ 2004       ┆ 2.398357   ┆ 9.111567   ┆ … ┆ Unknown ┆ E1        ┆ Hispanic  ┆ M      │\n",
       "│ 5          ┆ 2006       ┆ 0.013689   ┆ 6.193018   ┆ … ┆ Black   ┆ E0        ┆ Non-Hispa ┆ F      │\n",
       "│            ┆            ┆            ┆            ┆   ┆         ┆           ┆ nic       ┆        │\n",
       "└────────────┴────────────┴────────────┴────────────┴───┴─────────┴───────────┴───────────┴────────┘"
      ]
     },
     "execution_count": 9,
     "metadata": {},
     "output_type": "execute_result"
    }
   ],
   "source": [
    "# Create a new column that re-codes the \"GENEDER_FACTOR\" column to be one character\n",
    "filtered_df = filtered_df.with_columns([\n",
    "    pl.col('GENDER_FACTOR').apply(lambda value: 'F' if value == \"S1 - Female\" else ('M' if value == \"S0 - Male\" else \"O\")).alias('GENDER')\n",
    "])\n",
    "\n",
    "# Drop the original column\n",
    "filtered_df = filtered_df.drop('GENDER_FACTOR')\n",
    "\n",
    "filtered_df.head()"
   ]
  },
  {
   "cell_type": "code",
   "execution_count": 10,
   "metadata": {},
   "outputs": [
    {
     "ename": "InvalidOperationError",
     "evalue": "`round` operation not supported for dtype `str`",
     "output_type": "error",
     "traceback": [
      "\u001b[1;31m---------------------------------------------------------------------------\u001b[0m",
      "\u001b[1;31mInvalidOperationError\u001b[0m                     Traceback (most recent call last)",
      "Cell \u001b[1;32mIn[10], line 2\u001b[0m\n\u001b[0;32m      1\u001b[0m \u001b[38;5;66;03m# Round all decimal columns to 3 decimal places in DF\u001b[39;00m\n\u001b[1;32m----> 2\u001b[0m filtered_df \u001b[38;5;241m=\u001b[39m \u001b[43mfiltered_df\u001b[49m\u001b[38;5;241;43m.\u001b[39;49m\u001b[43mwith_columns\u001b[49m\u001b[43m(\u001b[49m\u001b[43m[\u001b[49m\n\u001b[0;32m      3\u001b[0m \u001b[43m    \u001b[49m\u001b[43mpl\u001b[49m\u001b[38;5;241;43m.\u001b[39;49m\u001b[43mcol\u001b[49m\u001b[43m(\u001b[49m\u001b[38;5;124;43m'\u001b[39;49m\u001b[38;5;124;43mAGE_START_YEARS\u001b[39;49m\u001b[38;5;124;43m'\u001b[39;49m\u001b[43m)\u001b[49m\u001b[38;5;241;43m.\u001b[39;49m\u001b[43mround\u001b[49m\u001b[43m(\u001b[49m\u001b[38;5;241;43m3\u001b[39;49m\u001b[43m)\u001b[49m\u001b[43m,\u001b[49m\n\u001b[0;32m      4\u001b[0m \u001b[43m    \u001b[49m\u001b[43mpl\u001b[49m\u001b[38;5;241;43m.\u001b[39;49m\u001b[43mcol\u001b[49m\u001b[43m(\u001b[49m\u001b[38;5;124;43m'\u001b[39;49m\u001b[38;5;124;43mAGE_END_YEARS\u001b[39;49m\u001b[38;5;124;43m'\u001b[39;49m\u001b[43m)\u001b[49m\u001b[38;5;241;43m.\u001b[39;49m\u001b[43mround\u001b[49m\u001b[43m(\u001b[49m\u001b[38;5;241;43m3\u001b[39;49m\u001b[43m)\u001b[49m\u001b[43m,\u001b[49m\n\u001b[0;32m      5\u001b[0m \u001b[43m    \u001b[49m\u001b[43mpl\u001b[49m\u001b[38;5;241;43m.\u001b[39;49m\u001b[43mcol\u001b[49m\u001b[43m(\u001b[49m\u001b[38;5;124;43m'\u001b[39;49m\u001b[38;5;124;43mATOPIC_DERM_START\u001b[39;49m\u001b[38;5;124;43m'\u001b[39;49m\u001b[43m)\u001b[49m\u001b[38;5;241;43m.\u001b[39;49m\u001b[43mround\u001b[49m\u001b[43m(\u001b[49m\u001b[38;5;241;43m3\u001b[39;49m\u001b[43m)\u001b[49m\u001b[43m,\u001b[49m\n\u001b[0;32m      6\u001b[0m \u001b[43m    \u001b[49m\u001b[43mpl\u001b[49m\u001b[38;5;241;43m.\u001b[39;49m\u001b[43mcol\u001b[49m\u001b[43m(\u001b[49m\u001b[38;5;124;43m'\u001b[39;49m\u001b[38;5;124;43mATOPIC_DERM_END\u001b[39;49m\u001b[38;5;124;43m'\u001b[39;49m\u001b[43m)\u001b[49m\u001b[38;5;241;43m.\u001b[39;49m\u001b[43mround\u001b[49m\u001b[43m(\u001b[49m\u001b[38;5;241;43m3\u001b[39;49m\u001b[43m)\u001b[49m\u001b[43m,\u001b[49m\n\u001b[0;32m      7\u001b[0m \u001b[43m    \u001b[49m\u001b[43mpl\u001b[49m\u001b[38;5;241;43m.\u001b[39;49m\u001b[43mcol\u001b[49m\u001b[43m(\u001b[49m\u001b[38;5;124;43m'\u001b[39;49m\u001b[38;5;124;43mALLERGIC_RHINITIS_START\u001b[39;49m\u001b[38;5;124;43m'\u001b[39;49m\u001b[43m)\u001b[49m\u001b[38;5;241;43m.\u001b[39;49m\u001b[43mround\u001b[49m\u001b[43m(\u001b[49m\u001b[38;5;241;43m3\u001b[39;49m\u001b[43m)\u001b[49m\u001b[43m,\u001b[49m\n\u001b[0;32m      8\u001b[0m \u001b[43m    \u001b[49m\u001b[43mpl\u001b[49m\u001b[38;5;241;43m.\u001b[39;49m\u001b[43mcol\u001b[49m\u001b[43m(\u001b[49m\u001b[38;5;124;43m'\u001b[39;49m\u001b[38;5;124;43mALLERGIC_RHINITIS_END\u001b[39;49m\u001b[38;5;124;43m'\u001b[39;49m\u001b[43m)\u001b[49m\u001b[38;5;241;43m.\u001b[39;49m\u001b[43mround\u001b[49m\u001b[43m(\u001b[49m\u001b[38;5;241;43m3\u001b[39;49m\u001b[43m)\u001b[49m\u001b[43m,\u001b[49m\n\u001b[0;32m      9\u001b[0m \u001b[43m    \u001b[49m\u001b[43mpl\u001b[49m\u001b[38;5;241;43m.\u001b[39;49m\u001b[43mcol\u001b[49m\u001b[43m(\u001b[49m\u001b[38;5;124;43m'\u001b[39;49m\u001b[38;5;124;43mASTHMA_START\u001b[39;49m\u001b[38;5;124;43m'\u001b[39;49m\u001b[43m)\u001b[49m\u001b[38;5;241;43m.\u001b[39;49m\u001b[43mround\u001b[49m\u001b[43m(\u001b[49m\u001b[38;5;241;43m3\u001b[39;49m\u001b[43m)\u001b[49m\u001b[43m,\u001b[49m\n\u001b[0;32m     10\u001b[0m \u001b[43m    \u001b[49m\u001b[43mpl\u001b[49m\u001b[38;5;241;43m.\u001b[39;49m\u001b[43mcol\u001b[49m\u001b[43m(\u001b[49m\u001b[38;5;124;43m'\u001b[39;49m\u001b[38;5;124;43mASTHMA_END\u001b[39;49m\u001b[38;5;124;43m'\u001b[39;49m\u001b[43m)\u001b[49m\u001b[38;5;241;43m.\u001b[39;49m\u001b[43mround\u001b[49m\u001b[43m(\u001b[49m\u001b[38;5;241;43m3\u001b[39;49m\u001b[43m)\u001b[49m\u001b[43m,\u001b[49m\n\u001b[0;32m     11\u001b[0m \u001b[43m    \u001b[49m\u001b[43mpl\u001b[49m\u001b[38;5;241;43m.\u001b[39;49m\u001b[43mcol\u001b[49m\u001b[43m(\u001b[49m\u001b[38;5;124;43m'\u001b[39;49m\u001b[38;5;124;43mFIRST_ASTHMARX\u001b[39;49m\u001b[38;5;124;43m'\u001b[39;49m\u001b[43m)\u001b[49m\u001b[38;5;241;43m.\u001b[39;49m\u001b[43mround\u001b[49m\u001b[43m(\u001b[49m\u001b[38;5;241;43m3\u001b[39;49m\u001b[43m)\u001b[49m\u001b[43m,\u001b[49m\n\u001b[0;32m     12\u001b[0m \u001b[43m    \u001b[49m\u001b[43mpl\u001b[49m\u001b[38;5;241;43m.\u001b[39;49m\u001b[43mcol\u001b[49m\u001b[43m(\u001b[49m\u001b[38;5;124;43m'\u001b[39;49m\u001b[38;5;124;43mLAST_ASTHMARX\u001b[39;49m\u001b[38;5;124;43m'\u001b[39;49m\u001b[43m)\u001b[49m\u001b[38;5;241;43m.\u001b[39;49m\u001b[43mround\u001b[49m\u001b[43m(\u001b[49m\u001b[38;5;241;43m3\u001b[39;49m\u001b[43m)\u001b[49m\n\u001b[0;32m     13\u001b[0m \u001b[43m]\u001b[49m\u001b[43m)\u001b[49m\n\u001b[0;32m     15\u001b[0m filtered_df\n",
      "File \u001b[1;32mc:\\Users\\coast\\anaconda3\\envs\\dev\\lib\\site-packages\\polars\\dataframe\\frame.py:8235\u001b[0m, in \u001b[0;36mDataFrame.with_columns\u001b[1;34m(self, *exprs, **named_exprs)\u001b[0m\n\u001b[0;32m   8088\u001b[0m \u001b[38;5;28;01mdef\u001b[39;00m \u001b[38;5;21mwith_columns\u001b[39m(\n\u001b[0;32m   8089\u001b[0m     \u001b[38;5;28mself\u001b[39m,\n\u001b[0;32m   8090\u001b[0m     \u001b[38;5;241m*\u001b[39mexprs: IntoExpr \u001b[38;5;241m|\u001b[39m Iterable[IntoExpr],\n\u001b[0;32m   8091\u001b[0m     \u001b[38;5;241m*\u001b[39m\u001b[38;5;241m*\u001b[39mnamed_exprs: IntoExpr,\n\u001b[0;32m   8092\u001b[0m ) \u001b[38;5;241m-\u001b[39m\u001b[38;5;241m>\u001b[39m DataFrame:\n\u001b[0;32m   8093\u001b[0m \u001b[38;5;250m    \u001b[39m\u001b[38;5;124;03m\"\"\"\u001b[39;00m\n\u001b[0;32m   8094\u001b[0m \u001b[38;5;124;03m    Add columns to this DataFrame.\u001b[39;00m\n\u001b[0;32m   8095\u001b[0m \n\u001b[1;32m   (...)\u001b[0m\n\u001b[0;32m   8233\u001b[0m \n\u001b[0;32m   8234\u001b[0m \u001b[38;5;124;03m    \"\"\"\u001b[39;00m\n\u001b[1;32m-> 8235\u001b[0m     \u001b[38;5;28;01mreturn\u001b[39;00m \u001b[38;5;28;43mself\u001b[39;49m\u001b[38;5;241;43m.\u001b[39;49m\u001b[43mlazy\u001b[49m\u001b[43m(\u001b[49m\u001b[43m)\u001b[49m\u001b[38;5;241;43m.\u001b[39;49m\u001b[43mwith_columns\u001b[49m\u001b[43m(\u001b[49m\u001b[38;5;241;43m*\u001b[39;49m\u001b[43mexprs\u001b[49m\u001b[43m,\u001b[49m\u001b[43m \u001b[49m\u001b[38;5;241;43m*\u001b[39;49m\u001b[38;5;241;43m*\u001b[39;49m\u001b[43mnamed_exprs\u001b[49m\u001b[43m)\u001b[49m\u001b[38;5;241;43m.\u001b[39;49m\u001b[43mcollect\u001b[49m\u001b[43m(\u001b[49m\u001b[43m_eager\u001b[49m\u001b[38;5;241;43m=\u001b[39;49m\u001b[38;5;28;43;01mTrue\u001b[39;49;00m\u001b[43m)\u001b[49m\n",
      "File \u001b[1;32mc:\\Users\\coast\\anaconda3\\envs\\dev\\lib\\site-packages\\polars\\lazyframe\\frame.py:1749\u001b[0m, in \u001b[0;36mLazyFrame.collect\u001b[1;34m(self, type_coercion, predicate_pushdown, projection_pushdown, simplify_expression, slice_pushdown, comm_subplan_elim, comm_subexpr_elim, no_optimization, streaming, background, _eager)\u001b[0m\n\u001b[0;32m   1746\u001b[0m \u001b[38;5;28;01mif\u001b[39;00m background:\n\u001b[0;32m   1747\u001b[0m     \u001b[38;5;28;01mreturn\u001b[39;00m InProcessQuery(ldf\u001b[38;5;241m.\u001b[39mcollect_concurrently())\n\u001b[1;32m-> 1749\u001b[0m \u001b[38;5;28;01mreturn\u001b[39;00m wrap_df(\u001b[43mldf\u001b[49m\u001b[38;5;241;43m.\u001b[39;49m\u001b[43mcollect\u001b[49m\u001b[43m(\u001b[49m\u001b[43m)\u001b[49m)\n",
      "\u001b[1;31mInvalidOperationError\u001b[0m: `round` operation not supported for dtype `str`"
     ]
    }
   ],
   "source": [
    "# Round all decimal columns to 3 decimal places in DF\n",
    "filtered_df = filtered_df.with_columns([\n",
    "    pl.col('AGE_START_YEARS').round(3),\n",
    "    pl.col('AGE_END_YEARS').round(3),\n",
    "    pl.col('ATOPIC_DERM_START').round(3),\n",
    "    pl.col('ATOPIC_DERM_END').round(3),\n",
    "    pl.col('ALLERGIC_RHINITIS_START').round(3),\n",
    "    pl.col('ALLERGIC_RHINITIS_END').round(3),\n",
    "    pl.col('ASTHMA_START').round(3),\n",
    "    pl.col('ASTHMA_END').round(3),\n",
    "    pl.col('FIRST_ASTHMARX').round(3),\n",
    "    pl.col('LAST_ASTHMARX').round(3)\n",
    "])\n",
    "\n",
    "filtered_df"
   ]
  },
  {
   "cell_type": "code",
   "execution_count": 11,
   "metadata": {},
   "outputs": [
    {
     "data": {
      "text/html": [
       "<div><style>\n",
       ".dataframe > thead > tr,\n",
       ".dataframe > tbody > tr {\n",
       "  text-align: right;\n",
       "  white-space: pre-wrap;\n",
       "}\n",
       "</style>\n",
       "<small>shape: (5, 2)</small><table border=\"1\" class=\"dataframe\"><thead><tr><th>RACE_ID</th><th>RACE</th></tr><tr><td>str</td><td>str</td></tr></thead><tbody><tr><td>&quot;R1&quot;</td><td>&quot;Unknown&quot;</td></tr><tr><td>&quot;R2&quot;</td><td>&quot;Black&quot;</td></tr><tr><td>&quot;R3&quot;</td><td>&quot;Asian or Pacif…</td></tr><tr><td>&quot;R4&quot;</td><td>&quot;White&quot;</td></tr><tr><td>&quot;R0&quot;</td><td>&quot;Other&quot;</td></tr></tbody></table></div>"
      ],
      "text/plain": [
       "shape: (5, 2)\n",
       "┌─────────┬───────────────────────────┐\n",
       "│ RACE_ID ┆ RACE                      │\n",
       "│ ---     ┆ ---                       │\n",
       "│ str     ┆ str                       │\n",
       "╞═════════╪═══════════════════════════╡\n",
       "│ R1      ┆ Unknown                   │\n",
       "│ R2      ┆ Black                     │\n",
       "│ R3      ┆ Asian or Pacific Islander │\n",
       "│ R4      ┆ White                     │\n",
       "│ R0      ┆ Other                     │\n",
       "└─────────┴───────────────────────────┘"
      ]
     },
     "execution_count": 11,
     "metadata": {},
     "output_type": "execute_result"
    }
   ],
   "source": [
    "# Create a dataframe containing: RACE_ID and RACE\n",
    "race_df = filtered_df.select(pl.col('RACE_ID', 'RACE').unique())\n",
    "\n",
    "# display df\n",
    "race_df"
   ]
  },
  {
   "cell_type": "code",
   "execution_count": 12,
   "metadata": {},
   "outputs": [
    {
     "data": {
      "text/html": [
       "<div><style>\n",
       ".dataframe > thead > tr,\n",
       ".dataframe > tbody > tr {\n",
       "  text-align: right;\n",
       "  white-space: pre-wrap;\n",
       "}\n",
       "</style>\n",
       "<small>shape: (2, 2)</small><table border=\"1\" class=\"dataframe\"><thead><tr><th>ETHNICITY_ID</th><th>ETHNICITY</th></tr><tr><td>str</td><td>str</td></tr></thead><tbody><tr><td>&quot;E1&quot;</td><td>&quot;Non-Hispanic&quot;</td></tr><tr><td>&quot;E0&quot;</td><td>&quot;Hispanic&quot;</td></tr></tbody></table></div>"
      ],
      "text/plain": [
       "shape: (2, 2)\n",
       "┌──────────────┬──────────────┐\n",
       "│ ETHNICITY_ID ┆ ETHNICITY    │\n",
       "│ ---          ┆ ---          │\n",
       "│ str          ┆ str          │\n",
       "╞══════════════╪══════════════╡\n",
       "│ E1           ┆ Non-Hispanic │\n",
       "│ E0           ┆ Hispanic     │\n",
       "└──────────────┴──────────────┘"
      ]
     },
     "execution_count": 12,
     "metadata": {},
     "output_type": "execute_result"
    }
   ],
   "source": [
    "# Create a dataframe containing: ETHNICITY ID AND ETHNICITY\n",
    "ethnicity_df = filtered_df.select(pl.col('ETHNICITY_ID', 'ETHNICITY').unique())\n",
    "\n",
    "# display df\n",
    "ethnicity_df"
   ]
  },
  {
   "cell_type": "code",
   "execution_count": 13,
   "metadata": {},
   "outputs": [
    {
     "data": {
      "text/html": [
       "<div><style>\n",
       ".dataframe > thead > tr,\n",
       ".dataframe > tbody > tr {\n",
       "  text-align: right;\n",
       "  white-space: pre-wrap;\n",
       "}\n",
       "</style>\n",
       "<small>shape: (5, 7)</small><table border=\"1\" class=\"dataframe\"><thead><tr><th>SUBJECT_ID</th><th>BIRTH_YEAR</th><th>AGE_START_YEARS</th><th>AGE_END_YEARS</th><th>GENDER</th><th>RACE_ID</th><th>ETHNICITY_ID</th></tr><tr><td>i64</td><td>i64</td><td>f64</td><td>f64</td><td>str</td><td>str</td><td>str</td></tr></thead><tbody><tr><td>1</td><td>2006</td><td>0.093087</td><td>3.164956</td><td>&quot;F&quot;</td><td>&quot;R1&quot;</td><td>&quot;E0&quot;</td></tr><tr><td>2</td><td>1994</td><td>12.232717</td><td>18.880219</td><td>&quot;F&quot;</td><td>&quot;R0&quot;</td><td>&quot;E0&quot;</td></tr><tr><td>3</td><td>2006</td><td>0.010951</td><td>6.726899</td><td>&quot;M&quot;</td><td>&quot;R0&quot;</td><td>&quot;E1&quot;</td></tr><tr><td>4</td><td>2004</td><td>2.398357</td><td>9.111567</td><td>&quot;M&quot;</td><td>&quot;R4&quot;</td><td>&quot;E1&quot;</td></tr><tr><td>5</td><td>2006</td><td>0.013689</td><td>6.193018</td><td>&quot;F&quot;</td><td>&quot;R1&quot;</td><td>&quot;E0&quot;</td></tr></tbody></table></div>"
      ],
      "text/plain": [
       "shape: (5, 7)\n",
       "┌────────────┬────────────┬─────────────────┬───────────────┬────────┬─────────┬──────────────┐\n",
       "│ SUBJECT_ID ┆ BIRTH_YEAR ┆ AGE_START_YEARS ┆ AGE_END_YEARS ┆ GENDER ┆ RACE_ID ┆ ETHNICITY_ID │\n",
       "│ ---        ┆ ---        ┆ ---             ┆ ---           ┆ ---    ┆ ---     ┆ ---          │\n",
       "│ i64        ┆ i64        ┆ f64             ┆ f64           ┆ str    ┆ str     ┆ str          │\n",
       "╞════════════╪════════════╪═════════════════╪═══════════════╪════════╪═════════╪══════════════╡\n",
       "│ 1          ┆ 2006       ┆ 0.093087        ┆ 3.164956      ┆ F      ┆ R1      ┆ E0           │\n",
       "│ 2          ┆ 1994       ┆ 12.232717       ┆ 18.880219     ┆ F      ┆ R0      ┆ E0           │\n",
       "│ 3          ┆ 2006       ┆ 0.010951        ┆ 6.726899      ┆ M      ┆ R0      ┆ E1           │\n",
       "│ 4          ┆ 2004       ┆ 2.398357        ┆ 9.111567      ┆ M      ┆ R4      ┆ E1           │\n",
       "│ 5          ┆ 2006       ┆ 0.013689        ┆ 6.193018      ┆ F      ┆ R1      ┆ E0           │\n",
       "└────────────┴────────────┴─────────────────┴───────────────┴────────┴─────────┴──────────────┘"
      ]
     },
     "execution_count": 13,
     "metadata": {},
     "output_type": "execute_result"
    }
   ],
   "source": [
    "# Create a dataframe containing: SUBJECT_ID, BIRTH_YEAR, GENDER, RACE_ID, and ETHNICITY_ID\n",
    "subject_df = filtered_df.select(pl.col('SUBJECT_ID', 'BIRTH_YEAR', 'AGE_START_YEARS', 'AGE_END_YEARS', 'GENDER', 'RACE_ID', 'ETHNICITY_ID'))\n",
    "\n",
    "subject_df.head()\n"
   ]
  },
  {
   "cell_type": "code",
   "execution_count": 16,
   "metadata": {},
   "outputs": [
    {
     "data": {
      "text/html": [
       "<div><style>\n",
       ".dataframe > thead > tr,\n",
       ".dataframe > tbody > tr {\n",
       "  text-align: right;\n",
       "  white-space: pre-wrap;\n",
       "}\n",
       "</style>\n",
       "<small>shape: (5, 6)</small><table border=\"1\" class=\"dataframe\"><thead><tr><th>SUBJECT_ID</th><th>ASTHMA_START</th><th>ASTHMA_END</th><th>FIRST_ASTHMARX</th><th>LAST_ASTHMARX</th><th>NUM_ASTHMARX</th></tr><tr><td>i64</td><td>str</td><td>str</td><td>str</td><td>str</td><td>str</td></tr></thead><tbody><tr><td>1</td><td>&quot;NA&quot;</td><td>&quot;NA&quot;</td><td>&quot;NA&quot;</td><td>&quot;NA&quot;</td><td>&quot;NA&quot;</td></tr><tr><td>2</td><td>&quot;NA&quot;</td><td>&quot;NA&quot;</td><td>&quot;12.26283367556…</td><td>&quot;18.88021902806…</td><td>&quot;2&quot;</td></tr><tr><td>3</td><td>&quot;5.127994524298…</td><td>&quot;NA&quot;</td><td>&quot;1.404517453798…</td><td>&quot;6.157426420260…</td><td>&quot;4&quot;</td></tr><tr><td>4</td><td>&quot;NA&quot;</td><td>&quot;NA&quot;</td><td>&quot;NA&quot;</td><td>&quot;NA&quot;</td><td>&quot;NA&quot;</td></tr><tr><td>5</td><td>&quot;NA&quot;</td><td>&quot;NA&quot;</td><td>&quot;NA&quot;</td><td>&quot;NA&quot;</td><td>&quot;NA&quot;</td></tr></tbody></table></div>"
      ],
      "text/plain": [
       "shape: (5, 6)\n",
       "┌────────────┬──────────────────┬────────────┬──────────────────┬─────────────────┬──────────────┐\n",
       "│ SUBJECT_ID ┆ ASTHMA_START     ┆ ASTHMA_END ┆ FIRST_ASTHMARX   ┆ LAST_ASTHMARX   ┆ NUM_ASTHMARX │\n",
       "│ ---        ┆ ---              ┆ ---        ┆ ---              ┆ ---             ┆ ---          │\n",
       "│ i64        ┆ str              ┆ str        ┆ str              ┆ str             ┆ str          │\n",
       "╞════════════╪══════════════════╪════════════╪══════════════════╪═════════════════╪══════════════╡\n",
       "│ 1          ┆ NA               ┆ NA         ┆ NA               ┆ NA              ┆ NA           │\n",
       "│ 2          ┆ NA               ┆ NA         ┆ 12.2628336755647 ┆ 18.880219028063 ┆ 2            │\n",
       "│ 3          ┆ 5.12799452429843 ┆ NA         ┆ 1.40451745379877 ┆ 6.1574264202601 ┆ 4            │\n",
       "│ 4          ┆ NA               ┆ NA         ┆ NA               ┆ NA              ┆ NA           │\n",
       "│ 5          ┆ NA               ┆ NA         ┆ NA               ┆ NA              ┆ NA           │\n",
       "└────────────┴──────────────────┴────────────┴──────────────────┴─────────────────┴──────────────┘"
      ]
     },
     "execution_count": 16,
     "metadata": {},
     "output_type": "execute_result"
    }
   ],
   "source": [
    "# Create a dataframe containing: SUBJECT_ID, ASTHMA_START, ASTHMA_END, FIRST_ASTHMARX, LAST_ASTHMARX, and NUM_ASTHMARX\n",
    "asthma_df = filtered_df.select(pl.col('SUBJECT_ID', 'ASTHMA_START', 'ASTHMA_END', 'FIRST_ASTHMARX', 'LAST_ASTHMARX', 'NUM_ASTHMARX'))\n",
    "\n",
    "asthma_df.head()"
   ]
  },
  {
   "cell_type": "code",
   "execution_count": 19,
   "metadata": {},
   "outputs": [
    {
     "data": {
      "text/html": [
       "<div><style>\n",
       ".dataframe > thead > tr,\n",
       ".dataframe > tbody > tr {\n",
       "  text-align: right;\n",
       "  white-space: pre-wrap;\n",
       "}\n",
       "</style>\n",
       "<small>shape: (5, 6)</small><table border=\"1\" class=\"dataframe\"><thead><tr><th>SUBJECT_ID</th><th>ALLERGIC_RHINITIS_START</th><th>ALLERGIC_RHINITIS_END</th><th>FIRST_ASTHMARX</th><th>LAST_ASTHMARX</th><th>NUM_ASTHMARX</th></tr><tr><td>i64</td><td>str</td><td>str</td><td>str</td><td>str</td><td>str</td></tr></thead><tbody><tr><td>1</td><td>&quot;NA&quot;</td><td>&quot;NA&quot;</td><td>&quot;NA&quot;</td><td>&quot;NA&quot;</td><td>&quot;NA&quot;</td></tr><tr><td>2</td><td>&quot;NA&quot;</td><td>&quot;NA&quot;</td><td>&quot;12.26283367556…</td><td>&quot;18.88021902806…</td><td>&quot;2&quot;</td></tr><tr><td>3</td><td>&quot;3.917864476386…</td><td>&quot;6.157426420260…</td><td>&quot;1.404517453798…</td><td>&quot;6.157426420260…</td><td>&quot;4&quot;</td></tr><tr><td>4</td><td>&quot;NA&quot;</td><td>&quot;NA&quot;</td><td>&quot;NA&quot;</td><td>&quot;NA&quot;</td><td>&quot;NA&quot;</td></tr><tr><td>5</td><td>&quot;NA&quot;</td><td>&quot;NA&quot;</td><td>&quot;NA&quot;</td><td>&quot;NA&quot;</td><td>&quot;NA&quot;</td></tr></tbody></table></div>"
      ],
      "text/plain": [
       "shape: (5, 6)\n",
       "┌────────────┬─────────────────┬─────────────────┬─────────────────┬────────────────┬──────────────┐\n",
       "│ SUBJECT_ID ┆ ALLERGIC_RHINIT ┆ ALLERGIC_RHINIT ┆ FIRST_ASTHMARX  ┆ LAST_ASTHMARX  ┆ NUM_ASTHMARX │\n",
       "│ ---        ┆ IS_START        ┆ IS_END          ┆ ---             ┆ ---            ┆ ---          │\n",
       "│ i64        ┆ ---             ┆ ---             ┆ str             ┆ str            ┆ str          │\n",
       "│            ┆ str             ┆ str             ┆                 ┆                ┆              │\n",
       "╞════════════╪═════════════════╪═════════════════╪═════════════════╪════════════════╪══════════════╡\n",
       "│ 1          ┆ NA              ┆ NA              ┆ NA              ┆ NA             ┆ NA           │\n",
       "│ 2          ┆ NA              ┆ NA              ┆ 12.262833675564 ┆ 18.88021902806 ┆ 2            │\n",
       "│            ┆                 ┆                 ┆ 7               ┆ 3              ┆              │\n",
       "│ 3          ┆ 3.9178644763860 ┆ 6.1574264202601 ┆ 1.4045174537987 ┆ 6.157426420260 ┆ 4            │\n",
       "│            ┆ 4               ┆                 ┆ 7               ┆ 1              ┆              │\n",
       "│ 4          ┆ NA              ┆ NA              ┆ NA              ┆ NA             ┆ NA           │\n",
       "│ 5          ┆ NA              ┆ NA              ┆ NA              ┆ NA             ┆ NA           │\n",
       "└────────────┴─────────────────┴─────────────────┴─────────────────┴────────────────┴──────────────┘"
      ]
     },
     "execution_count": 19,
     "metadata": {},
     "output_type": "execute_result"
    }
   ],
   "source": [
    "# Create a dataframe containing: SUBJECT_ID, ALLERGIC_RHINITIS_START, ALLERGIC_RHINITIS_END, FIRST_ASTHMARX, LAST_ASTHMARX, and NUM_ASTHMARX\n",
    "rhinitis_df = filtered_df.select(pl.col('SUBJECT_ID', 'ALLERGIC_RHINITIS_START', 'ALLERGIC_RHINITIS_END', 'FIRST_ASTHMARX', 'LAST_ASTHMARX', 'NUM_ASTHMARX'))\n",
    "\n",
    "rhinitis_df.head()"
   ]
  },
  {
   "cell_type": "code",
   "execution_count": 20,
   "metadata": {},
   "outputs": [
    {
     "data": {
      "text/html": [
       "<div><style>\n",
       ".dataframe > thead > tr,\n",
       ".dataframe > tbody > tr {\n",
       "  text-align: right;\n",
       "  white-space: pre-wrap;\n",
       "}\n",
       "</style>\n",
       "<small>shape: (5, 6)</small><table border=\"1\" class=\"dataframe\"><thead><tr><th>SUBJECT_ID</th><th>ATOPIC_DERM_START</th><th>ATOPIC_DERM_END</th><th>FIRST_ASTHMARX</th><th>LAST_ASTHMARX</th><th>NUM_ASTHMARX</th></tr><tr><td>i64</td><td>str</td><td>str</td><td>str</td><td>str</td><td>str</td></tr></thead><tbody><tr><td>1</td><td>&quot;NA&quot;</td><td>&quot;NA&quot;</td><td>&quot;NA&quot;</td><td>&quot;NA&quot;</td><td>&quot;NA&quot;</td></tr><tr><td>2</td><td>&quot;NA&quot;</td><td>&quot;NA&quot;</td><td>&quot;12.26283367556…</td><td>&quot;18.88021902806…</td><td>&quot;2&quot;</td></tr><tr><td>3</td><td>&quot;4.884325804243…</td><td>&quot;NA&quot;</td><td>&quot;1.404517453798…</td><td>&quot;6.157426420260…</td><td>&quot;4&quot;</td></tr><tr><td>4</td><td>&quot;NA&quot;</td><td>&quot;NA&quot;</td><td>&quot;NA&quot;</td><td>&quot;NA&quot;</td><td>&quot;NA&quot;</td></tr><tr><td>5</td><td>&quot;NA&quot;</td><td>&quot;NA&quot;</td><td>&quot;NA&quot;</td><td>&quot;NA&quot;</td><td>&quot;NA&quot;</td></tr></tbody></table></div>"
      ],
      "text/plain": [
       "shape: (5, 6)\n",
       "┌────────────┬─────────────────┬─────────────────┬─────────────────┬────────────────┬──────────────┐\n",
       "│ SUBJECT_ID ┆ ATOPIC_DERM_STA ┆ ATOPIC_DERM_END ┆ FIRST_ASTHMARX  ┆ LAST_ASTHMARX  ┆ NUM_ASTHMARX │\n",
       "│ ---        ┆ RT              ┆ ---             ┆ ---             ┆ ---            ┆ ---          │\n",
       "│ i64        ┆ ---             ┆ str             ┆ str             ┆ str            ┆ str          │\n",
       "│            ┆ str             ┆                 ┆                 ┆                ┆              │\n",
       "╞════════════╪═════════════════╪═════════════════╪═════════════════╪════════════════╪══════════════╡\n",
       "│ 1          ┆ NA              ┆ NA              ┆ NA              ┆ NA             ┆ NA           │\n",
       "│ 2          ┆ NA              ┆ NA              ┆ 12.262833675564 ┆ 18.88021902806 ┆ 2            │\n",
       "│            ┆                 ┆                 ┆ 7               ┆ 3              ┆              │\n",
       "│ 3          ┆ 4.8843258042436 ┆ NA              ┆ 1.4045174537987 ┆ 6.157426420260 ┆ 4            │\n",
       "│            ┆ 7               ┆                 ┆ 7               ┆ 1              ┆              │\n",
       "│ 4          ┆ NA              ┆ NA              ┆ NA              ┆ NA             ┆ NA           │\n",
       "│ 5          ┆ NA              ┆ NA              ┆ NA              ┆ NA             ┆ NA           │\n",
       "└────────────┴─────────────────┴─────────────────┴─────────────────┴────────────────┴──────────────┘"
      ]
     },
     "execution_count": 20,
     "metadata": {},
     "output_type": "execute_result"
    }
   ],
   "source": [
    "# Create a dataframe containing: SUBJECT_ID, ATOPIC_DERM_START, ATOPIC_DERM_END, FIRST_ASTHMARX, LAST_ASTHMARX, and NUM_ASTHMARX\n",
    "derm_df = filtered_df.select(pl.col('SUBJECT_ID', 'ATOPIC_DERM_START', 'ATOPIC_DERM_END', 'FIRST_ASTHMARX', 'LAST_ASTHMARX', 'NUM_ASTHMARX'))\n",
    "\n",
    "derm_df.head()"
   ]
  },
  {
   "cell_type": "code",
   "execution_count": 22,
   "metadata": {},
   "outputs": [],
   "source": [
    "# Export asthma_df, rhinitis_df, and derm_df as csv files\n",
    "asthma_df.write_csv('asthma.csv')\n",
    "\n",
    "rhinitis_df.write_csv('rhinitis.csv')\n",
    "\n",
    "derm_df.write_csv('dermatitis.csv')"
   ]
  }
 ],
 "metadata": {
  "kernelspec": {
   "display_name": "dev",
   "language": "python",
   "name": "python3"
  },
  "language_info": {
   "codemirror_mode": {
    "name": "ipython",
    "version": 3
   },
   "file_extension": ".py",
   "mimetype": "text/x-python",
   "name": "python",
   "nbconvert_exporter": "python",
   "pygments_lexer": "ipython3",
   "version": "3.10.13"
  }
 },
 "nbformat": 4,
 "nbformat_minor": 2
}
